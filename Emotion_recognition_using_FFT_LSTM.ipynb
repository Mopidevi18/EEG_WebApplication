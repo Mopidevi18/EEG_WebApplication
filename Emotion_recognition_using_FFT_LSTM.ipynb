{
  "nbformat": 4,
  "nbformat_minor": 0,
  "metadata": {
    "accelerator": "GPU",
    "colab": {
      "name": "Emotion_recognition_using_LSTM_updated.ipynb",
      "provenance": [],
      "collapsed_sections": []
    },
    "kernelspec": {
      "display_name": "Python 3",
      "name": "python3"
    }
  },
  "cells": [
    {
      "cell_type": "markdown",
      "metadata": {
        "id": "view-in-github"
      },
      "source": [
        "<a href=\"https://colab.research.google.com/github/siddhi5386/Emotion-Recognition-from-brain-EEG-signals-/blob/master/emotion%20recognition%20by%20lstm.ipynb\" target=\"_parent\"><img src=\"https://colab.research.google.com/assets/colab-badge.svg\" alt=\"Open In Colab\"/></a>"
      ]
    },
    {
      "cell_type": "code",
      "metadata": {
        "colab": {
          "base_uri": "https://localhost:8080/"
        },
        "id": "SLDaOg6d7Z3H",
        "outputId": "f28bf97f-9cad-4b84-f807-56a8616f9b9c"
      },
      "source": [
        "from google.colab import drive\n",
        "drive.mount('/content/drive')"
      ],
      "execution_count": null,
      "outputs": [
        {
          "output_type": "stream",
          "text": [
            "Mounted at /content/drive\n"
          ],
          "name": "stdout"
        }
      ]
    },
    {
      "cell_type": "code",
      "metadata": {
        "colab": {
          "base_uri": "https://localhost:8080/"
        },
        "id": "tF3gVQEkGZ8u",
        "outputId": "35a8799a-13c0-427a-e156-ba4d460aa534"
      },
      "source": [
        "!pip install git+https://github.com/forrestbao/pyeeg.git\n",
        "import numpy as np\n",
        "import pyeeg as pe\n",
        "import pickle as pickle\n",
        "import pandas as pd\n",
        "import math\n",
        "\n",
        "from sklearn import svm\n",
        "from sklearn.preprocessing import normalize\n",
        "import os\n",
        "import time"
      ],
      "execution_count": null,
      "outputs": [
        {
          "output_type": "stream",
          "text": [
            "Collecting git+https://github.com/forrestbao/pyeeg.git\n",
            "  Cloning https://github.com/forrestbao/pyeeg.git to /tmp/pip-req-build-mgrjz0r1\n",
            "  Running command git clone -q https://github.com/forrestbao/pyeeg.git /tmp/pip-req-build-mgrjz0r1\n",
            "Requirement already satisfied: numpy>=1.9.2 in /usr/local/lib/python3.7/dist-packages (from pyeeg==0.4.4) (1.19.5)\n",
            "Building wheels for collected packages: pyeeg\n",
            "  Building wheel for pyeeg (setup.py) ... \u001b[?25l\u001b[?25hdone\n",
            "  Created wheel for pyeeg: filename=pyeeg-0.4.4-py2.py3-none-any.whl size=28133 sha256=dc1feafedac4da496c4cd2ac2bc425d7549fd90d62f258dd493aa09bd5af98d7\n",
            "  Stored in directory: /tmp/pip-ephem-wheel-cache-qbdcdowg/wheels/b0/23/e4/703c908bda656959957029fa145879aa79307b2545a2ef0271\n",
            "Successfully built pyeeg\n",
            "Installing collected packages: pyeeg\n",
            "Successfully installed pyeeg-0.4.4\n"
          ],
          "name": "stdout"
        }
      ]
    },
    {
      "cell_type": "code",
      "metadata": {
        "id": "8jeRbal5Lue5"
      },
      "source": [
        ""
      ],
      "execution_count": null,
      "outputs": []
    },
    {
      "cell_type": "code",
      "metadata": {
        "id": "lm0k23zuGo65"
      },
      "source": [
        "\n",
        "import pandas as pd\n",
        "import keras.backend as K\n",
        "import numpy as np\n",
        "import pandas as pd\n",
        "from keras.models import Sequential\n",
        "from keras.layers import Dense\n",
        "from keras.models import Sequential\n",
        "from keras.layers.convolutional import Conv1D\n",
        "from keras.layers.convolutional import MaxPooling1D\n",
        "#from keras.utils import to_categorical \n",
        "from keras.layers import Flatten\n",
        "from keras.layers import Dense\n",
        "import numpy as np\n",
        "import keras\n",
        "from keras.datasets import mnist\n",
        "from keras.models import Sequential\n",
        "from keras.layers import Dense, Dropout, Flatten, Conv2D, MaxPooling2D\n",
        "from keras import backend as K\n",
        "from keras.models import Model\n",
        "import timeit\n",
        "from keras.models import Sequential\n",
        "from keras.layers.core import Flatten, Dense, Dropout\n",
        "from keras.layers.convolutional import Convolution1D, MaxPooling1D, ZeroPadding1D\n",
        "from keras.optimizers import SGD\n",
        "#import cv2, numpy as np\n",
        "import warnings\n",
        "warnings.filterwarnings('ignore')"
      ],
      "execution_count": null,
      "outputs": []
    },
    {
      "cell_type": "code",
      "metadata": {
        "colab": {
          "base_uri": "https://localhost:8080/"
        },
        "id": "AgsPdoPjGqZr",
        "outputId": "aa541297-8638-4d97-f103-36f6fe85bc24"
      },
      "source": [
        "from google.colab import drive\n",
        "drive.mount('/content/drive/')"
      ],
      "execution_count": null,
      "outputs": [
        {
          "output_type": "stream",
          "text": [
            "Drive already mounted at /content/drive/; to attempt to forcibly remount, call drive.mount(\"/content/drive/\", force_remount=True).\n"
          ],
          "name": "stdout"
        }
      ]
    },
    {
      "cell_type": "code",
      "metadata": {
        "id": "ASswKjdRGwEu"
      },
      "source": [
        "os.getcwd()\n",
        "os.chdir('/content/drive/MyDrive')"
      ],
      "execution_count": null,
      "outputs": []
    },
    {
      "cell_type": "code",
      "metadata": {
        "id": "JlTnHOiBGyxf"
      },
      "source": [
        "channel = [1,2,3,4,6,11,13,17,19,20,21,25,29,31] \n",
        "band = [4,8,12,16,25,45] \n",
        "window_size = 256\n",
        "step_size = 16 \n",
        "sample_rate = 128 \n",
        "subjectList = ['01','02','03','04','05','06','07','08','09','10','11','12','13','14','15','16','17','18','19','20']"
      ],
      "execution_count": null,
      "outputs": []
    },
    {
      "cell_type": "code",
      "metadata": {
        "colab": {
          "base_uri": "https://localhost:8080/"
        },
        "id": "38N2qe3JfFep",
        "outputId": "b61bde11-d2da-456d-f80b-1f20f0e46c7c"
      },
      "source": [
        "with open(\"/content/drive/MyDrive/BTP/data_preprocessed_python/s01.dat\", 'rb') as file:\n",
        "    subject = pickle.load(file, encoding='latin1')\n",
        "    data=subject[\"data\"][0]\n",
        "    labels=subject[\"labels\"][0]\n",
        "    print(data.shape)\n",
        "    \n"
      ],
      "execution_count": null,
      "outputs": [
        {
          "output_type": "stream",
          "text": [
            "(40, 8064)\n"
          ],
          "name": "stdout"
        }
      ]
    },
    {
      "cell_type": "code",
      "metadata": {
        "id": "kre0YyFOfFZz"
      },
      "source": [
        ""
      ],
      "execution_count": null,
      "outputs": []
    },
    {
      "cell_type": "code",
      "metadata": {
        "id": "yP_n_X4KfFVy"
      },
      "source": [
        ""
      ],
      "execution_count": null,
      "outputs": []
    },
    {
      "cell_type": "code",
      "metadata": {
        "id": "xckKnJ8qfFQB"
      },
      "source": [
        ""
      ],
      "execution_count": null,
      "outputs": []
    },
    {
      "cell_type": "code",
      "metadata": {
        "id": "Mh_qjGnPfFGN"
      },
      "source": [
        ""
      ],
      "execution_count": null,
      "outputs": []
    },
    {
      "cell_type": "code",
      "metadata": {
        "id": "dDL5twy_HS9X"
      },
      "source": [
        "def FFT_Processing (sub, channel, band, window_size, step_size, sample_rate):\n",
        "    '''\n",
        "    arguments:  string subject\n",
        "                list channel indice\n",
        "                list band\n",
        "                int window size for FFT\n",
        "                int step size for FFT\n",
        "                int sample rate for FFT\n",
        "    return:     void\n",
        "    '''\n",
        "    meta = []\n",
        "    with open(\"/content/drive/MyDrive/BTP/data_preprocessed_python/s\" + sub + '.dat', 'rb') as file:\n",
        "        print(\"sub\")\n",
        "        subject = pickle.load(file, encoding='latin1') \n",
        "        for i in range (0,40):\n",
        "            # loop over 0-39 trails\n",
        "            data = subject[\"data\"][i]\n",
        "            labels = subject[\"labels\"][i]\n",
        "            start = 0;\n",
        "\n",
        "            while start + window_size < data.shape[1]:\n",
        "                meta_array = []\n",
        "                meta_data = [] \n",
        "                for j in channel:\n",
        "                    X = data[j][start : start + window_size] \n",
        "                    Y = pe.bin_power(X, band, sample_rate) \n",
        "                    meta_data = meta_data + list(Y[0])\n",
        "\n",
        "                meta_array.append(np.array(meta_data))\n",
        "                meta_array.append(labels)\n",
        "\n",
        "                meta.append(np.array(meta_array))    \n",
        "                start = start + step_size\n",
        "                \n",
        "        meta = np.array(meta)\n",
        "        np.save('/content/drive/MyDrive/BTP/data_preprocessed_python/s' + sub, meta, allow_pickle=True, fix_imports=True)"
      ],
      "execution_count": null,
      "outputs": []
    },
    {
      "cell_type": "code",
      "metadata": {
        "id": "RmS9eW0Xah5x"
      },
      "source": [
        "with open(\"/content/drive/MyDrive/BTP/data_preprocessed_python/s01.dat\", 'rb') as file:\n",
        "    subject = pickle.load(file, encoding='latin1')"
      ],
      "execution_count": null,
      "outputs": []
    },
    {
      "cell_type": "code",
      "metadata": {
        "colab": {
          "background_save": true
        },
        "id": "qX3PI_EQJWYz"
      },
      "source": [
        "total_samples = []\n",
        "total_labels = []\n",
        "for subject in subjectList:\n",
        "  FFT_Processing (subject, channel, band, window_size, step_size, sample_rate)"
      ],
      "execution_count": null,
      "outputs": []
    },
    {
      "cell_type": "code",
      "metadata": {
        "id": "NyI_mHuRD8pw"
      },
      "source": [
        "total_samples=np.array(total_samples)\n",
        "total_labels=np.array(total_labels)"
      ],
      "execution_count": null,
      "outputs": []
    },
    {
      "cell_type": "code",
      "metadata": {
        "colab": {
          "base_uri": "https://localhost:8080/"
        },
        "id": "4KmkK6-xBJTj",
        "outputId": "fcd3a8f5-af8c-438c-ade9-c6f73deaf257"
      },
      "source": [
        "print(total_samples.shape)\n",
        "print(total_labels.shape)\n"
      ],
      "execution_count": null,
      "outputs": [
        {
          "output_type": "stream",
          "text": [
            "(32000, 8064)\n",
            "(32000, 4)\n"
          ],
          "name": "stdout"
        }
      ]
    },
    {
      "cell_type": "code",
      "metadata": {
        "colab": {
          "base_uri": "https://localhost:8080/"
        },
        "id": "BMEu7lZoOBin",
        "outputId": "d3ad481e-abb8-47fa-cac4-bb76d3ead00f"
      },
      "source": [
        "total_samples=[]\n",
        "total_labels=[]\n",
        "for subject in subjectList:\n",
        "   with open('/content/drive/MyDrive/BTP/data_preprocessed_python/s' + subject + '.npy', 'rb') as file:\n",
        "      sub = np.load(file,allow_pickle=True)\n",
        "      for i in range(sub.shape[0]):\n",
        "        total_samples.append(sub[i][0])\n",
        "        total_labels.append(sub[i][1])\n",
        "total_samples=np.array(total_samples)\n",
        "total_labels=np.array(total_labels)\n",
        "print(total_samples.shape)\n",
        "print(total_labels.shape)       \n",
        "     "
      ],
      "execution_count": null,
      "outputs": [
        {
          "output_type": "stream",
          "text": [
            "(390400, 70)\n",
            "(390400, 4)\n"
          ],
          "name": "stdout"
        }
      ]
    },
    {
      "cell_type": "code",
      "metadata": {
        "id": "3bivnFuFM7HP"
      },
      "source": [
        "##finding no of Principal components\n",
        "from sklearn.preprocessing import StandardScaler\n",
        "\n",
        "total_samples_std=StandardScaler().fit_transform(total_samples)\n",
        "cov_mat=np.cov(total_samples_std.T)\n",
        "print(cov_mat.shape)\n",
        "\n",
        "u, s, vh = np.linalg.svd(cov_mat, full_matrices=True)\n",
        "num_components=0\n",
        "total_sum=np.sum(s)\n",
        "val_sum=0\n",
        "length=s.shape[0]\n",
        "print(length)\n",
        "res=0\n",
        "for i in range(length):\n",
        "  val_sum+=s[i]\n",
        "  res=(val_sum/total_sum)*100\n",
        "  print(val_sum,res)\n",
        "  if res>=95:\n",
        "    num_components=i\n",
        "    break\n",
        "print(num_components,res)"
      ],
      "execution_count": null,
      "outputs": []
    },
    {
      "cell_type": "code",
      "metadata": {
        "colab": {
          "base_uri": "https://localhost:8080/"
        },
        "id": "7Nirm2IWbAJ2",
        "outputId": "8541b64a-554f-4993-cf6d-efd0670f1c33"
      },
      "source": [
        "val_sum=0\n",
        "res=0\n",
        "for i in range(10):\n",
        "  val_sum+=s[i]\n",
        "  print(val_sum)\n",
        "  # res=(val_sum/total_sum)*100\n",
        "  # if res>=43:\n",
        "  #   num_components=i\n",
        "  #   break\n",
        "# print(num_components,res)"
      ],
      "execution_count": null,
      "outputs": [
        {
          "output_type": "stream",
          "text": [
            "5393.869915374216\n",
            "6254.774000048762\n",
            "6721.0514240034245\n",
            "6986.491784366561\n",
            "7162.051823295925\n",
            "7295.994352773174\n",
            "7393.385421144539\n",
            "7465.151686531265\n",
            "7520.705182657942\n",
            "7565.254894231411\n"
          ],
          "name": "stdout"
        }
      ]
    },
    {
      "cell_type": "code",
      "metadata": {
        "id": "G_ltyqm4M6_z"
      },
      "source": [
        "def fit_transform(X,num_components,cov_mat):\n",
        "  eig_vals,eig_vecs = np.linalg.eigh(cov_mat)\n",
        "  eig_pairs = [(eig_vals[i], eig_vecs[:,i]) for i in range(len(eig_vals))]\n",
        "  eig_pairs.sort(key=lambda x: x[0], reverse=True)\n",
        "  nw_eig_vecs=[]\n",
        "  for i in range(num_components):\n",
        "      nw_eig_vecs.append(eig_pairs[i][1])\n",
        "  nw_eig_vecs=np.array(nw_eig_vecs)\n",
        "  print(nw_eig_vecs.shape)\n",
        "  required_components = np.dot(X,nw_eig_vecs.T)\n",
        "  return required_components"
      ],
      "execution_count": null,
      "outputs": []
    },
    {
      "cell_type": "code",
      "metadata": {
        "colab": {
          "base_uri": "https://localhost:8080/"
        },
        "id": "zEw8c6_JWyQ8",
        "outputId": "a1d17ee0-5a09-446c-ece6-8eece0329122"
      },
      "source": [
        "new_total_samples=fit_transform(total_samples_std,num_components,cov_mat)\n",
        "print(new_total_samples.shape)"
      ],
      "execution_count": null,
      "outputs": [
        {
          "output_type": "stream",
          "text": [
            "(13, 70)\n",
            "(390400, 13)\n"
          ],
          "name": "stdout"
        }
      ]
    },
    {
      "cell_type": "code",
      "metadata": {
        "id": "whcCkuhuM63n"
      },
      "source": [
        "# from sklearn.decomposition import PCA as _PCA\n",
        "# _pca = _PCA(num_components)\n",
        "# newX = _pca.fit_transform(total_samples_std)\n",
        "# print(newX[0])"
      ],
      "execution_count": null,
      "outputs": []
    },
    {
      "cell_type": "code",
      "metadata": {
        "id": "hyarTSthbMZa"
      },
      "source": [
        ""
      ],
      "execution_count": null,
      "outputs": []
    },
    {
      "cell_type": "code",
      "metadata": {
        "colab": {
          "background_save": true
        },
        "id": "RhIAfob8JeDZ",
        "outputId": "e7402fa5-c246-4d3e-be30-528736d3715a"
      },
      "source": [
        "\n",
        "data_training = []\n",
        "label_training = []\n",
        "data_testing = []\n",
        "label_testing = []\n",
        "\n",
        "for subjects in subjectList:\n",
        "\n",
        "    with open('/content/drive/MyDrive/BTP/data_preprocessed_python/s' + subjects + '.npy', 'rb') as file:\n",
        "      sub = np.load(file,allow_pickle=True)\n",
        "      for i in range (0,sub.shape[0]):\n",
        "        if i % 4 == 0:\n",
        "          data_testing.append(sub[i][0])\n",
        "          label_testing.append(sub[i][1])\n",
        "        else:\n",
        "          data_training.append(sub[i][0])\n",
        "          label_training.append(sub[i][1])\n",
        "\n",
        "np.save('/content/drive/MyDrive/BTP/data_preprocessed_python/data_training', np.array(data_training), allow_pickle=True, fix_imports=True)\n",
        "np.save('/content/drive/MyDrive/BTP/data_preprocessed_python/label_training', np.array(label_training), allow_pickle=True, fix_imports=True)\n",
        "print(\"training dataset:\", np.array(data_training).shape, np.array(label_training).shape)\n",
        "\n",
        "np.save('/content/drive/MyDrive/BTP/data_preprocessed_python/data_testing', np.array(data_testing), allow_pickle=True, fix_imports=True)\n",
        "np.save('/content/drive/MyDrive/BTP/data_preprocessed_python/label_testing', np.array(label_testing), allow_pickle=True, fix_imports=True)\n",
        "print(\"testing dataset:\", np.array(data_testing).shape, np.array(label_testing).shape)"
      ],
      "execution_count": null,
      "outputs": [
        {
          "output_type": "stream",
          "text": [
            "training dataset: (292800, 70) (292800, 4)\n",
            "testing dataset: (97600, 70) (97600, 4)\n"
          ],
          "name": "stdout"
        }
      ]
    },
    {
      "cell_type": "code",
      "metadata": {
        "colab": {
          "background_save": true
        },
        "id": "ABWVaT4-MvT4"
      },
      "source": [
        "\n",
        "with open('/content/drive/MyDrive/BTP/data_preprocessed_python/data_training.npy', 'rb') as fileTrain:\n",
        "    X  = np.load(fileTrain)\n",
        "    \n",
        "with open('/content/drive/MyDrive/BTP/data_preprocessed_python/label_training.npy', 'rb') as fileTrainL:\n",
        "    Y  = np.load(fileTrainL)\n",
        "    \n",
        "X = normalize(X)\n",
        "Z = np.ravel(Y[:, [1]])\n",
        "\n",
        "Arousal_Train = np.ravel(Y[:, [0]])\n",
        "Valence_Train = np.ravel(Y[:, [1]])\n",
        "Domain_Train = np.ravel(Y[:, [2]])\n",
        "Like_Train = np.ravel(Y[:, [3]])"
      ],
      "execution_count": null,
      "outputs": []
    },
    {
      "cell_type": "code",
      "metadata": {
        "colab": {
          "background_save": true
        },
        "id": "JJRTIDzsVKVJ",
        "outputId": "046b79ae-cb1d-478b-a788-dce74f6f1502"
      },
      "source": [
        "X.shape"
      ],
      "execution_count": null,
      "outputs": [
        {
          "output_type": "execute_result",
          "data": {
            "text/plain": [
              "(292800, 70)"
            ]
          },
          "metadata": {
            "tags": []
          },
          "execution_count": 0
        }
      ]
    },
    {
      "cell_type": "code",
      "metadata": {
        "colab": {
          "background_save": true
        },
        "id": "ETTgk5t8QSMR",
        "outputId": "a08f9398-243e-438c-a87b-5f7a906a1bb0"
      },
      "source": [
        "from tensorflow.keras.utils import to_categorical \n",
        "from tensorflow.keras.utils import to_categorical\n",
        "y_train = to_categorical(Z)\n",
        "y_train"
      ],
      "execution_count": null,
      "outputs": [
        {
          "output_type": "execute_result",
          "data": {
            "text/plain": [
              "array([[0., 0., 0., ..., 1., 0., 0.],\n",
              "       [0., 0., 0., ..., 1., 0., 0.],\n",
              "       [0., 0., 0., ..., 1., 0., 0.],\n",
              "       ...,\n",
              "       [0., 0., 1., ..., 0., 0., 0.],\n",
              "       [0., 0., 1., ..., 0., 0., 0.],\n",
              "       [0., 0., 1., ..., 0., 0., 0.]], dtype=float32)"
            ]
          },
          "metadata": {
            "tags": []
          },
          "execution_count": 0
        }
      ]
    },
    {
      "cell_type": "code",
      "metadata": {
        "colab": {
          "background_save": true
        },
        "id": "s1rZXI84QTgw"
      },
      "source": [
        "x_train = np.array(X[:])"
      ],
      "execution_count": null,
      "outputs": []
    },
    {
      "cell_type": "code",
      "metadata": {
        "colab": {
          "background_save": true
        },
        "id": "TQgp1409QXiR"
      },
      "source": [
        "\n",
        "with open('/content/drive/MyDrive/BTP/data_preprocessed_python/data_testing.npy', 'rb') as fileTrain:\n",
        "    M  = np.load(fileTrain)\n",
        "    \n",
        "with open('/content/drive/MyDrive/BTP/data_preprocessed_python/label_testing.npy', 'rb') as fileTrainL:\n",
        "    N  = np.load(fileTrainL)\n",
        "\n",
        "M = normalize(M)\n",
        "L = np.ravel(N[:, [1]])\n",
        "\n",
        "Arousal_Test = np.ravel(N[:, [0]])\n",
        "Valence_Test = np.ravel(N[:, [1]])\n",
        "Domain_Test = np.ravel(N[:, [2]])\n",
        "Like_Test = np.ravel(N[:, [3]])"
      ],
      "execution_count": null,
      "outputs": []
    },
    {
      "cell_type": "code",
      "metadata": {
        "colab": {
          "background_save": true
        },
        "id": "A5bP6dwcRmSK"
      },
      "source": [
        "x_test = np.array(M[:])"
      ],
      "execution_count": null,
      "outputs": []
    },
    {
      "cell_type": "code",
      "metadata": {
        "colab": {
          "background_save": true
        },
        "id": "z7zknJnQRmfs",
        "outputId": "d978db78-2b41-473b-b42c-4556df66d362"
      },
      "source": [
        "from tensorflow.keras.utils import to_categorical \n",
        "from tensorflow.keras.utils import to_categorical\n",
        "y_test = to_categorical(L)\n",
        "y_test"
      ],
      "execution_count": null,
      "outputs": [
        {
          "output_type": "execute_result",
          "data": {
            "text/plain": [
              "array([[0., 0., 0., ..., 1., 0., 0.],\n",
              "       [0., 0., 0., ..., 1., 0., 0.],\n",
              "       [0., 0., 0., ..., 1., 0., 0.],\n",
              "       ...,\n",
              "       [0., 0., 1., ..., 0., 0., 0.],\n",
              "       [0., 0., 1., ..., 0., 0., 0.],\n",
              "       [0., 0., 1., ..., 0., 0., 0.]], dtype=float32)"
            ]
          },
          "metadata": {
            "tags": []
          },
          "execution_count": 0
        }
      ]
    },
    {
      "cell_type": "code",
      "metadata": {
        "colab": {
          "background_save": true
        },
        "id": "qTnzEnFuQ5RK"
      },
      "source": [
        "\n",
        "from sklearn.preprocessing import StandardScaler\n",
        "scaler = StandardScaler()\n",
        "x_train = scaler.fit_transform(x_train)\n",
        "x_test = scaler.fit_transform(x_test)"
      ],
      "execution_count": null,
      "outputs": []
    },
    {
      "cell_type": "code",
      "metadata": {
        "colab": {
          "background_save": true
        },
        "id": "9sAV4SCdRA_E"
      },
      "source": [
        "x_train = x_train.reshape(x_train.shape[0],x_train.shape[1], 1)\n",
        "x_test = x_test.reshape(x_test.shape[0],x_test.shape[1], 1)"
      ],
      "execution_count": null,
      "outputs": []
    },
    {
      "cell_type": "code",
      "metadata": {
        "colab": {
          "background_save": true
        },
        "id": "awpkfh90RBxV",
        "outputId": "b012aa04-946e-4595-e597-f3963696c144"
      },
      "source": [
        "x_train.shape"
      ],
      "execution_count": null,
      "outputs": [
        {
          "output_type": "execute_result",
          "data": {
            "text/plain": [
              "(292800, 70, 1)"
            ]
          },
          "metadata": {
            "tags": []
          },
          "execution_count": 0
        }
      ]
    },
    {
      "cell_type": "code",
      "metadata": {
        "colab": {
          "background_save": true
        },
        "id": "IjKJEOSSRFYm"
      },
      "source": [
        "\n",
        "batch_size = 256\n",
        "num_classes = 10\n",
        "epochs = 200\n",
        "input_shape=(x_train.shape[1], 1)"
      ],
      "execution_count": null,
      "outputs": []
    },
    {
      "cell_type": "code",
      "metadata": {
        "colab": {
          "background_save": true
        },
        "id": "n1IyrpeyRHXs",
        "outputId": "9cf9349c-c329-4186-afc6-9b94030d181a"
      },
      "source": [
        "\n",
        "print(input_shape)"
      ],
      "execution_count": null,
      "outputs": [
        {
          "output_type": "stream",
          "text": [
            "(70, 1)\n"
          ],
          "name": "stdout"
        }
      ]
    },
    {
      "cell_type": "code",
      "metadata": {
        "colab": {
          "background_save": true
        },
        "id": "q-mHGsfjRKQn"
      },
      "source": [
        "from keras.layers import Convolution1D, ZeroPadding1D, MaxPooling1D, BatchNormalization, Activation, Dropout, Flatten, Dense\n",
        "from keras.regularizers import l2"
      ],
      "execution_count": null,
      "outputs": []
    },
    {
      "cell_type": "code",
      "metadata": {
        "colab": {
          "background_save": true
        },
        "id": "0c-nBJyv7yIx"
      },
      "source": [
        "from keras import backend as K\n",
        "\n",
        "def recall_m(y_true, y_pred):\n",
        "    true_positives = K.sum(K.round(K.clip(y_true * y_pred, 0, 1)))\n",
        "    possible_positives = K.sum(K.round(K.clip(y_true, 0, 1)))\n",
        "    recall = true_positives / (possible_positives + K.epsilon())\n",
        "    return recall\n",
        "\n",
        "def precision_m(y_true, y_pred):\n",
        "    true_positives = K.sum(K.round(K.clip(y_true * y_pred, 0, 1)))\n",
        "    predicted_positives = K.sum(K.round(K.clip(y_pred, 0, 1)))\n",
        "    precision = true_positives / (predicted_positives + K.epsilon())\n",
        "    return precision\n",
        "\n",
        "def f1_m(y_true, y_pred):\n",
        "    precision = precision_m(y_true, y_pred)\n",
        "    recall = recall_m(y_true, y_pred)\n",
        "    return 2*((precision*recall)/(precision+recall+K.epsilon()))\n",
        "\n",
        "# # compile the model\n",
        "# model.compile(optimizer='adam', loss='binary_crossentropy', metrics=['acc',f1_m,precision_m, recall_m])\n",
        "\n",
        "# # fit the model\n",
        "# history = model.fit(Xtrain, ytrain, validation_split=0.3, epochs=10, verbose=0)\n",
        "\n",
        "# evaluate the model\n"
      ],
      "execution_count": null,
      "outputs": []
    },
    {
      "cell_type": "code",
      "metadata": {
        "colab": {
          "background_save": true
        },
        "id": "8kqlW2jkMEvJ",
        "outputId": "475f281e-27e7-4b98-a456-438170f75f04"
      },
      "source": [
        "  import time\n",
        "  start_time = time.time()\n",
        "  from keras.regularizers import l2\n",
        "  from keras.layers import Bidirectional\n",
        "  from keras.layers import LSTM\n",
        "\n",
        "  model = Sequential()\n",
        " \n",
        "  model.add(Bidirectional(LSTM(128, return_sequences=True), input_shape=input_shape))\n",
        "  model.add(Dropout(0.6))\n",
        "\n",
        "  model.add(LSTM(units = 256, return_sequences = True))  \n",
        "  model.add(Dropout(0.6))\n",
        "\n",
        "  model.add(LSTM(units = 64, return_sequences = True))  \n",
        "  model.add(Dropout(0.6))\n",
        "\n",
        "  model.add(LSTM(units = 64, return_sequences = True))  \n",
        "  model.add(Dropout(0.4))\n",
        "\n",
        "  model.add(LSTM(units = 32))\n",
        "  model.add(Dropout(0.4))\n",
        "\n",
        "  model.add(Dense(units = 16))\n",
        "  model.add(Activation('relu'))\n",
        "\n",
        "  model.add(Dense(units = num_classes))\n",
        "  model.add(Activation('softmax'))\n",
        "  model.compile(optimizer =\"adam\", loss =keras.losses.categorical_crossentropy,metrics=['acc',f1_m,precision_m, recall_m])\n",
        "  model.summary()\n",
        "  m=model.fit(x_train, y_train,epochs=200,batch_size=256,verbose=1,validation_data=(x_test, y_test))\n",
        "  print(\"--- %s seconds ---\" % (time.time() - start_time))"
      ],
      "execution_count": null,
      "outputs": [
        {
          "output_type": "stream",
          "text": [
            "Model: \"sequential\"\n",
            "_________________________________________________________________\n",
            "Layer (type)                 Output Shape              Param #   \n",
            "=================================================================\n",
            "bidirectional (Bidirectional (None, 70, 256)           133120    \n",
            "_________________________________________________________________\n",
            "dropout (Dropout)            (None, 70, 256)           0         \n",
            "_________________________________________________________________\n",
            "lstm_1 (LSTM)                (None, 70, 256)           525312    \n",
            "_________________________________________________________________\n",
            "dropout_1 (Dropout)          (None, 70, 256)           0         \n",
            "_________________________________________________________________\n",
            "lstm_2 (LSTM)                (None, 70, 64)            82176     \n",
            "_________________________________________________________________\n",
            "dropout_2 (Dropout)          (None, 70, 64)            0         \n",
            "_________________________________________________________________\n",
            "lstm_3 (LSTM)                (None, 70, 64)            33024     \n",
            "_________________________________________________________________\n",
            "dropout_3 (Dropout)          (None, 70, 64)            0         \n",
            "_________________________________________________________________\n",
            "lstm_4 (LSTM)                (None, 32)                12416     \n",
            "_________________________________________________________________\n",
            "dropout_4 (Dropout)          (None, 32)                0         \n",
            "_________________________________________________________________\n",
            "dense (Dense)                (None, 16)                528       \n",
            "_________________________________________________________________\n",
            "activation (Activation)      (None, 16)                0         \n",
            "_________________________________________________________________\n",
            "dense_1 (Dense)              (None, 10)                170       \n",
            "_________________________________________________________________\n",
            "activation_1 (Activation)    (None, 10)                0         \n",
            "=================================================================\n",
            "Total params: 786,746\n",
            "Trainable params: 786,746\n",
            "Non-trainable params: 0\n",
            "_________________________________________________________________\n",
            "Epoch 1/200\n",
            " 744/1144 [==================>...........] - ETA: 15:48 - loss: 2.0051 - acc: 0.2136 - f1_m: 3.1424e-05 - precision_m: 0.0037 - recall_m: 1.5782e-05"
          ],
          "name": "stdout"
        }
      ]
    },
    {
      "cell_type": "code",
      "metadata": {
        "id": "7sO_7Ov2MEzA"
      },
      "source": [
        "score = model.evaluate(x_test, y_test, verbose=1)\n",
        "print(model.metrics_names)\n",
        "print(score)\n",
        "print('Test loss:', score[0])\n",
        "print('Test accuracy:', score[1])\n",
        "loss, accuracy, f1_score, precision, recall = model.evaluate(x_test, y_test, verbose=0)\n"
      ],
      "execution_count": null,
      "outputs": []
    },
    {
      "cell_type": "code",
      "metadata": {
        "id": "5T5AO8pO8mqH"
      },
      "source": [
        "print(loss, accuracy, f1_score, precision, recall)"
      ],
      "execution_count": null,
      "outputs": []
    },
    {
      "cell_type": "code",
      "metadata": {
        "id": "-efHnyavME21"
      },
      "source": [
        "import matplotlib.pyplot as plt\n",
        "print(m.history.keys())\n",
        "# summarize history for accuracy\n",
        "plt.plot(m.history['accuracy'])\n",
        "plt.plot(m.history['val_accuracy'])\n",
        "plt.title('model accuracy')\n",
        "plt.ylabel('accuracy')\n",
        "plt.xlabel('epoch')\n",
        "plt.legend(['train', 'test'], loc='upper left')\n",
        "plt.show()\n"
      ],
      "execution_count": null,
      "outputs": []
    },
    {
      "cell_type": "code",
      "metadata": {
        "id": "KOGAS8W-ME5i"
      },
      "source": [
        "# summarize history for loss\n",
        "plt.plot(m.history['loss'])\n",
        "plt.plot(m.history['val_loss'])\n",
        "plt.title('model loss')\n",
        "plt.ylabel('loss')\n",
        "plt.xlabel('epoch')\n",
        "plt.legend(['train', 'test'], loc='upper left')\n",
        "plt.show()"
      ],
      "execution_count": null,
      "outputs": []
    },
    {
      "cell_type": "code",
      "metadata": {
        "id": "al-HTvN0ME87"
      },
      "source": [
        "plt.plot(m.history['val_accuracy'])\n",
        "plt.plot(m.history['val_loss'])\n",
        "plt.title('test model')\n",
        "plt.ylabel('test accuracy')\n",
        "plt.xlabel('test loss')\n",
        "plt.show()"
      ],
      "execution_count": null,
      "outputs": []
    },
    {
      "cell_type": "code",
      "metadata": {
        "id": "nDZKzIL3ME_t"
      },
      "source": [
        ""
      ],
      "execution_count": null,
      "outputs": []
    },
    {
      "cell_type": "code",
      "metadata": {
        "colab": {
          "base_uri": "https://localhost:8080/",
          "height": 599
        },
        "id": "7yOindOjMFDJ",
        "outputId": "2f52b8f4-55cf-4ba3-e248-929425a3e7a1"
      },
      "source": [
        "y_pred=model.predict_classes(x_test)\n",
        "from sklearn.metrics import confusion_matrix\n",
        "import numpy as np\n",
        "y_test=np.argmax(y_test, axis=1)\n",
        "cmatrix=confusion_matrix(y_test, y_pred)\n",
        "import seaborn as sns\n",
        "figure = plt.figure(figsize=(8, 8))\n",
        "sns.heatmap(cmatrix, annot=True,cmap=plt.cm.Blues)\n",
        "plt.tight_layout()\n",
        "plt.ylabel('True label')\n",
        "plt.xlabel('Predicted label')\n",
        "plt.show()"
      ],
      "execution_count": null,
      "outputs": [
        {
          "output_type": "display_data",
          "data": {
            "image/png": "[encoded data removed]",
            "text/plain": [
              "<Figure size 576x576 with 2 Axes>"
            ]
          },
          "metadata": {
            "tags": []
          }
        }
      ]
    },
    {
      "cell_type": "code",
      "metadata": {
        "id": "u-sVlJy1P4Bu"
      },
      "source": [
        ""
      ],
      "execution_count": null,
      "outputs": []
    },
    {
      "cell_type": "code",
      "metadata": {
        "id": "ffjbx3-SQZNM"
      },
      "source": [
        ""
      ],
      "execution_count": null,
      "outputs": []
    }
  ]
}