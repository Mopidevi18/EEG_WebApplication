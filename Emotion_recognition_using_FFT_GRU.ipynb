{
  "nbformat": 4,
  "nbformat_minor": 0,
  "metadata": {
    "colab": {
      "name": "Emotion_recognition_using_GRU[20P]_final.ipynb",
      "provenance": [],
      "collapsed_sections": []
    },
    "kernelspec": {
      "display_name": "Python 3",
      "name": "python3"
    },
    "accelerator": "GPU"
  },
  "cells": [
    {
      "cell_type": "markdown",
      "metadata": {
        "id": "view-in-github"
      },
      "source": [
        "<a href=\"https://colab.research.google.com/github/siddhi5386/Emotion-Recognition-from-brain-EEG-signals-/blob/master/emotion%20recognition%20by%20lstm.ipynb\" target=\"_parent\"><img src=\"https://colab.research.google.com/assets/colab-badge.svg\" alt=\"Open In Colab\"/></a>"
      ]
    },
    {
      "cell_type": "code",
      "metadata": {
        "colab": {
          "base_uri": "https://localhost:8080/"
        },
        "id": "SLDaOg6d7Z3H",
        "outputId": "659f1fa5-f3f6-47e6-8b84-d341f82963ac"
      },
      "source": [
        "from google.colab import drive\n",
        "drive.mount('/content/drive')"
      ],
      "execution_count": null,
      "outputs": [
        {
          "output_type": "stream",
          "name": "stdout",
          "text": [
            "Mounted at /content/drive\n"
          ]
        }
      ]
    },
    {
      "cell_type": "code",
      "metadata": {
        "colab": {
          "base_uri": "https://localhost:8080/"
        },
        "id": "tF3gVQEkGZ8u",
        "outputId": "b46d790a-3c8d-41e0-bb9e-7b1c0ff9bfe9"
      },
      "source": [
        "!pip install git+https://github.com/forrestbao/pyeeg.git\n",
        "import numpy as np\n",
        "import pyeeg as pe\n",
        "import pickle as pickle\n",
        "import pandas as pd\n",
        "import math\n",
        "\n",
        "from sklearn import svm\n",
        "from sklearn.preprocessing import normalize\n",
        "\n",
        "import os\n",
        "import time"
      ],
      "execution_count": null,
      "outputs": [
        {
          "output_type": "stream",
          "name": "stdout",
          "text": [
            "Collecting git+https://github.com/forrestbao/pyeeg.git\n",
            "  Cloning https://github.com/forrestbao/pyeeg.git to /tmp/pip-req-build-bkslg_pj\n",
            "  Running command git clone -q https://github.com/forrestbao/pyeeg.git /tmp/pip-req-build-bkslg_pj\n",
            "Requirement already satisfied: numpy>=1.9.2 in /usr/local/lib/python3.7/dist-packages (from pyeeg==0.4.4) (1.19.5)\n",
            "Building wheels for collected packages: pyeeg\n",
            "  Building wheel for pyeeg (setup.py) ... \u001b[?25l\u001b[?25hdone\n",
            "  Created wheel for pyeeg: filename=pyeeg-0.4.4-py2.py3-none-any.whl size=28132 sha256=538e053305f85953c7ff2cead5119992e6971fefe24c6dbdc0b7f23daf309a7f\n",
            "  Stored in directory: /tmp/pip-ephem-wheel-cache-8cu39kqs/wheels/b0/23/e4/703c908bda656959957029fa145879aa79307b2545a2ef0271\n",
            "Successfully built pyeeg\n",
            "Installing collected packages: pyeeg\n",
            "Successfully installed pyeeg-0.4.4\n"
          ]
        }
      ]
    },
    {
      "cell_type": "code",
      "metadata": {
        "colab": {
          "base_uri": "https://localhost:8080/"
        },
        "id": "8jeRbal5Lue5",
        "outputId": "56b4b857-4110-4779-f044-29b71932eaf1"
      },
      "source": [
        "!pip install git+https://github.com/forrestbao/pyeeg.git"
      ],
      "execution_count": null,
      "outputs": [
        {
          "output_type": "stream",
          "name": "stdout",
          "text": [
            "Collecting git+https://github.com/forrestbao/pyeeg.git\n",
            "  Cloning https://github.com/forrestbao/pyeeg.git to /tmp/pip-req-build-hbd9wcq3\n",
            "  Running command git clone -q https://github.com/forrestbao/pyeeg.git /tmp/pip-req-build-hbd9wcq3\n",
            "Requirement already satisfied: numpy>=1.9.2 in /usr/local/lib/python3.7/dist-packages (from pyeeg==0.4.4) (1.19.5)\n"
          ]
        }
      ]
    },
    {
      "cell_type": "code",
      "metadata": {
        "id": "lm0k23zuGo65"
      },
      "source": [
        "\n",
        "import pandas as pd\n",
        "import keras.backend as K\n",
        "import numpy as np\n",
        "import pandas as pd\n",
        "from keras.models import Sequential\n",
        "from keras.layers import Dense\n",
        "from keras.models import Sequential\n",
        "from keras.layers.convolutional import Conv1D\n",
        "from keras.layers.convolutional import MaxPooling1D\n",
        "#from keras.utils import to_categorical \n",
        "from keras.layers import Flatten\n",
        "from keras.layers import Dense\n",
        "import numpy as np\n",
        "import keras\n",
        "from keras.datasets import mnist\n",
        "from keras.models import Sequential\n",
        "from keras.layers import Dense, Dropout, Flatten, Conv2D, MaxPooling2D\n",
        "from keras import backend as K\n",
        "from keras.models import Model\n",
        "import timeit\n",
        "from keras.models import Sequential\n",
        "from keras.layers.core import Flatten, Dense, Dropout\n",
        "from keras.layers.convolutional import Convolution1D, MaxPooling1D, ZeroPadding1D\n",
        "from tensorflow.keras.optimizers import SGD\n",
        "#import cv2, numpy as np\n",
        "import warnings\n",
        "warnings.filterwarnings('ignore')"
      ],
      "execution_count": null,
      "outputs": []
    },
    {
      "cell_type": "code",
      "metadata": {
        "colab": {
          "base_uri": "https://localhost:8080/"
        },
        "id": "AgsPdoPjGqZr",
        "outputId": "7e600c66-e35e-4e26-96e2-422955bb9cc9"
      },
      "source": [
        "from google.colab import drive\n",
        "drive.mount('/content/drive/')"
      ],
      "execution_count": null,
      "outputs": [
        {
          "output_type": "stream",
          "text": [
            "Drive already mounted at /content/drive/; to attempt to forcibly remount, call drive.mount(\"/content/drive/\", force_remount=True).\n"
          ],
          "name": "stdout"
        }
      ]
    },
    {
      "cell_type": "code",
      "metadata": {
        "id": "ASswKjdRGwEu"
      },
      "source": [
        "os.getcwd()\n",
        "os.chdir('/content/drive/MyDrive')"
      ],
      "execution_count": null,
      "outputs": []
    },
    {
      "cell_type": "code",
      "metadata": {
        "id": "JlTnHOiBGyxf"
      },
      "source": [
        "channel = [1,2,3,4,6,11,13,17,19,20,21,25,29,31] \n",
        "band = [4,8,12,16,25,45] \n",
        "window_size = 256\n",
        "step_size = 16 \n",
        "sample_rate = 128\n",
        "subjectList = ['01','02','03','04','05','06','07','08','09','10','11','12','13','14','15','16','17','18','19','20']"
      ],
      "execution_count": null,
      "outputs": []
    },
    {
      "cell_type": "code",
      "metadata": {
        "id": "T0BzVbaFZffq"
      },
      "source": [
        "from sklearn.datasets import load_digits\n",
        "from sklearn.decomposition import FastICA\n",
        "ica = FastICA(n_components=40, random_state=0)\n",
        "X_transformed = ica.fit_transform(data)\n",
        "X_transformed.shape\n"
      ],
      "execution_count": null,
      "outputs": []
    },
    {
      "cell_type": "code",
      "metadata": {
        "id": "t8CreHo9cosu"
      },
      "source": [
        "ica_activity=np.dot(X_transformed,data)\n",
        "print(ica_activity,ica_activity.shape)"
      ],
      "execution_count": null,
      "outputs": []
    },
    {
      "cell_type": "code",
      "metadata": {
        "id": "F36bSUZmSTFb"
      },
      "source": [
        "def center(x):\n",
        "    mean = np.mean(x, axis=1, keepdims=True)\n",
        "    centered =  x - mean \n",
        "    return centered, mean"
      ],
      "execution_count": null,
      "outputs": []
    },
    {
      "cell_type": "code",
      "metadata": {
        "id": "h0fi5JUaSS2x"
      },
      "source": [
        "def covariance(x):\n",
        "    mean = np.mean(x, axis=1, keepdims=True)\n",
        "    n = np.shape(x)[1] - 1\n",
        "    m = x - mean\n",
        "\n",
        "    return (m.dot(m.T))/n"
      ],
      "execution_count": null,
      "outputs": []
    },
    {
      "cell_type": "code",
      "metadata": {
        "id": "TAhKeAXaSbkl"
      },
      "source": [
        "def whiten(X):\n",
        "    # Calculate the covariance matrix\n",
        "    coVarM = covariance(X) \n",
        "    \n",
        "    # Single value decoposition\n",
        "    U, S, V = np.linalg.svd(coVarM)\n",
        "    \n",
        "    # Calculate diagonal matrix of eigenvalues\n",
        "    d = np.diag(1.0 / np.sqrt(S)) \n",
        "    \n",
        "    # Calculate whitening matrix\n",
        "    whiteM = np.dot(U, np.dot(d, U.T))\n",
        "    \n",
        "    # Project onto whitening matrix\n",
        "    Xw = np.dot(whiteM, X) \n",
        "    \n",
        "    return Xw, whiteM"
      ],
      "execution_count": null,
      "outputs": []
    },
    {
      "cell_type": "code",
      "metadata": {
        "id": "sx1Hkf4CSoHw"
      },
      "source": [
        "def fastIca(signals,  alpha = 1, thresh=1e-8, iterations=5000):\n",
        "    m, n = signals.shape\n",
        "\n",
        "    # Initialize random weights\n",
        "    W = np.random.rand(m, m)\n",
        "\n",
        "    for c in range(m):\n",
        "            w = W[c, :].copy().reshape(m, 1)\n",
        "            w = w / np.sqrt((w ** 2).sum())\n",
        "\n",
        "            i = 0\n",
        "            lim = 100\n",
        "            while ((lim > thresh) & (i < iterations)):\n",
        "\n",
        "                # Dot product of weight and signal\n",
        "                ws = np.dot(w.T, signals)\n",
        "\n",
        "                # Pass w*s into contrast function g\n",
        "                wg = np.tanh(ws * alpha).T\n",
        "\n",
        "                # Pass w*s into g prime \n",
        "                wg_ = (1 - np.square(np.tanh(ws))) * alpha\n",
        "\n",
        "                # Update weights\n",
        "                wNew = (signals * wg.T).mean(axis=1) - wg_.mean() * w.squeeze()\n",
        "\n",
        "                # Decorrelate weights              \n",
        "                wNew = wNew - np.dot(np.dot(wNew, W[:c].T), W[:c])\n",
        "                wNew = wNew / np.sqrt((wNew ** 2).sum())\n",
        "\n",
        "                # Calculate limit condition\n",
        "                lim = np.abs(np.abs((wNew * w).sum()) - 1)\n",
        "                \n",
        "                # Update weights\n",
        "                w = wNew\n",
        "                \n",
        "                # Update counter\n",
        "                i += 1\n",
        "\n",
        "            W[c, :] = w.T\n",
        "    return W\n"
      ],
      "execution_count": null,
      "outputs": []
    },
    {
      "cell_type": "code",
      "metadata": {
        "id": "Mh_qjGnPfFGN"
      },
      "source": [
        ""
      ],
      "execution_count": null,
      "outputs": []
    },
    {
      "cell_type": "code",
      "metadata": {
        "id": "dDL5twy_HS9X"
      },
      "source": [
        "def FFT_Processing (sub, channel, band, window_size, step_size, sample_rate):\n",
        "    '''\n",
        "    arguments:  string subject\n",
        "                list channel indice\n",
        "                list band\n",
        "                int window size for FFT\n",
        "                int step size for FFT\n",
        "                int sample rate for FFT\n",
        "    return:     void\n",
        "    '''\n",
        "    meta = []\n",
        "    with open(\"/content/drive/MyDrive/BTP/data_preprocessed_python/s\" + sub + '.dat', 'rb') as file:\n",
        "\n",
        "        subject = pickle.load(file, encoding='latin1') \n",
        "        for i in range (0,40):\n",
        "            # loop over 0-39 trails\n",
        "            data = subject[\"data\"][i]\n",
        "            labels = subject[\"labels\"][i]\n",
        "            start = 0;\n",
        "\n",
        "            while start + window_size < data.shape[1]:\n",
        "                meta_array = []\n",
        "                meta_data = [] \n",
        "                for j in channel:\n",
        "                    X = data[j][start : start + window_size] \n",
        "                    Y = pe.bin_power(X, band, sample_rate) \n",
        "                    meta_data = meta_data + list(Y[0])\n",
        "\n",
        "                meta_array.append(np.array(meta_data))\n",
        "                meta_array.append(labels)\n",
        "\n",
        "                meta.append(np.array(meta_array))    \n",
        "                start = start + step_size\n",
        "                \n",
        "        meta = np.array(meta)\n",
        "        np.save('/content/drive/MyDrive/BTP/data_preprocessed_python/GRU20P/s' + sub, meta, allow_pickle=True, fix_imports=True)"
      ],
      "execution_count": null,
      "outputs": []
    },
    {
      "cell_type": "code",
      "metadata": {
        "id": "RmS9eW0Xah5x"
      },
      "source": [
        "for subjects in subjectList:\n",
        "    FFT_Processing (subjects, channel, band, window_size, step_size, sample_rate)"
      ],
      "execution_count": null,
      "outputs": []
    },
    {
      "cell_type": "code",
      "metadata": {
        "id": "RhIAfob8JeDZ",
        "colab": {
          "base_uri": "https://localhost:8080/"
        },
        "outputId": "4b7e0d9a-7b77-4e5e-9847-678d5eff083c"
      },
      "source": [
        "\n",
        "data_training = []\n",
        "label_training = []\n",
        "data_testing = []\n",
        "label_testing = []\n",
        "\n",
        "for subjects in subjectList:\n",
        "\n",
        "    with open('/content/drive/MyDrive/BTP/data_preprocessed_python/GRU20P/s' + subjects + '.npy', 'rb') as file:\n",
        "      sub = np.load(file,allow_pickle=True)\n",
        "      for i in range (0,sub.shape[0]):\n",
        "        if i % 4 == 0:\n",
        "          data_testing.append(sub[i][0])\n",
        "          label_testing.append(sub[i][1])\n",
        "        else:\n",
        "          data_training.append(sub[i][0])\n",
        "          label_training.append(sub[i][1])\n",
        "\n",
        "np.save('/content/drive/MyDrive/BTP/data_preprocessed_python/GRU_Ldata/data_training', np.array(data_training), allow_pickle=True, fix_imports=True)\n",
        "np.save('/content/drive/MyDrive/BTP/data_preprocessed_python/GRU_Ldata/label_training', np.array(label_training), allow_pickle=True, fix_imports=True)\n",
        "print(\"training dataset:\", np.array(data_training).shape, np.array(label_training).shape)\n",
        "\n",
        "np.save('/content/drive/MyDrive/BTP/data_preprocessed_python/GRU_Ldata/data_testing', np.array(data_testing), allow_pickle=True, fix_imports=True)\n",
        "np.save('/content/drive/MyDrive/BTP/data_preprocessed_python/GRU_Ldata/label_testing', np.array(label_testing), allow_pickle=True, fix_imports=True)\n",
        "print(\"testing dataset:\", np.array(data_testing).shape, np.array(label_testing).shape)"
      ],
      "execution_count": null,
      "outputs": [
        {
          "output_type": "stream",
          "name": "stdout",
          "text": [
            "training dataset: (292800, 70) (292800, 4)\n",
            "testing dataset: (97600, 70) (97600, 4)\n"
          ]
        }
      ]
    },
    {
      "cell_type": "code",
      "metadata": {
        "id": "ABWVaT4-MvT4"
      },
      "source": [
        "\n",
        "with open('/content/drive/MyDrive/BTP/data_preprocessed_python/GRU_Ldata/data_training.npy', 'rb') as fileTrain:\n",
        "    X  = np.load(fileTrain)\n",
        "    \n",
        "with open('/content/drive/MyDrive/BTP/data_preprocessed_python/GRU_Ldata/label_training.npy', 'rb') as fileTrainL:\n",
        "    Y  = np.load(fileTrainL)\n",
        "    \n",
        "X = normalize(X)\n",
        "Z = np.ravel(Y[:, [1]])\n",
        "\n",
        "Arousal_Train = np.ravel(Y[:, [0]])\n",
        "Valence_Train = np.ravel(Y[:, [1]])\n",
        "Domain_Train = np.ravel(Y[:, [2]])\n",
        "Like_Train = np.ravel(Y[:, [3]])"
      ],
      "execution_count": null,
      "outputs": []
    },
    {
      "cell_type": "code",
      "metadata": {
        "colab": {
          "base_uri": "https://localhost:8080/"
        },
        "id": "JJRTIDzsVKVJ",
        "outputId": "fb3ca4ee-5691-4f96-ecb5-1e70c78249c6"
      },
      "source": [
        "X.shape"
      ],
      "execution_count": null,
      "outputs": [
        {
          "output_type": "execute_result",
          "data": {
            "text/plain": [
              "(292800, 70)"
            ]
          },
          "metadata": {},
          "execution_count": 10
        }
      ]
    },
    {
      "cell_type": "code",
      "metadata": {
        "colab": {
          "base_uri": "https://localhost:8080/"
        },
        "id": "ETTgk5t8QSMR",
        "outputId": "0f4b71e3-82a2-4399-c0d9-e0e7fc48eb9f"
      },
      "source": [
        "from tensorflow.keras.utils import to_categorical \n",
        "from tensorflow.keras.utils import to_categorical\n",
        "y_train = to_categorical(Z)\n",
        "y_train"
      ],
      "execution_count": null,
      "outputs": [
        {
          "output_type": "execute_result",
          "data": {
            "text/plain": [
              "array([[0., 0., 0., ..., 1., 0., 0.],\n",
              "       [0., 0., 0., ..., 1., 0., 0.],\n",
              "       [0., 0., 0., ..., 1., 0., 0.],\n",
              "       ...,\n",
              "       [0., 0., 1., ..., 0., 0., 0.],\n",
              "       [0., 0., 1., ..., 0., 0., 0.],\n",
              "       [0., 0., 1., ..., 0., 0., 0.]], dtype=float32)"
            ]
          },
          "metadata": {},
          "execution_count": 11
        }
      ]
    },
    {
      "cell_type": "code",
      "metadata": {
        "id": "s1rZXI84QTgw"
      },
      "source": [
        "x_train = np.array(X[:])"
      ],
      "execution_count": null,
      "outputs": []
    },
    {
      "cell_type": "code",
      "metadata": {
        "id": "TQgp1409QXiR"
      },
      "source": [
        "\n",
        "with open('/content/drive/MyDrive/BTP/data_preprocessed_python/GRU_Ldata/data_testing.npy', 'rb') as fileTrain:\n",
        "    M  = np.load(fileTrain)\n",
        "    \n",
        "with open('/content/drive/MyDrive/BTP/data_preprocessed_python/GRU_Ldata/label_testing.npy', 'rb') as fileTrainL:\n",
        "    N  = np.load(fileTrainL)\n",
        "\n",
        "M = normalize(M)\n",
        "L = np.ravel(N[:, [1]])\n",
        "\n",
        "Arousal_Test = np.ravel(N[:, [0]])\n",
        "Valence_Test = np.ravel(N[:, [1]])\n",
        "Domain_Test = np.ravel(N[:, [2]])\n",
        "Like_Test = np.ravel(N[:, [3]])"
      ],
      "execution_count": null,
      "outputs": []
    },
    {
      "cell_type": "code",
      "metadata": {
        "id": "A5bP6dwcRmSK"
      },
      "source": [
        "x_test = np.array(M[:])"
      ],
      "execution_count": null,
      "outputs": []
    },
    {
      "cell_type": "code",
      "metadata": {
        "colab": {
          "base_uri": "https://localhost:8080/"
        },
        "id": "z7zknJnQRmfs",
        "outputId": "c0c33bf4-ddeb-4828-c8d3-98eeb0573490"
      },
      "source": [
        "from tensorflow.keras.utils import to_categorical \n",
        "from tensorflow.keras.utils import to_categorical\n",
        "y_test = to_categorical(L)\n",
        "y_test"
      ],
      "execution_count": null,
      "outputs": [
        {
          "output_type": "execute_result",
          "data": {
            "text/plain": [
              "array([[0., 0., 0., ..., 1., 0., 0.],\n",
              "       [0., 0., 0., ..., 1., 0., 0.],\n",
              "       [0., 0., 0., ..., 1., 0., 0.],\n",
              "       ...,\n",
              "       [0., 0., 1., ..., 0., 0., 0.],\n",
              "       [0., 0., 1., ..., 0., 0., 0.],\n",
              "       [0., 0., 1., ..., 0., 0., 0.]], dtype=float32)"
            ]
          },
          "metadata": {},
          "execution_count": 15
        }
      ]
    },
    {
      "cell_type": "code",
      "metadata": {
        "id": "qTnzEnFuQ5RK"
      },
      "source": [
        "\n",
        "from sklearn.preprocessing import StandardScaler\n",
        "scaler = StandardScaler()\n",
        "x_train = scaler.fit_transform(x_train)\n",
        "x_test = scaler.fit_transform(x_test)"
      ],
      "execution_count": null,
      "outputs": []
    },
    {
      "cell_type": "code",
      "metadata": {
        "id": "9sAV4SCdRA_E"
      },
      "source": [
        "x_train = x_train.reshape(x_train.shape[0],x_train.shape[1], 1)\n",
        "x_test = x_test.reshape(x_test.shape[0],x_test.shape[1], 1)"
      ],
      "execution_count": null,
      "outputs": []
    },
    {
      "cell_type": "code",
      "metadata": {
        "colab": {
          "base_uri": "https://localhost:8080/"
        },
        "id": "awpkfh90RBxV",
        "outputId": "f6747299-51ce-4f66-a0ac-69d3f0333329"
      },
      "source": [
        "x_train.shape"
      ],
      "execution_count": null,
      "outputs": [
        {
          "output_type": "execute_result",
          "data": {
            "text/plain": [
              "(292800, 70, 1)"
            ]
          },
          "metadata": {},
          "execution_count": 18
        }
      ]
    },
    {
      "cell_type": "code",
      "metadata": {
        "id": "IjKJEOSSRFYm"
      },
      "source": [
        "\n",
        "batch_size = 256\n",
        "num_classes = 10\n",
        "epochs = 200\n",
        "input_shape=(x_train.shape[1], 1)"
      ],
      "execution_count": null,
      "outputs": []
    },
    {
      "cell_type": "code",
      "metadata": {
        "colab": {
          "base_uri": "https://localhost:8080/"
        },
        "id": "n1IyrpeyRHXs",
        "outputId": "5e4a97ae-855e-4c24-bb13-9f1f2740487d"
      },
      "source": [
        "\n",
        "print(input_shape)"
      ],
      "execution_count": null,
      "outputs": [
        {
          "output_type": "stream",
          "name": "stdout",
          "text": [
            "(70, 1)\n"
          ]
        }
      ]
    },
    {
      "cell_type": "code",
      "metadata": {
        "id": "SZRhAs6c5lML"
      },
      "source": [
        "from keras import backend as K\n",
        "\n",
        "def recall_m(y_true, y_pred):\n",
        "    true_positives = K.sum(K.round(K.clip(y_true * y_pred, 0, 1)))\n",
        "    possible_positives = K.sum(K.round(K.clip(y_true, 0, 1)))\n",
        "    recall = true_positives / (possible_positives + K.epsilon())\n",
        "    return recall\n",
        "\n",
        "def precision_m(y_true, y_pred):\n",
        "    true_positives = K.sum(K.round(K.clip(y_true * y_pred, 0, 1)))\n",
        "    predicted_positives = K.sum(K.round(K.clip(y_pred, 0, 1)))\n",
        "    precision = true_positives / (predicted_positives + K.epsilon())\n",
        "    return precision\n",
        "\n",
        "def f1_m(y_true, y_pred):\n",
        "    precision = precision_m(y_true, y_pred)\n",
        "    recall = recall_m(y_true, y_pred)\n",
        "    return 2*((precision*recall)/(precision+recall+K.epsilon()))\n",
        "\n",
        "# # compile the model\n",
        "# model.compile(optimizer='adam', loss='binary_crossentropy', metrics=['acc',f1_m,precision_m, recall_m])\n",
        "\n",
        "# # fit the model\n",
        "# history = model.fit(Xtrain, ytrain, validation_split=0.3, epochs=10, verbose=0)\n",
        "\n",
        "# evaluate the model\n"
      ],
      "execution_count": null,
      "outputs": []
    },
    {
      "cell_type": "code",
      "metadata": {
        "id": "peUiGqGwssh9"
      },
      "source": [
        "from keras.layers import Layer\n",
        "from keras import backend as K\n",
        "\n",
        "class RBFLayer(Layer):\n",
        "    def __init__(self, units, gamma, **kwargs):\n",
        "        super(RBFLayer, self).__init__(**kwargs)\n",
        "        self.units = units\n",
        "        self.gamma = K.cast_to_floatx(gamma)\n",
        "\n",
        "    def build(self, input_shape):\n",
        "#         print(input_shape)\n",
        "#         print(self.units)\n",
        "        self.mu = self.add_weight(name='mu',\n",
        "                                  shape=(int(input_shape[1]), self.units),\n",
        "                                  initializer='uniform',\n",
        "                                  trainable=True)\n",
        "        super(RBFLayer, self).build(input_shape)\n",
        "\n",
        "    def call(self, inputs):\n",
        "        diff = K.expand_dims(inputs) - self.mu\n",
        "        l2 = K.sum(K.pow(diff, 2), axis=1)\n",
        "        res = K.exp(-1 * self.gamma * l2)\n",
        "        return res\n",
        "\n",
        "    def compute_output_shape(self, input_shape):\n",
        "        return (input_shape[0], self.units)\n"
      ],
      "execution_count": null,
      "outputs": []
    },
    {
      "cell_type": "code",
      "metadata": {
        "id": "q-mHGsfjRKQn"
      },
      "source": [
        "from keras.layers import Convolution1D, ZeroPadding1D, MaxPooling1D, BatchNormalization, Activation, Dropout, Flatten, Dense\n",
        "from keras.regularizers import l2"
      ],
      "execution_count": null,
      "outputs": []
    },
    {
      "cell_type": "code",
      "metadata": {
        "colab": {
          "base_uri": "https://localhost:8080/"
        },
        "id": "8kqlW2jkMEvJ",
        "outputId": "2c6f071c-a991-4b67-f0e6-6a0486a72566"
      },
      "source": [
        "  import time\n",
        "  start_time = time.time()\n",
        "  from keras.regularizers import l2\n",
        "  from keras.layers import Bidirectional\n",
        "  from keras.layers import LSTM\n",
        "  from keras.layers import GRU\n",
        "  from keras.layers import LeakyReLU\n",
        "\n",
        "  model = Sequential()\n",
        " \n",
        "  model.add(Bidirectional(GRU(128, return_sequences=True), input_shape=input_shape))\n",
        "  model.add(Dropout(0.6))\n",
        "\n",
        "  model.add(GRU(units = 256, return_sequences = True))  \n",
        "  model.add(Dropout(0.6))\n",
        "\n",
        "  model.add(GRU(units = 64, return_sequences = True))  \n",
        "  model.add(Dropout(0.6))\n",
        "\n",
        "  model.add(GRU(units = 64, return_sequences = True))  \n",
        "  model.add(Dropout(0.4))\n",
        "\n",
        "  model.add(GRU(units = 32))\n",
        "  model.add(Dropout(0.4))\n",
        "\n",
        "  model.add(Dense(units = 16,activation='relu'))\n",
        "\n",
        "  model.add(Dense(units = num_classes))\n",
        "  model.add(Activation('softmax'))\n",
        "  model.compile(optimizer =\"adam\", loss =keras.losses.categorical_crossentropy,metrics=['acc',f1_m,precision_m, recall_m])\n",
        "  model.summary()\n",
        "  m=model.fit(x_train, y_train,epochs=200,batch_size=256,verbose=1,validation_data=(x_test, y_test))\n",
        "  print(\"--- %s seconds ---\" % (time.time() - start_time))"
      ],
      "execution_count": null,
      "outputs": [
        {
          "output_type": "stream",
          "name": "stdout",
          "text": [
            "Model: \"sequential\"\n",
            "_________________________________________________________________\n",
            "Layer (type)                 Output Shape              Param #   \n",
            "=================================================================\n",
            "bidirectional (Bidirectional (None, 70, 256)           100608    \n",
            "_________________________________________________________________\n",
            "dropout (Dropout)            (None, 70, 256)           0         \n",
            "_________________________________________________________________\n",
            "gru_1 (GRU)                  (None, 70, 256)           394752    \n",
            "_________________________________________________________________\n",
            "dropout_1 (Dropout)          (None, 70, 256)           0         \n",
            "_________________________________________________________________\n",
            "gru_2 (GRU)                  (None, 70, 64)            61824     \n",
            "_________________________________________________________________\n",
            "dropout_2 (Dropout)          (None, 70, 64)            0         \n",
            "_________________________________________________________________\n",
            "gru_3 (GRU)                  (None, 70, 64)            24960     \n",
            "_________________________________________________________________\n",
            "dropout_3 (Dropout)          (None, 70, 64)            0         \n",
            "_________________________________________________________________\n",
            "gru_4 (GRU)                  (None, 32)                9408      \n",
            "_________________________________________________________________\n",
            "dropout_4 (Dropout)          (None, 32)                0         \n",
            "_________________________________________________________________\n",
            "dense (Dense)                (None, 16)                528       \n",
            "_________________________________________________________________\n",
            "dense_1 (Dense)              (None, 10)                170       \n",
            "_________________________________________________________________\n",
            "activation (Activation)      (None, 10)                0         \n",
            "=================================================================\n",
            "Total params: 592,250\n",
            "Trainable params: 592,250\n",
            "Non-trainable params: 0\n",
            "_________________________________________________________________\n",
            "Epoch 1/200\n",
            "1144/1144 [==============================] - 77s 56ms/step - loss: 1.8979 - acc: 0.2524 - f1_m: 7.2632e-04 - precision_m: 0.0717 - recall_m: 3.6536e-04 - val_loss: 1.7740 - val_acc: 0.3082 - val_f1_m: 0.0000e+00 - val_precision_m: 0.0000e+00 - val_recall_m: 0.0000e+00\n",
            "Epoch 2/200\n",
            "1144/1144 [==============================] - 62s 54ms/step - loss: 1.7797 - acc: 0.3023 - f1_m: 0.0075 - precision_m: 0.3347 - recall_m: 0.0038 - val_loss: 1.6954 - val_acc: 0.3355 - val_f1_m: 0.0238 - val_precision_m: 0.1557 - val_recall_m: 0.0157\n",
            "Epoch 3/200\n",
            "1144/1144 [==============================] - 62s 54ms/step - loss: 1.7240 - acc: 0.3281 - f1_m: 0.0499 - precision_m: 0.5411 - recall_m: 0.0264 - val_loss: 1.6444 - val_acc: 0.3616 - val_f1_m: 0.0872 - val_precision_m: 0.2938 - val_recall_m: 0.0586\n",
            "Epoch 4/200\n",
            "1144/1144 [==============================] - 62s 54ms/step - loss: 1.6740 - acc: 0.3514 - f1_m: 0.1065 - precision_m: 0.5717 - recall_m: 0.0590 - val_loss: 1.5904 - val_acc: 0.3844 - val_f1_m: 0.1418 - val_precision_m: 0.4217 - val_recall_m: 0.0988\n",
            "Epoch 5/200\n",
            "1144/1144 [==============================] - 62s 54ms/step - loss: 1.6312 - acc: 0.3711 - f1_m: 0.1587 - precision_m: 0.6019 - recall_m: 0.0918 - val_loss: 1.5458 - val_acc: 0.4037 - val_f1_m: 0.1785 - val_precision_m: 0.4557 - val_recall_m: 0.1283\n",
            "Epoch 6/200\n",
            "1144/1144 [==============================] - 62s 54ms/step - loss: 1.5909 - acc: 0.3899 - f1_m: 0.2039 - precision_m: 0.6231 - recall_m: 0.1224 - val_loss: 1.4917 - val_acc: 0.4274 - val_f1_m: 0.2225 - val_precision_m: 0.5101 - val_recall_m: 0.1654\n",
            "Epoch 7/200\n",
            "1144/1144 [==============================] - 62s 54ms/step - loss: 1.5542 - acc: 0.4054 - f1_m: 0.2432 - precision_m: 0.6443 - recall_m: 0.1504 - val_loss: 1.4578 - val_acc: 0.4454 - val_f1_m: 0.2713 - val_precision_m: 0.5443 - val_recall_m: 0.2096\n",
            "Epoch 8/200\n",
            "1144/1144 [==============================] - 62s 54ms/step - loss: 1.5209 - acc: 0.4208 - f1_m: 0.2754 - precision_m: 0.6607 - recall_m: 0.1744 - val_loss: 1.4196 - val_acc: 0.4577 - val_f1_m: 0.2874 - val_precision_m: 0.5681 - val_recall_m: 0.2218\n",
            "Epoch 9/200\n",
            "1144/1144 [==============================] - 62s 54ms/step - loss: 1.4916 - acc: 0.4332 - f1_m: 0.3029 - precision_m: 0.6745 - recall_m: 0.1958 - val_loss: 1.3788 - val_acc: 0.4747 - val_f1_m: 0.3272 - val_precision_m: 0.5904 - val_recall_m: 0.2583\n",
            "Epoch 10/200\n",
            "1144/1144 [==============================] - 62s 54ms/step - loss: 1.4650 - acc: 0.4461 - f1_m: 0.3248 - precision_m: 0.6838 - recall_m: 0.2136 - val_loss: 1.3459 - val_acc: 0.4894 - val_f1_m: 0.3315 - val_precision_m: 0.6231 - val_recall_m: 0.2609\n",
            "Epoch 11/200\n",
            "1144/1144 [==============================] - 62s 54ms/step - loss: 1.4408 - acc: 0.4551 - f1_m: 0.3441 - precision_m: 0.6943 - recall_m: 0.2293 - val_loss: 1.3221 - val_acc: 0.4989 - val_f1_m: 0.3556 - val_precision_m: 0.6309 - val_recall_m: 0.2840\n",
            "Epoch 12/200\n",
            "1144/1144 [==============================] - 62s 54ms/step - loss: 1.4155 - acc: 0.4655 - f1_m: 0.3638 - precision_m: 0.7015 - recall_m: 0.2462 - val_loss: 1.3083 - val_acc: 0.5058 - val_f1_m: 0.3671 - val_precision_m: 0.6365 - val_recall_m: 0.2960\n",
            "Epoch 13/200\n",
            "1144/1144 [==============================] - 62s 54ms/step - loss: 1.3973 - acc: 0.4745 - f1_m: 0.3782 - precision_m: 0.7091 - recall_m: 0.2584 - val_loss: 1.2742 - val_acc: 0.5190 - val_f1_m: 0.3810 - val_precision_m: 0.6683 - val_recall_m: 0.3070\n",
            "Epoch 14/200\n",
            "1144/1144 [==============================] - 62s 54ms/step - loss: 1.3774 - acc: 0.4820 - f1_m: 0.3921 - precision_m: 0.7153 - recall_m: 0.2707 - val_loss: 1.2543 - val_acc: 0.5272 - val_f1_m: 0.4167 - val_precision_m: 0.6417 - val_recall_m: 0.3444\n",
            "Epoch 15/200\n",
            "1144/1144 [==============================] - 62s 54ms/step - loss: 1.3597 - acc: 0.4905 - f1_m: 0.4063 - precision_m: 0.7226 - recall_m: 0.2832 - val_loss: 1.2453 - val_acc: 0.5311 - val_f1_m: 0.4077 - val_precision_m: 0.6757 - val_recall_m: 0.3343\n",
            "Epoch 16/200\n",
            "1144/1144 [==============================] - 62s 54ms/step - loss: 1.3436 - acc: 0.4964 - f1_m: 0.4164 - precision_m: 0.7262 - recall_m: 0.2924 - val_loss: 1.2205 - val_acc: 0.5412 - val_f1_m: 0.4235 - val_precision_m: 0.6722 - val_recall_m: 0.3488\n",
            "Epoch 17/200\n",
            "1144/1144 [==============================] - 62s 54ms/step - loss: 1.3283 - acc: 0.5025 - f1_m: 0.4258 - precision_m: 0.7302 - recall_m: 0.3011 - val_loss: 1.2071 - val_acc: 0.5473 - val_f1_m: 0.4365 - val_precision_m: 0.6793 - val_recall_m: 0.3636\n",
            "Epoch 18/200\n",
            "1144/1144 [==============================] - 62s 54ms/step - loss: 1.3116 - acc: 0.5096 - f1_m: 0.4376 - precision_m: 0.7362 - recall_m: 0.3118 - val_loss: 1.1745 - val_acc: 0.5602 - val_f1_m: 0.4477 - val_precision_m: 0.6947 - val_recall_m: 0.3729\n",
            "Epoch 19/200\n",
            "1144/1144 [==============================] - 62s 54ms/step - loss: 1.2979 - acc: 0.5147 - f1_m: 0.4463 - precision_m: 0.7396 - recall_m: 0.3201 - val_loss: 1.1677 - val_acc: 0.5604 - val_f1_m: 0.4652 - val_precision_m: 0.6817 - val_recall_m: 0.3913\n",
            "Epoch 20/200\n",
            "1144/1144 [==============================] - 62s 54ms/step - loss: 1.2846 - acc: 0.5213 - f1_m: 0.4549 - precision_m: 0.7426 - recall_m: 0.3285 - val_loss: 1.1544 - val_acc: 0.5681 - val_f1_m: 0.4678 - val_precision_m: 0.6935 - val_recall_m: 0.3926\n",
            "Epoch 21/200\n",
            "1144/1144 [==============================] - 62s 54ms/step - loss: 1.2699 - acc: 0.5272 - f1_m: 0.4647 - precision_m: 0.7479 - recall_m: 0.3376 - val_loss: 1.1568 - val_acc: 0.5665 - val_f1_m: 0.4523 - val_precision_m: 0.7126 - val_recall_m: 0.3790\n",
            "Epoch 22/200\n",
            "1144/1144 [==============================] - 62s 54ms/step - loss: 1.2619 - acc: 0.5305 - f1_m: 0.4698 - precision_m: 0.7485 - recall_m: 0.3428 - val_loss: 1.1385 - val_acc: 0.5753 - val_f1_m: 0.4815 - val_precision_m: 0.6944 - val_recall_m: 0.4059\n",
            "Epoch 23/200\n",
            "1144/1144 [==============================] - 62s 54ms/step - loss: 1.2500 - acc: 0.5359 - f1_m: 0.4779 - precision_m: 0.7518 - recall_m: 0.3508 - val_loss: 1.1313 - val_acc: 0.5806 - val_f1_m: 0.4805 - val_precision_m: 0.7116 - val_recall_m: 0.4056\n",
            "Epoch 24/200\n",
            "1144/1144 [==============================] - 62s 54ms/step - loss: 1.2368 - acc: 0.5413 - f1_m: 0.4867 - precision_m: 0.7566 - recall_m: 0.3594 - val_loss: 1.0882 - val_acc: 0.5929 - val_f1_m: 0.5083 - val_precision_m: 0.7181 - val_recall_m: 0.4331\n",
            "Epoch 25/200\n",
            "1144/1144 [==============================] - 62s 54ms/step - loss: 1.2292 - acc: 0.5446 - f1_m: 0.4921 - precision_m: 0.7580 - recall_m: 0.3649 - val_loss: 1.0933 - val_acc: 0.5911 - val_f1_m: 0.5096 - val_precision_m: 0.7095 - val_recall_m: 0.4371\n",
            "Epoch 26/200\n",
            "1144/1144 [==============================] - 62s 54ms/step - loss: 1.2210 - acc: 0.5469 - f1_m: 0.4949 - precision_m: 0.7571 - recall_m: 0.3682 - val_loss: 1.0810 - val_acc: 0.5973 - val_f1_m: 0.5104 - val_precision_m: 0.7279 - val_recall_m: 0.4351\n",
            "Epoch 27/200\n",
            "1144/1144 [==============================] - 62s 54ms/step - loss: 1.2099 - acc: 0.5522 - f1_m: 0.5019 - precision_m: 0.7602 - recall_m: 0.3751 - val_loss: 1.0798 - val_acc: 0.6006 - val_f1_m: 0.5120 - val_precision_m: 0.7338 - val_recall_m: 0.4358\n",
            "Epoch 28/200\n",
            "1144/1144 [==============================] - 62s 54ms/step - loss: 1.1992 - acc: 0.5570 - f1_m: 0.5095 - precision_m: 0.7616 - recall_m: 0.3833 - val_loss: 1.0608 - val_acc: 0.6090 - val_f1_m: 0.5300 - val_precision_m: 0.7277 - val_recall_m: 0.4563\n",
            "Epoch 29/200\n",
            "1144/1144 [==============================] - 62s 54ms/step - loss: 1.1916 - acc: 0.5596 - f1_m: 0.5135 - precision_m: 0.7653 - recall_m: 0.3870 - val_loss: 1.0602 - val_acc: 0.6075 - val_f1_m: 0.5243 - val_precision_m: 0.7348 - val_recall_m: 0.4492\n",
            "Epoch 30/200\n",
            "1144/1144 [==============================] - 62s 54ms/step - loss: 1.1875 - acc: 0.5617 - f1_m: 0.5154 - precision_m: 0.7655 - recall_m: 0.3890 - val_loss: 1.0425 - val_acc: 0.6145 - val_f1_m: 0.5327 - val_precision_m: 0.7326 - val_recall_m: 0.4596\n",
            "Epoch 31/200\n",
            "1144/1144 [==============================] - 62s 54ms/step - loss: 1.1784 - acc: 0.5663 - f1_m: 0.5209 - precision_m: 0.7679 - recall_m: 0.3947 - val_loss: 1.0513 - val_acc: 0.6134 - val_f1_m: 0.5266 - val_precision_m: 0.7443 - val_recall_m: 0.4501\n",
            "Epoch 32/200\n",
            "1144/1144 [==============================] - 62s 54ms/step - loss: 1.1686 - acc: 0.5698 - f1_m: 0.5269 - precision_m: 0.7688 - recall_m: 0.4014 - val_loss: 1.0413 - val_acc: 0.6140 - val_f1_m: 0.5373 - val_precision_m: 0.7308 - val_recall_m: 0.4664\n",
            "Epoch 33/200\n",
            "1144/1144 [==============================] - 62s 54ms/step - loss: 1.1642 - acc: 0.5712 - f1_m: 0.5302 - precision_m: 0.7705 - recall_m: 0.4047 - val_loss: 1.0438 - val_acc: 0.6152 - val_f1_m: 0.5409 - val_precision_m: 0.7375 - val_recall_m: 0.4698\n",
            "Epoch 34/200\n",
            "1144/1144 [==============================] - 62s 54ms/step - loss: 1.1519 - acc: 0.5774 - f1_m: 0.5372 - precision_m: 0.7723 - recall_m: 0.4124 - val_loss: 1.0186 - val_acc: 0.6248 - val_f1_m: 0.5550 - val_precision_m: 0.7412 - val_recall_m: 0.4834\n",
            "Epoch 35/200\n",
            "1144/1144 [==============================] - 62s 54ms/step - loss: 1.1482 - acc: 0.5785 - f1_m: 0.5395 - precision_m: 0.7734 - recall_m: 0.4148 - val_loss: 1.0179 - val_acc: 0.6240 - val_f1_m: 0.5480 - val_precision_m: 0.7525 - val_recall_m: 0.4762\n",
            "Epoch 36/200\n",
            "1144/1144 [==============================] - 62s 54ms/step - loss: 1.1420 - acc: 0.5795 - f1_m: 0.5420 - precision_m: 0.7738 - recall_m: 0.4176 - val_loss: 1.0166 - val_acc: 0.6265 - val_f1_m: 0.5586 - val_precision_m: 0.7487 - val_recall_m: 0.4863\n",
            "Epoch 37/200\n",
            "1144/1144 [==============================] - 62s 54ms/step - loss: 1.1357 - acc: 0.5828 - f1_m: 0.5454 - precision_m: 0.7739 - recall_m: 0.4216 - val_loss: 1.0145 - val_acc: 0.6262 - val_f1_m: 0.5513 - val_precision_m: 0.7508 - val_recall_m: 0.4765\n",
            "Epoch 38/200\n",
            "1144/1144 [==============================] - 62s 54ms/step - loss: 1.1274 - acc: 0.5860 - f1_m: 0.5516 - precision_m: 0.7785 - recall_m: 0.4277 - val_loss: 1.0175 - val_acc: 0.6297 - val_f1_m: 0.5656 - val_precision_m: 0.7415 - val_recall_m: 0.4966\n",
            "Epoch 39/200\n",
            "1144/1144 [==============================] - 62s 55ms/step - loss: 1.1269 - acc: 0.5874 - f1_m: 0.5520 - precision_m: 0.7778 - recall_m: 0.4283 - val_loss: 0.9934 - val_acc: 0.6356 - val_f1_m: 0.5675 - val_precision_m: 0.7533 - val_recall_m: 0.4959\n",
            "Epoch 40/200\n",
            "1144/1144 [==============================] - 62s 54ms/step - loss: 1.1187 - acc: 0.5899 - f1_m: 0.5554 - precision_m: 0.7788 - recall_m: 0.4321 - val_loss: 0.9811 - val_acc: 0.6418 - val_f1_m: 0.5749 - val_precision_m: 0.7590 - val_recall_m: 0.5021\n",
            "Epoch 41/200\n",
            "1144/1144 [==============================] - 62s 54ms/step - loss: 1.1143 - acc: 0.5920 - f1_m: 0.5584 - precision_m: 0.7803 - recall_m: 0.4353 - val_loss: 0.9745 - val_acc: 0.6426 - val_f1_m: 0.5817 - val_precision_m: 0.7551 - val_recall_m: 0.5112\n",
            "Epoch 42/200\n",
            "1144/1144 [==============================] - 62s 54ms/step - loss: 1.1117 - acc: 0.5921 - f1_m: 0.5588 - precision_m: 0.7790 - recall_m: 0.4362 - val_loss: 0.9702 - val_acc: 0.6439 - val_f1_m: 0.5791 - val_precision_m: 0.7609 - val_recall_m: 0.5071\n",
            "Epoch 43/200\n",
            "1144/1144 [==============================] - 62s 54ms/step - loss: 1.1017 - acc: 0.5972 - f1_m: 0.5654 - precision_m: 0.7823 - recall_m: 0.4432 - val_loss: 0.9682 - val_acc: 0.6461 - val_f1_m: 0.5856 - val_precision_m: 0.7583 - val_recall_m: 0.5154\n",
            "Epoch 44/200\n",
            "1144/1144 [==============================] - 62s 54ms/step - loss: 1.0981 - acc: 0.5984 - f1_m: 0.5666 - precision_m: 0.7825 - recall_m: 0.4446 - val_loss: 0.9479 - val_acc: 0.6523 - val_f1_m: 0.5887 - val_precision_m: 0.7677 - val_recall_m: 0.5184\n",
            "Epoch 45/200\n",
            "1144/1144 [==============================] - 62s 54ms/step - loss: 1.0957 - acc: 0.5995 - f1_m: 0.5688 - precision_m: 0.7830 - recall_m: 0.4471 - val_loss: 0.9488 - val_acc: 0.6557 - val_f1_m: 0.5883 - val_precision_m: 0.7747 - val_recall_m: 0.5156\n",
            "Epoch 46/200\n",
            "1144/1144 [==============================] - 62s 54ms/step - loss: 1.0870 - acc: 0.6037 - f1_m: 0.5742 - precision_m: 0.7867 - recall_m: 0.4526 - val_loss: 0.9654 - val_acc: 0.6484 - val_f1_m: 0.5859 - val_precision_m: 0.7649 - val_recall_m: 0.5142\n",
            "Epoch 47/200\n",
            "1144/1144 [==============================] - 62s 54ms/step - loss: 1.0843 - acc: 0.6047 - f1_m: 0.5749 - precision_m: 0.7857 - recall_m: 0.4538 - val_loss: 0.9515 - val_acc: 0.6541 - val_f1_m: 0.5958 - val_precision_m: 0.7652 - val_recall_m: 0.5272\n",
            "Epoch 48/200\n",
            "1144/1144 [==============================] - 62s 54ms/step - loss: 1.0816 - acc: 0.6059 - f1_m: 0.5763 - precision_m: 0.7857 - recall_m: 0.4555 - val_loss: 0.9587 - val_acc: 0.6534 - val_f1_m: 0.5952 - val_precision_m: 0.7636 - val_recall_m: 0.5243\n",
            "Epoch 49/200\n",
            "1144/1144 [==============================] - 62s 54ms/step - loss: 1.0801 - acc: 0.6059 - f1_m: 0.5770 - precision_m: 0.7859 - recall_m: 0.4563 - val_loss: 0.9497 - val_acc: 0.6529 - val_f1_m: 0.5998 - val_precision_m: 0.7635 - val_recall_m: 0.5311\n",
            "Epoch 50/200\n",
            "1144/1144 [==============================] - 62s 54ms/step - loss: 1.0724 - acc: 0.6097 - f1_m: 0.5821 - precision_m: 0.7888 - recall_m: 0.4618 - val_loss: 0.9488 - val_acc: 0.6555 - val_f1_m: 0.5946 - val_precision_m: 0.7696 - val_recall_m: 0.5229\n",
            "Epoch 51/200\n",
            "1144/1144 [==============================] - 62s 54ms/step - loss: 1.0680 - acc: 0.6120 - f1_m: 0.5846 - precision_m: 0.7897 - recall_m: 0.4647 - val_loss: 0.9424 - val_acc: 0.6619 - val_f1_m: 0.6055 - val_precision_m: 0.7729 - val_recall_m: 0.5369\n",
            "Epoch 52/200\n",
            "1144/1144 [==============================] - 62s 54ms/step - loss: 1.0686 - acc: 0.6114 - f1_m: 0.5830 - precision_m: 0.7884 - recall_m: 0.4631 - val_loss: 0.9302 - val_acc: 0.6622 - val_f1_m: 0.6051 - val_precision_m: 0.7712 - val_recall_m: 0.5377\n",
            "Epoch 53/200\n",
            "1144/1144 [==============================] - 62s 54ms/step - loss: 1.0643 - acc: 0.6138 - f1_m: 0.5863 - precision_m: 0.7894 - recall_m: 0.4668 - val_loss: 0.9332 - val_acc: 0.6615 - val_f1_m: 0.6064 - val_precision_m: 0.7691 - val_recall_m: 0.5397\n",
            "Epoch 54/200\n",
            "1144/1144 [==============================] - 62s 54ms/step - loss: 1.0590 - acc: 0.6151 - f1_m: 0.5892 - precision_m: 0.7903 - recall_m: 0.4703 - val_loss: 0.9210 - val_acc: 0.6682 - val_f1_m: 0.6067 - val_precision_m: 0.7802 - val_recall_m: 0.5363\n",
            "Epoch 55/200\n",
            "1144/1144 [==============================] - 62s 54ms/step - loss: 1.0563 - acc: 0.6153 - f1_m: 0.5902 - precision_m: 0.7916 - recall_m: 0.4710 - val_loss: 0.9281 - val_acc: 0.6641 - val_f1_m: 0.6073 - val_precision_m: 0.7761 - val_recall_m: 0.5399\n",
            "Epoch 56/200\n",
            "1144/1144 [==============================] - 62s 54ms/step - loss: 1.0523 - acc: 0.6176 - f1_m: 0.5921 - precision_m: 0.7916 - recall_m: 0.4734 - val_loss: 0.9101 - val_acc: 0.6696 - val_f1_m: 0.6107 - val_precision_m: 0.7881 - val_recall_m: 0.5407\n",
            "Epoch 57/200\n",
            "1144/1144 [==============================] - 62s 54ms/step - loss: 1.0463 - acc: 0.6209 - f1_m: 0.5959 - precision_m: 0.7922 - recall_m: 0.4781 - val_loss: 0.9158 - val_acc: 0.6684 - val_f1_m: 0.6101 - val_precision_m: 0.7844 - val_recall_m: 0.5403\n",
            "Epoch 58/200\n",
            "1144/1144 [==============================] - 62s 54ms/step - loss: 1.0467 - acc: 0.6201 - f1_m: 0.5958 - precision_m: 0.7926 - recall_m: 0.4778 - val_loss: 0.9077 - val_acc: 0.6712 - val_f1_m: 0.6163 - val_precision_m: 0.7798 - val_recall_m: 0.5484\n",
            "Epoch 59/200\n",
            "1144/1144 [==============================] - 63s 55ms/step - loss: 1.0396 - acc: 0.6235 - f1_m: 0.6002 - precision_m: 0.7943 - recall_m: 0.4829 - val_loss: 0.9067 - val_acc: 0.6720 - val_f1_m: 0.6103 - val_precision_m: 0.7886 - val_recall_m: 0.5404\n",
            "Epoch 60/200\n",
            "1144/1144 [==============================] - 62s 54ms/step - loss: 1.0345 - acc: 0.6249 - f1_m: 0.6013 - precision_m: 0.7937 - recall_m: 0.4844 - val_loss: 0.9069 - val_acc: 0.6740 - val_f1_m: 0.6181 - val_precision_m: 0.7844 - val_recall_m: 0.5502\n",
            "Epoch 61/200\n",
            "1144/1144 [==============================] - 63s 55ms/step - loss: 1.0398 - acc: 0.6241 - f1_m: 0.5996 - precision_m: 0.7938 - recall_m: 0.4823 - val_loss: 0.8983 - val_acc: 0.6761 - val_f1_m: 0.6168 - val_precision_m: 0.7877 - val_recall_m: 0.5490\n",
            "Epoch 62/200\n",
            "1144/1144 [==============================] - 62s 55ms/step - loss: 1.0353 - acc: 0.6247 - f1_m: 0.6013 - precision_m: 0.7942 - recall_m: 0.4842 - val_loss: 0.9229 - val_acc: 0.6680 - val_f1_m: 0.6105 - val_precision_m: 0.7764 - val_recall_m: 0.5424\n",
            "Epoch 63/200\n",
            "1144/1144 [==============================] - 62s 54ms/step - loss: 1.0295 - acc: 0.6280 - f1_m: 0.6048 - precision_m: 0.7963 - recall_m: 0.4880 - val_loss: 0.8937 - val_acc: 0.6803 - val_f1_m: 0.6281 - val_precision_m: 0.7769 - val_recall_m: 0.5632\n",
            "Epoch 64/200\n",
            "1144/1144 [==============================] - 62s 54ms/step - loss: 1.0243 - acc: 0.6294 - f1_m: 0.6078 - precision_m: 0.7967 - recall_m: 0.4918 - val_loss: 0.8832 - val_acc: 0.6838 - val_f1_m: 0.6382 - val_precision_m: 0.7792 - val_recall_m: 0.5733\n",
            "Epoch 65/200\n",
            "1144/1144 [==============================] - 62s 54ms/step - loss: 1.0249 - acc: 0.6306 - f1_m: 0.6067 - precision_m: 0.7959 - recall_m: 0.4907 - val_loss: 0.8846 - val_acc: 0.6831 - val_f1_m: 0.6348 - val_precision_m: 0.7872 - val_recall_m: 0.5704\n",
            "Epoch 66/200\n",
            "1144/1144 [==============================] - 62s 54ms/step - loss: 1.0207 - acc: 0.6311 - f1_m: 0.6088 - precision_m: 0.7955 - recall_m: 0.4936 - val_loss: 0.8840 - val_acc: 0.6828 - val_f1_m: 0.6336 - val_precision_m: 0.7900 - val_recall_m: 0.5671\n",
            "Epoch 67/200\n",
            "1144/1144 [==============================] - 62s 55ms/step - loss: 1.0181 - acc: 0.6323 - f1_m: 0.6097 - precision_m: 0.7977 - recall_m: 0.4939 - val_loss: 0.8799 - val_acc: 0.6839 - val_f1_m: 0.6414 - val_precision_m: 0.7802 - val_recall_m: 0.5772\n",
            "Epoch 68/200\n",
            "1144/1144 [==============================] - 62s 54ms/step - loss: 1.0176 - acc: 0.6332 - f1_m: 0.6113 - precision_m: 0.7975 - recall_m: 0.4961 - val_loss: 0.8929 - val_acc: 0.6810 - val_f1_m: 0.6325 - val_precision_m: 0.7841 - val_recall_m: 0.5677\n",
            "Epoch 69/200\n",
            "1144/1144 [==============================] - 62s 55ms/step - loss: 1.0109 - acc: 0.6349 - f1_m: 0.6145 - precision_m: 0.7988 - recall_m: 0.4997 - val_loss: 0.8725 - val_acc: 0.6860 - val_f1_m: 0.6395 - val_precision_m: 0.7880 - val_recall_m: 0.5735\n",
            "Epoch 70/200\n",
            "1144/1144 [==============================] - 62s 55ms/step - loss: 1.0111 - acc: 0.6352 - f1_m: 0.6138 - precision_m: 0.7994 - recall_m: 0.4987 - val_loss: 0.8728 - val_acc: 0.6877 - val_f1_m: 0.6403 - val_precision_m: 0.7858 - val_recall_m: 0.5748\n",
            "Epoch 71/200\n",
            "1144/1144 [==============================] - 62s 55ms/step - loss: 1.0062 - acc: 0.6373 - f1_m: 0.6171 - precision_m: 0.8001 - recall_m: 0.5027 - val_loss: 0.8636 - val_acc: 0.6899 - val_f1_m: 0.6378 - val_precision_m: 0.8034 - val_recall_m: 0.5692\n",
            "Epoch 72/200\n",
            "1144/1144 [==============================] - 63s 55ms/step - loss: 1.0038 - acc: 0.6382 - f1_m: 0.6175 - precision_m: 0.8008 - recall_m: 0.5031 - val_loss: 0.8677 - val_acc: 0.6886 - val_f1_m: 0.6428 - val_precision_m: 0.7905 - val_recall_m: 0.5773\n",
            "Epoch 73/200\n",
            "1144/1144 [==============================] - 63s 55ms/step - loss: 1.0032 - acc: 0.6390 - f1_m: 0.6179 - precision_m: 0.8000 - recall_m: 0.5038 - val_loss: 0.8677 - val_acc: 0.6874 - val_f1_m: 0.6391 - val_precision_m: 0.7870 - val_recall_m: 0.5722\n",
            "Epoch 74/200\n",
            "1144/1144 [==============================] - 63s 55ms/step - loss: 1.0013 - acc: 0.6394 - f1_m: 0.6186 - precision_m: 0.8009 - recall_m: 0.5043 - val_loss: 0.8790 - val_acc: 0.6841 - val_f1_m: 0.6359 - val_precision_m: 0.7909 - val_recall_m: 0.5697\n",
            "Epoch 75/200\n",
            "1144/1144 [==============================] - 62s 54ms/step - loss: 0.9988 - acc: 0.6406 - f1_m: 0.6220 - precision_m: 0.8016 - recall_m: 0.5085 - val_loss: 0.8592 - val_acc: 0.6883 - val_f1_m: 0.6420 - val_precision_m: 0.7910 - val_recall_m: 0.5762\n",
            "Epoch 76/200\n",
            "1144/1144 [==============================] - 62s 55ms/step - loss: 0.9933 - acc: 0.6430 - f1_m: 0.6222 - precision_m: 0.8013 - recall_m: 0.5090 - val_loss: 0.8478 - val_acc: 0.6970 - val_f1_m: 0.6537 - val_precision_m: 0.7948 - val_recall_m: 0.5879\n",
            "Epoch 77/200\n",
            "1144/1144 [==============================] - 62s 54ms/step - loss: 0.9915 - acc: 0.6426 - f1_m: 0.6236 - precision_m: 0.8020 - recall_m: 0.5106 - val_loss: 0.8445 - val_acc: 0.6984 - val_f1_m: 0.6514 - val_precision_m: 0.8018 - val_recall_m: 0.5850\n",
            "Epoch 78/200\n",
            "1144/1144 [==============================] - 62s 54ms/step - loss: 0.9920 - acc: 0.6437 - f1_m: 0.6242 - precision_m: 0.8023 - recall_m: 0.5114 - val_loss: 0.8466 - val_acc: 0.6948 - val_f1_m: 0.6488 - val_precision_m: 0.8034 - val_recall_m: 0.5813\n",
            "Epoch 79/200\n",
            "1144/1144 [==============================] - 63s 55ms/step - loss: 0.9893 - acc: 0.6445 - f1_m: 0.6250 - precision_m: 0.8023 - recall_m: 0.5124 - val_loss: 0.8523 - val_acc: 0.6951 - val_f1_m: 0.6499 - val_precision_m: 0.7958 - val_recall_m: 0.5858\n",
            "Epoch 80/200\n",
            "1144/1144 [==============================] - 62s 55ms/step - loss: 0.9865 - acc: 0.6447 - f1_m: 0.6257 - precision_m: 0.8033 - recall_m: 0.5128 - val_loss: 0.8626 - val_acc: 0.6905 - val_f1_m: 0.6483 - val_precision_m: 0.7889 - val_recall_m: 0.5838\n",
            "Epoch 81/200\n",
            "1144/1144 [==============================] - 63s 55ms/step - loss: 0.9843 - acc: 0.6465 - f1_m: 0.6287 - precision_m: 0.8038 - recall_m: 0.5167 - val_loss: 0.8383 - val_acc: 0.7013 - val_f1_m: 0.6579 - val_precision_m: 0.8002 - val_recall_m: 0.5932\n",
            "Epoch 82/200\n",
            "1144/1144 [==============================] - 62s 55ms/step - loss: 0.9810 - acc: 0.6471 - f1_m: 0.6299 - precision_m: 0.8043 - recall_m: 0.5181 - val_loss: 0.8549 - val_acc: 0.6949 - val_f1_m: 0.6524 - val_precision_m: 0.7922 - val_recall_m: 0.5891\n",
            "Epoch 83/200\n",
            "1144/1144 [==============================] - 63s 55ms/step - loss: 0.9819 - acc: 0.6462 - f1_m: 0.6282 - precision_m: 0.8035 - recall_m: 0.5162 - val_loss: 0.8507 - val_acc: 0.6990 - val_f1_m: 0.6565 - val_precision_m: 0.7951 - val_recall_m: 0.5916\n",
            "Epoch 84/200\n",
            "1144/1144 [==============================] - 62s 55ms/step - loss: 0.9789 - acc: 0.6479 - f1_m: 0.6303 - precision_m: 0.8048 - recall_m: 0.5185 - val_loss: 0.8418 - val_acc: 0.6984 - val_f1_m: 0.6540 - val_precision_m: 0.7985 - val_recall_m: 0.5890\n",
            "Epoch 85/200\n",
            "1144/1144 [==============================] - 63s 55ms/step - loss: 0.9754 - acc: 0.6488 - f1_m: 0.6320 - precision_m: 0.8057 - recall_m: 0.5204 - val_loss: 0.8609 - val_acc: 0.6939 - val_f1_m: 0.6508 - val_precision_m: 0.7849 - val_recall_m: 0.5893\n",
            "Epoch 86/200\n",
            "1144/1144 [==============================] - 63s 55ms/step - loss: 0.9773 - acc: 0.6481 - f1_m: 0.6305 - precision_m: 0.8043 - recall_m: 0.5190 - val_loss: 0.8432 - val_acc: 0.6995 - val_f1_m: 0.6618 - val_precision_m: 0.7888 - val_recall_m: 0.6007\n",
            "Epoch 87/200\n",
            "1144/1144 [==============================] - 63s 55ms/step - loss: 0.9697 - acc: 0.6510 - f1_m: 0.6350 - precision_m: 0.8060 - recall_m: 0.5244 - val_loss: 0.8361 - val_acc: 0.7021 - val_f1_m: 0.6617 - val_precision_m: 0.8002 - val_recall_m: 0.5965\n",
            "Epoch 88/200\n",
            "1144/1144 [==============================] - 63s 55ms/step - loss: 0.9724 - acc: 0.6506 - f1_m: 0.6333 - precision_m: 0.8055 - recall_m: 0.5222 - val_loss: 0.8415 - val_acc: 0.7034 - val_f1_m: 0.6611 - val_precision_m: 0.7996 - val_recall_m: 0.5972\n",
            "Epoch 89/200\n",
            "1144/1144 [==============================] - 63s 55ms/step - loss: 0.9707 - acc: 0.6529 - f1_m: 0.6345 - precision_m: 0.8054 - recall_m: 0.5239 - val_loss: 0.8289 - val_acc: 0.7050 - val_f1_m: 0.6708 - val_precision_m: 0.7922 - val_recall_m: 0.6106\n",
            "Epoch 90/200\n",
            "1144/1144 [==============================] - 63s 55ms/step - loss: 0.9744 - acc: 0.6499 - f1_m: 0.6329 - precision_m: 0.8034 - recall_m: 0.5225 - val_loss: 0.8358 - val_acc: 0.7047 - val_f1_m: 0.6645 - val_precision_m: 0.8018 - val_recall_m: 0.6012\n",
            "Epoch 91/200\n",
            "1144/1144 [==============================] - 62s 54ms/step - loss: 0.9687 - acc: 0.6522 - f1_m: 0.6358 - precision_m: 0.8073 - recall_m: 0.5249 - val_loss: 0.8499 - val_acc: 0.6972 - val_f1_m: 0.6528 - val_precision_m: 0.7937 - val_recall_m: 0.5882\n",
            "Epoch 92/200\n",
            "1144/1144 [==============================] - 63s 55ms/step - loss: 0.9641 - acc: 0.6548 - f1_m: 0.6379 - precision_m: 0.8083 - recall_m: 0.5273 - val_loss: 0.8338 - val_acc: 0.7045 - val_f1_m: 0.6609 - val_precision_m: 0.7991 - val_recall_m: 0.5975\n",
            "Epoch 93/200\n",
            "1144/1144 [==============================] - 62s 54ms/step - loss: 0.9653 - acc: 0.6530 - f1_m: 0.6366 - precision_m: 0.8064 - recall_m: 0.5263 - val_loss: 0.8210 - val_acc: 0.7077 - val_f1_m: 0.6709 - val_precision_m: 0.7981 - val_recall_m: 0.6085\n",
            "Epoch 94/200\n",
            "1144/1144 [==============================] - 62s 54ms/step - loss: 0.9617 - acc: 0.6547 - f1_m: 0.6379 - precision_m: 0.8062 - recall_m: 0.5282 - val_loss: 0.8346 - val_acc: 0.7069 - val_f1_m: 0.6685 - val_precision_m: 0.7973 - val_recall_m: 0.6072\n",
            "Epoch 95/200\n",
            "1144/1144 [==============================] - 62s 55ms/step - loss: 0.9629 - acc: 0.6552 - f1_m: 0.6384 - precision_m: 0.8062 - recall_m: 0.5288 - val_loss: 0.8352 - val_acc: 0.7051 - val_f1_m: 0.6669 - val_precision_m: 0.7969 - val_recall_m: 0.6056\n",
            "Epoch 96/200\n",
            "1144/1144 [==============================] - 63s 55ms/step - loss: 0.9576 - acc: 0.6575 - f1_m: 0.6413 - precision_m: 0.8086 - recall_m: 0.5318 - val_loss: 0.8450 - val_acc: 0.7003 - val_f1_m: 0.6618 - val_precision_m: 0.7904 - val_recall_m: 0.6010\n",
            "Epoch 97/200\n",
            "1144/1144 [==============================] - 63s 55ms/step - loss: 0.9538 - acc: 0.6579 - f1_m: 0.6418 - precision_m: 0.8085 - recall_m: 0.5326 - val_loss: 0.8116 - val_acc: 0.7118 - val_f1_m: 0.6748 - val_precision_m: 0.8044 - val_recall_m: 0.6131\n",
            "Epoch 98/200\n",
            "1144/1144 [==============================] - 63s 55ms/step - loss: 0.9554 - acc: 0.6575 - f1_m: 0.6412 - precision_m: 0.8067 - recall_m: 0.5326 - val_loss: 0.8171 - val_acc: 0.7075 - val_f1_m: 0.6685 - val_precision_m: 0.7990 - val_recall_m: 0.6061\n",
            "Epoch 99/200\n",
            "1144/1144 [==============================] - 62s 54ms/step - loss: 0.9543 - acc: 0.6587 - f1_m: 0.6418 - precision_m: 0.8082 - recall_m: 0.5326 - val_loss: 0.8039 - val_acc: 0.7149 - val_f1_m: 0.6780 - val_precision_m: 0.8037 - val_recall_m: 0.6157\n",
            "Epoch 100/200\n",
            "1144/1144 [==============================] - 63s 55ms/step - loss: 0.9544 - acc: 0.6582 - f1_m: 0.6425 - precision_m: 0.8076 - recall_m: 0.5339 - val_loss: 0.8247 - val_acc: 0.7072 - val_f1_m: 0.6679 - val_precision_m: 0.7994 - val_recall_m: 0.6054\n",
            "Epoch 101/200\n",
            "1144/1144 [==============================] - 62s 55ms/step - loss: 0.9495 - acc: 0.6601 - f1_m: 0.6448 - precision_m: 0.8084 - recall_m: 0.5367 - val_loss: 0.8166 - val_acc: 0.7112 - val_f1_m: 0.6710 - val_precision_m: 0.8060 - val_recall_m: 0.6072\n",
            "Epoch 102/200\n",
            "1144/1144 [==============================] - 62s 55ms/step - loss: 0.9488 - acc: 0.6600 - f1_m: 0.6438 - precision_m: 0.8078 - recall_m: 0.5356 - val_loss: 0.8212 - val_acc: 0.7084 - val_f1_m: 0.6742 - val_precision_m: 0.7965 - val_recall_m: 0.6136\n",
            "Epoch 103/200\n",
            "1144/1144 [==============================] - 63s 55ms/step - loss: 0.9512 - acc: 0.6587 - f1_m: 0.6437 - precision_m: 0.8093 - recall_m: 0.5348 - val_loss: 0.8121 - val_acc: 0.7105 - val_f1_m: 0.6756 - val_precision_m: 0.8038 - val_recall_m: 0.6135\n",
            "Epoch 104/200\n",
            "1144/1144 [==============================] - 62s 55ms/step - loss: 0.9448 - acc: 0.6615 - f1_m: 0.6460 - precision_m: 0.8083 - recall_m: 0.5384 - val_loss: 0.8166 - val_acc: 0.7137 - val_f1_m: 0.6812 - val_precision_m: 0.7954 - val_recall_m: 0.6225\n",
            "Epoch 105/200\n",
            "1144/1144 [==============================] - 63s 55ms/step - loss: 0.9460 - acc: 0.6617 - f1_m: 0.6460 - precision_m: 0.8093 - recall_m: 0.5381 - val_loss: 0.8230 - val_acc: 0.7086 - val_f1_m: 0.6722 - val_precision_m: 0.8001 - val_recall_m: 0.6094\n",
            "Epoch 106/200\n",
            "1144/1144 [==============================] - 63s 55ms/step - loss: 0.9434 - acc: 0.6625 - f1_m: 0.6476 - precision_m: 0.8094 - recall_m: 0.5402 - val_loss: 0.8033 - val_acc: 0.7163 - val_f1_m: 0.6808 - val_precision_m: 0.8004 - val_recall_m: 0.6211\n",
            "Epoch 107/200\n",
            "1144/1144 [==============================] - 63s 55ms/step - loss: 0.9392 - acc: 0.6642 - f1_m: 0.6488 - precision_m: 0.8101 - recall_m: 0.5415 - val_loss: 0.8067 - val_acc: 0.7132 - val_f1_m: 0.6822 - val_precision_m: 0.7982 - val_recall_m: 0.6238\n",
            "Epoch 108/200\n",
            "1144/1144 [==============================] - 63s 55ms/step - loss: 0.9399 - acc: 0.6634 - f1_m: 0.6487 - precision_m: 0.8100 - recall_m: 0.5415 - val_loss: 0.8133 - val_acc: 0.7134 - val_f1_m: 0.6718 - val_precision_m: 0.8048 - val_recall_m: 0.6120\n",
            "Epoch 109/200\n",
            "1144/1144 [==============================] - 62s 54ms/step - loss: 0.9362 - acc: 0.6655 - f1_m: 0.6509 - precision_m: 0.8107 - recall_m: 0.5441 - val_loss: 0.8353 - val_acc: 0.7055 - val_f1_m: 0.6668 - val_precision_m: 0.7927 - val_recall_m: 0.6072\n",
            "Epoch 110/200\n",
            "1144/1144 [==============================] - 63s 55ms/step - loss: 0.9393 - acc: 0.6648 - f1_m: 0.6483 - precision_m: 0.8086 - recall_m: 0.5415 - val_loss: 0.8091 - val_acc: 0.7122 - val_f1_m: 0.6767 - val_precision_m: 0.8030 - val_recall_m: 0.6135\n",
            "Epoch 111/200\n",
            "1144/1144 [==============================] - 63s 55ms/step - loss: 0.9406 - acc: 0.6633 - f1_m: 0.6486 - precision_m: 0.8090 - recall_m: 0.5416 - val_loss: 0.8075 - val_acc: 0.7135 - val_f1_m: 0.6820 - val_precision_m: 0.7947 - val_recall_m: 0.6230\n",
            "Epoch 112/200\n",
            "1144/1144 [==============================] - 62s 54ms/step - loss: 0.9359 - acc: 0.6655 - f1_m: 0.6505 - precision_m: 0.8106 - recall_m: 0.5437 - val_loss: 0.8055 - val_acc: 0.7148 - val_f1_m: 0.6810 - val_precision_m: 0.8027 - val_recall_m: 0.6199\n",
            "Epoch 113/200\n",
            "1144/1144 [==============================] - 62s 54ms/step - loss: 0.9287 - acc: 0.6693 - f1_m: 0.6539 - precision_m: 0.8109 - recall_m: 0.5483 - val_loss: 0.7955 - val_acc: 0.7198 - val_f1_m: 0.6895 - val_precision_m: 0.8045 - val_recall_m: 0.6314\n",
            "Epoch 114/200\n",
            "1144/1144 [==============================] - 62s 55ms/step - loss: 0.9340 - acc: 0.6667 - f1_m: 0.6519 - precision_m: 0.8104 - recall_m: 0.5457 - val_loss: 0.8064 - val_acc: 0.7160 - val_f1_m: 0.6812 - val_precision_m: 0.8047 - val_recall_m: 0.6224\n",
            "Epoch 115/200\n",
            "1144/1144 [==============================] - 62s 54ms/step - loss: 0.9334 - acc: 0.6671 - f1_m: 0.6521 - precision_m: 0.8114 - recall_m: 0.5456 - val_loss: 0.8114 - val_acc: 0.7130 - val_f1_m: 0.6798 - val_precision_m: 0.7949 - val_recall_m: 0.6224\n",
            "Epoch 116/200\n",
            "1144/1144 [==============================] - 62s 54ms/step - loss: 0.9305 - acc: 0.6678 - f1_m: 0.6532 - precision_m: 0.8124 - recall_m: 0.5466 - val_loss: 0.7995 - val_acc: 0.7181 - val_f1_m: 0.6825 - val_precision_m: 0.8061 - val_recall_m: 0.6236\n",
            "Epoch 117/200\n",
            "1144/1144 [==============================] - 63s 55ms/step - loss: 0.9285 - acc: 0.6685 - f1_m: 0.6539 - precision_m: 0.8118 - recall_m: 0.5479 - val_loss: 0.7877 - val_acc: 0.7222 - val_f1_m: 0.6879 - val_precision_m: 0.8080 - val_recall_m: 0.6274\n",
            "Epoch 118/200\n",
            "1144/1144 [==============================] - 62s 55ms/step - loss: 0.9301 - acc: 0.6680 - f1_m: 0.6537 - precision_m: 0.8114 - recall_m: 0.5477 - val_loss: 0.8065 - val_acc: 0.7143 - val_f1_m: 0.6815 - val_precision_m: 0.7982 - val_recall_m: 0.6233\n",
            "Epoch 119/200\n",
            "1144/1144 [==============================] - 66s 58ms/step - loss: 0.9263 - acc: 0.6702 - f1_m: 0.6554 - precision_m: 0.8111 - recall_m: 0.5503 - val_loss: 0.7928 - val_acc: 0.7206 - val_f1_m: 0.6885 - val_precision_m: 0.8025 - val_recall_m: 0.6305\n",
            "Epoch 120/200\n",
            "1144/1144 [==============================] - 63s 55ms/step - loss: 0.9211 - acc: 0.6716 - f1_m: 0.6573 - precision_m: 0.8130 - recall_m: 0.5522 - val_loss: 0.7942 - val_acc: 0.7201 - val_f1_m: 0.6912 - val_precision_m: 0.8021 - val_recall_m: 0.6331\n",
            "Epoch 121/200\n",
            "1144/1144 [==============================] - 63s 55ms/step - loss: 0.9214 - acc: 0.6724 - f1_m: 0.6587 - precision_m: 0.8132 - recall_m: 0.5540 - val_loss: 0.7960 - val_acc: 0.7187 - val_f1_m: 0.6825 - val_precision_m: 0.8029 - val_recall_m: 0.6241\n",
            "Epoch 122/200\n",
            "1144/1144 [==============================] - 63s 55ms/step - loss: 0.9262 - acc: 0.6701 - f1_m: 0.6562 - precision_m: 0.8117 - recall_m: 0.5512 - val_loss: 0.7955 - val_acc: 0.7182 - val_f1_m: 0.6842 - val_precision_m: 0.8103 - val_recall_m: 0.6222\n",
            "Epoch 123/200\n",
            "1144/1144 [==============================] - 62s 55ms/step - loss: 0.9222 - acc: 0.6710 - f1_m: 0.6577 - precision_m: 0.8128 - recall_m: 0.5527 - val_loss: 0.7927 - val_acc: 0.7212 - val_f1_m: 0.6925 - val_precision_m: 0.8025 - val_recall_m: 0.6356\n",
            "Epoch 124/200\n",
            "1144/1144 [==============================] - 63s 55ms/step - loss: 0.9224 - acc: 0.6718 - f1_m: 0.6578 - precision_m: 0.8122 - recall_m: 0.5532 - val_loss: 0.7965 - val_acc: 0.7206 - val_f1_m: 0.6907 - val_precision_m: 0.8030 - val_recall_m: 0.6325\n",
            "Epoch 125/200\n",
            "1144/1144 [==============================] - 63s 55ms/step - loss: 0.9207 - acc: 0.6716 - f1_m: 0.6592 - precision_m: 0.8127 - recall_m: 0.5549 - val_loss: 0.8088 - val_acc: 0.7158 - val_f1_m: 0.6899 - val_precision_m: 0.7921 - val_recall_m: 0.6349\n",
            "Epoch 126/200\n",
            "1144/1144 [==============================] - 62s 55ms/step - loss: 0.9193 - acc: 0.6720 - f1_m: 0.6582 - precision_m: 0.8121 - recall_m: 0.5538 - val_loss: 0.7746 - val_acc: 0.7275 - val_f1_m: 0.6973 - val_precision_m: 0.8132 - val_recall_m: 0.6391\n",
            "Epoch 127/200\n",
            "1144/1144 [==============================] - 63s 55ms/step - loss: 0.9152 - acc: 0.6735 - f1_m: 0.6610 - precision_m: 0.8136 - recall_m: 0.5571 - val_loss: 0.7762 - val_acc: 0.7265 - val_f1_m: 0.6962 - val_precision_m: 0.8095 - val_recall_m: 0.6384\n",
            "Epoch 128/200\n",
            "1144/1144 [==============================] - 62s 55ms/step - loss: 0.9133 - acc: 0.6746 - f1_m: 0.6617 - precision_m: 0.8141 - recall_m: 0.5577 - val_loss: 0.7988 - val_acc: 0.7176 - val_f1_m: 0.6856 - val_precision_m: 0.7995 - val_recall_m: 0.6288\n",
            "Epoch 129/200\n",
            "1144/1144 [==============================] - 62s 55ms/step - loss: 0.9150 - acc: 0.6732 - f1_m: 0.6608 - precision_m: 0.8138 - recall_m: 0.5567 - val_loss: 0.7691 - val_acc: 0.7295 - val_f1_m: 0.6971 - val_precision_m: 0.8148 - val_recall_m: 0.6381\n",
            "Epoch 130/200\n",
            "1144/1144 [==============================] - 63s 55ms/step - loss: 0.9149 - acc: 0.6741 - f1_m: 0.6607 - precision_m: 0.8126 - recall_m: 0.5572 - val_loss: 0.7800 - val_acc: 0.7265 - val_f1_m: 0.6963 - val_precision_m: 0.8079 - val_recall_m: 0.6399\n",
            "Epoch 131/200\n",
            "1144/1144 [==============================] - 62s 55ms/step - loss: 0.9128 - acc: 0.6747 - f1_m: 0.6619 - precision_m: 0.8134 - recall_m: 0.5584 - val_loss: 0.7759 - val_acc: 0.7269 - val_f1_m: 0.6999 - val_precision_m: 0.8088 - val_recall_m: 0.6420\n",
            "Epoch 132/200\n",
            "1144/1144 [==============================] - 63s 55ms/step - loss: 0.9100 - acc: 0.6756 - f1_m: 0.6624 - precision_m: 0.8133 - recall_m: 0.5592 - val_loss: 0.7716 - val_acc: 0.7287 - val_f1_m: 0.6997 - val_precision_m: 0.8104 - val_recall_m: 0.6415\n",
            "Epoch 133/200\n",
            "1144/1144 [==============================] - 62s 55ms/step - loss: 0.9103 - acc: 0.6755 - f1_m: 0.6632 - precision_m: 0.8135 - recall_m: 0.5603 - val_loss: 0.7830 - val_acc: 0.7250 - val_f1_m: 0.6924 - val_precision_m: 0.8067 - val_recall_m: 0.6342\n",
            "Epoch 134/200\n",
            "1144/1144 [==============================] - 63s 55ms/step - loss: 0.9115 - acc: 0.6745 - f1_m: 0.6617 - precision_m: 0.8131 - recall_m: 0.5583 - val_loss: 0.7759 - val_acc: 0.7281 - val_f1_m: 0.6979 - val_precision_m: 0.8126 - val_recall_m: 0.6394\n",
            "Epoch 135/200\n",
            "1144/1144 [==============================] - 63s 55ms/step - loss: 0.9116 - acc: 0.6761 - f1_m: 0.6625 - precision_m: 0.8141 - recall_m: 0.5589 - val_loss: 0.7642 - val_acc: 0.7312 - val_f1_m: 0.7037 - val_precision_m: 0.8133 - val_recall_m: 0.6462\n",
            "Epoch 136/200\n",
            "1144/1144 [==============================] - 63s 55ms/step - loss: 0.9081 - acc: 0.6772 - f1_m: 0.6642 - precision_m: 0.8146 - recall_m: 0.5611 - val_loss: 0.7664 - val_acc: 0.7289 - val_f1_m: 0.7010 - val_precision_m: 0.8080 - val_recall_m: 0.6445\n",
            "Epoch 137/200\n",
            "1144/1144 [==============================] - 63s 55ms/step - loss: 0.9061 - acc: 0.6777 - f1_m: 0.6641 - precision_m: 0.8136 - recall_m: 0.5614 - val_loss: 0.7619 - val_acc: 0.7305 - val_f1_m: 0.6994 - val_precision_m: 0.8179 - val_recall_m: 0.6396\n",
            "Epoch 138/200\n",
            "1144/1144 [==============================] - 63s 55ms/step - loss: 0.9044 - acc: 0.6785 - f1_m: 0.6657 - precision_m: 0.8148 - recall_m: 0.5631 - val_loss: 0.7801 - val_acc: 0.7253 - val_f1_m: 0.6990 - val_precision_m: 0.8033 - val_recall_m: 0.6429\n",
            "Epoch 139/200\n",
            "1144/1144 [==============================] - 63s 55ms/step - loss: 0.9013 - acc: 0.6799 - f1_m: 0.6682 - precision_m: 0.8158 - recall_m: 0.5662 - val_loss: 0.7708 - val_acc: 0.7286 - val_f1_m: 0.6989 - val_precision_m: 0.8133 - val_recall_m: 0.6426\n",
            "Epoch 140/200\n",
            "1144/1144 [==============================] - 63s 55ms/step - loss: 0.9010 - acc: 0.6796 - f1_m: 0.6674 - precision_m: 0.8152 - recall_m: 0.5654 - val_loss: 0.7742 - val_acc: 0.7299 - val_f1_m: 0.6969 - val_precision_m: 0.8122 - val_recall_m: 0.6386\n",
            "Epoch 141/200\n",
            "1144/1144 [==============================] - 63s 55ms/step - loss: 0.9036 - acc: 0.6784 - f1_m: 0.6663 - precision_m: 0.8140 - recall_m: 0.5643 - val_loss: 0.7796 - val_acc: 0.7245 - val_f1_m: 0.6926 - val_precision_m: 0.8117 - val_recall_m: 0.6334\n",
            "Epoch 142/200\n",
            "1144/1144 [==============================] - 63s 55ms/step - loss: 0.9003 - acc: 0.6804 - f1_m: 0.6683 - precision_m: 0.8164 - recall_m: 0.5661 - val_loss: 0.7679 - val_acc: 0.7287 - val_f1_m: 0.7017 - val_precision_m: 0.8091 - val_recall_m: 0.6446\n",
            "Epoch 143/200\n",
            "1144/1144 [==============================] - 63s 55ms/step - loss: 0.9029 - acc: 0.6791 - f1_m: 0.6666 - precision_m: 0.8144 - recall_m: 0.5647 - val_loss: 0.7783 - val_acc: 0.7268 - val_f1_m: 0.7003 - val_precision_m: 0.8048 - val_recall_m: 0.6434\n",
            "Epoch 144/200\n",
            "1144/1144 [==============================] - 63s 55ms/step - loss: 0.8977 - acc: 0.6809 - f1_m: 0.6687 - precision_m: 0.8147 - recall_m: 0.5676 - val_loss: 0.7675 - val_acc: 0.7320 - val_f1_m: 0.7042 - val_precision_m: 0.8109 - val_recall_m: 0.6494\n",
            "Epoch 145/200\n",
            "1144/1144 [==============================] - 63s 55ms/step - loss: 0.9036 - acc: 0.6786 - f1_m: 0.6666 - precision_m: 0.8146 - recall_m: 0.5645 - val_loss: 0.7728 - val_acc: 0.7273 - val_f1_m: 0.7031 - val_precision_m: 0.8082 - val_recall_m: 0.6460\n",
            "Epoch 146/200\n",
            "1144/1144 [==============================] - 63s 55ms/step - loss: 0.9001 - acc: 0.6792 - f1_m: 0.6670 - precision_m: 0.8149 - recall_m: 0.5649 - val_loss: 0.7994 - val_acc: 0.7186 - val_f1_m: 0.6927 - val_precision_m: 0.7975 - val_recall_m: 0.6368\n",
            "Epoch 147/200\n",
            "1144/1144 [==============================] - 63s 55ms/step - loss: 0.8994 - acc: 0.6807 - f1_m: 0.6681 - precision_m: 0.8162 - recall_m: 0.5660 - val_loss: 0.7612 - val_acc: 0.7316 - val_f1_m: 0.7025 - val_precision_m: 0.8114 - val_recall_m: 0.6460\n",
            "Epoch 148/200\n",
            "1144/1144 [==============================] - 63s 55ms/step - loss: 0.8993 - acc: 0.6802 - f1_m: 0.6676 - precision_m: 0.8147 - recall_m: 0.5659 - val_loss: 0.7678 - val_acc: 0.7292 - val_f1_m: 0.6997 - val_precision_m: 0.8137 - val_recall_m: 0.6420\n",
            "Epoch 149/200\n",
            "1144/1144 [==============================] - 63s 55ms/step - loss: 0.8968 - acc: 0.6830 - f1_m: 0.6703 - precision_m: 0.8162 - recall_m: 0.5690 - val_loss: 0.7787 - val_acc: 0.7273 - val_f1_m: 0.7012 - val_precision_m: 0.8052 - val_recall_m: 0.6465\n",
            "Epoch 150/200\n",
            "1144/1144 [==============================] - 63s 55ms/step - loss: 0.9002 - acc: 0.6800 - f1_m: 0.6675 - precision_m: 0.8141 - recall_m: 0.5660 - val_loss: 0.7678 - val_acc: 0.7321 - val_f1_m: 0.7045 - val_precision_m: 0.8105 - val_recall_m: 0.6488\n",
            "Epoch 151/200\n",
            "1144/1144 [==============================] - 63s 55ms/step - loss: 0.8960 - acc: 0.6809 - f1_m: 0.6689 - precision_m: 0.8146 - recall_m: 0.5678 - val_loss: 0.7695 - val_acc: 0.7304 - val_f1_m: 0.7025 - val_precision_m: 0.8086 - val_recall_m: 0.6477\n",
            "Epoch 152/200\n",
            "1144/1144 [==============================] - 63s 55ms/step - loss: 0.8933 - acc: 0.6825 - f1_m: 0.6707 - precision_m: 0.8166 - recall_m: 0.5695 - val_loss: 0.7638 - val_acc: 0.7326 - val_f1_m: 0.7072 - val_precision_m: 0.8062 - val_recall_m: 0.6519\n",
            "Epoch 153/200\n",
            "1144/1144 [==============================] - 63s 55ms/step - loss: 0.8922 - acc: 0.6837 - f1_m: 0.6718 - precision_m: 0.8155 - recall_m: 0.5715 - val_loss: 0.7594 - val_acc: 0.7351 - val_f1_m: 0.7070 - val_precision_m: 0.8140 - val_recall_m: 0.6525\n",
            "Epoch 154/200\n",
            "1144/1144 [==============================] - 63s 55ms/step - loss: 0.8909 - acc: 0.6831 - f1_m: 0.6718 - precision_m: 0.8175 - recall_m: 0.5707 - val_loss: 0.7757 - val_acc: 0.7293 - val_f1_m: 0.7004 - val_precision_m: 0.8069 - val_recall_m: 0.6440\n",
            "Epoch 155/200\n",
            "1144/1144 [==============================] - 63s 55ms/step - loss: 0.8928 - acc: 0.6831 - f1_m: 0.6703 - precision_m: 0.8146 - recall_m: 0.5698 - val_loss: 0.7810 - val_acc: 0.7278 - val_f1_m: 0.7021 - val_precision_m: 0.7986 - val_recall_m: 0.6491\n",
            "Epoch 156/200\n",
            "1144/1144 [==============================] - 63s 55ms/step - loss: 0.8924 - acc: 0.6838 - f1_m: 0.6716 - precision_m: 0.8155 - recall_m: 0.5714 - val_loss: 0.7610 - val_acc: 0.7356 - val_f1_m: 0.7083 - val_precision_m: 0.8102 - val_recall_m: 0.6551\n",
            "Epoch 157/200\n",
            "1144/1144 [==============================] - 63s 55ms/step - loss: 0.8930 - acc: 0.6826 - f1_m: 0.6713 - precision_m: 0.8163 - recall_m: 0.5705 - val_loss: 0.7643 - val_acc: 0.7313 - val_f1_m: 0.7004 - val_precision_m: 0.8138 - val_recall_m: 0.6423\n",
            "Epoch 158/200\n",
            "1144/1144 [==============================] - 63s 55ms/step - loss: 0.8923 - acc: 0.6842 - f1_m: 0.6717 - precision_m: 0.8155 - recall_m: 0.5714 - val_loss: 0.7765 - val_acc: 0.7273 - val_f1_m: 0.7007 - val_precision_m: 0.8023 - val_recall_m: 0.6479\n",
            "Epoch 159/200\n",
            "1144/1144 [==============================] - 63s 55ms/step - loss: 0.8867 - acc: 0.6852 - f1_m: 0.6745 - precision_m: 0.8163 - recall_m: 0.5751 - val_loss: 0.7730 - val_acc: 0.7308 - val_f1_m: 0.7036 - val_precision_m: 0.8096 - val_recall_m: 0.6490\n",
            "Epoch 160/200\n",
            "1144/1144 [==============================] - 63s 55ms/step - loss: 0.8880 - acc: 0.6845 - f1_m: 0.6731 - precision_m: 0.8164 - recall_m: 0.5730 - val_loss: 0.7737 - val_acc: 0.7318 - val_f1_m: 0.7044 - val_precision_m: 0.8052 - val_recall_m: 0.6512\n",
            "Epoch 161/200\n",
            "1144/1144 [==============================] - 63s 55ms/step - loss: 0.8849 - acc: 0.6858 - f1_m: 0.6735 - precision_m: 0.8157 - recall_m: 0.5739 - val_loss: 0.7673 - val_acc: 0.7317 - val_f1_m: 0.7092 - val_precision_m: 0.8034 - val_recall_m: 0.6571\n",
            "Epoch 162/200\n",
            "1144/1144 [==============================] - 63s 55ms/step - loss: 0.8865 - acc: 0.6846 - f1_m: 0.6740 - precision_m: 0.8164 - recall_m: 0.5743 - val_loss: 0.7464 - val_acc: 0.7398 - val_f1_m: 0.7132 - val_precision_m: 0.8151 - val_recall_m: 0.6613\n",
            "Epoch 163/200\n",
            "1144/1144 [==============================] - 63s 55ms/step - loss: 0.8848 - acc: 0.6864 - f1_m: 0.6749 - precision_m: 0.8166 - recall_m: 0.5756 - val_loss: 0.7529 - val_acc: 0.7356 - val_f1_m: 0.7106 - val_precision_m: 0.8123 - val_recall_m: 0.6573\n",
            "Epoch 164/200\n",
            "1144/1144 [==============================] - 63s 55ms/step - loss: 0.8871 - acc: 0.6850 - f1_m: 0.6741 - precision_m: 0.8159 - recall_m: 0.5746 - val_loss: 0.7482 - val_acc: 0.7379 - val_f1_m: 0.7105 - val_precision_m: 0.8166 - val_recall_m: 0.6542\n",
            "Epoch 165/200\n",
            "1144/1144 [==============================] - 63s 55ms/step - loss: 0.8877 - acc: 0.6845 - f1_m: 0.6726 - precision_m: 0.8154 - recall_m: 0.5728 - val_loss: 0.7489 - val_acc: 0.7381 - val_f1_m: 0.7107 - val_precision_m: 0.8141 - val_recall_m: 0.6552\n",
            "Epoch 166/200\n",
            "1144/1144 [==============================] - 63s 55ms/step - loss: 0.8817 - acc: 0.6872 - f1_m: 0.6763 - precision_m: 0.8170 - recall_m: 0.5774 - val_loss: 0.7478 - val_acc: 0.7398 - val_f1_m: 0.7148 - val_precision_m: 0.8155 - val_recall_m: 0.6606\n",
            "Epoch 167/200\n",
            "1144/1144 [==============================] - 63s 55ms/step - loss: 0.8836 - acc: 0.6879 - f1_m: 0.6763 - precision_m: 0.8171 - recall_m: 0.5774 - val_loss: 0.7604 - val_acc: 0.7321 - val_f1_m: 0.7063 - val_precision_m: 0.8095 - val_recall_m: 0.6518\n",
            "Epoch 168/200\n",
            "1144/1144 [==============================] - 63s 55ms/step - loss: 0.8854 - acc: 0.6866 - f1_m: 0.6747 - precision_m: 0.8158 - recall_m: 0.5757 - val_loss: 0.7699 - val_acc: 0.7315 - val_f1_m: 0.7037 - val_precision_m: 0.8088 - val_recall_m: 0.6492\n",
            "Epoch 169/200\n",
            "1144/1144 [==============================] - 63s 55ms/step - loss: 0.8878 - acc: 0.6852 - f1_m: 0.6737 - precision_m: 0.8158 - recall_m: 0.5742 - val_loss: 0.7685 - val_acc: 0.7339 - val_f1_m: 0.7074 - val_precision_m: 0.8088 - val_recall_m: 0.6542\n",
            "Epoch 170/200\n",
            "1144/1144 [==============================] - 63s 55ms/step - loss: 0.8809 - acc: 0.6872 - f1_m: 0.6765 - precision_m: 0.8163 - recall_m: 0.5780 - val_loss: 0.7684 - val_acc: 0.7320 - val_f1_m: 0.7081 - val_precision_m: 0.8057 - val_recall_m: 0.6554\n",
            "Epoch 171/200\n",
            "1144/1144 [==============================] - 63s 55ms/step - loss: 0.8819 - acc: 0.6876 - f1_m: 0.6762 - precision_m: 0.8160 - recall_m: 0.5777 - val_loss: 0.7454 - val_acc: 0.7408 - val_f1_m: 0.7165 - val_precision_m: 0.8178 - val_recall_m: 0.6634\n",
            "Epoch 172/200\n",
            "1144/1144 [==============================] - 63s 55ms/step - loss: 0.8778 - acc: 0.6894 - f1_m: 0.6779 - precision_m: 0.8169 - recall_m: 0.5797 - val_loss: 0.7615 - val_acc: 0.7346 - val_f1_m: 0.7103 - val_precision_m: 0.8068 - val_recall_m: 0.6580\n",
            "Epoch 173/200\n",
            "1144/1144 [==============================] - 63s 55ms/step - loss: 0.8784 - acc: 0.6888 - f1_m: 0.6780 - precision_m: 0.8170 - recall_m: 0.5798 - val_loss: 0.7585 - val_acc: 0.7368 - val_f1_m: 0.7093 - val_precision_m: 0.8114 - val_recall_m: 0.6555\n",
            "Epoch 174/200\n",
            "1144/1144 [==============================] - 63s 55ms/step - loss: 0.8780 - acc: 0.6889 - f1_m: 0.6781 - precision_m: 0.8163 - recall_m: 0.5802 - val_loss: 0.7469 - val_acc: 0.7398 - val_f1_m: 0.7150 - val_precision_m: 0.8153 - val_recall_m: 0.6609\n",
            "Epoch 175/200\n",
            "1144/1144 [==============================] - 63s 55ms/step - loss: 0.8781 - acc: 0.6890 - f1_m: 0.6784 - precision_m: 0.8181 - recall_m: 0.5798 - val_loss: 0.7759 - val_acc: 0.7305 - val_f1_m: 0.7050 - val_precision_m: 0.8072 - val_recall_m: 0.6509\n",
            "Epoch 176/200\n",
            "1144/1144 [==============================] - 64s 56ms/step - loss: 0.8793 - acc: 0.6883 - f1_m: 0.6774 - precision_m: 0.8169 - recall_m: 0.5789 - val_loss: 0.7559 - val_acc: 0.7364 - val_f1_m: 0.7119 - val_precision_m: 0.8125 - val_recall_m: 0.6572\n",
            "Epoch 177/200\n",
            "1144/1144 [==============================] - 63s 55ms/step - loss: 0.8794 - acc: 0.6884 - f1_m: 0.6783 - precision_m: 0.8172 - recall_m: 0.5802 - val_loss: 0.7423 - val_acc: 0.7398 - val_f1_m: 0.7189 - val_precision_m: 0.8120 - val_recall_m: 0.6670\n",
            "Epoch 178/200\n",
            "1144/1144 [==============================] - 63s 55ms/step - loss: 0.8762 - acc: 0.6900 - f1_m: 0.6785 - precision_m: 0.8175 - recall_m: 0.5803 - val_loss: 0.7518 - val_acc: 0.7383 - val_f1_m: 0.7154 - val_precision_m: 0.8107 - val_recall_m: 0.6631\n",
            "Epoch 179/200\n",
            "1144/1144 [==============================] - 63s 55ms/step - loss: 0.8787 - acc: 0.6892 - f1_m: 0.6778 - precision_m: 0.8165 - recall_m: 0.5798 - val_loss: 0.7651 - val_acc: 0.7349 - val_f1_m: 0.7082 - val_precision_m: 0.8080 - val_recall_m: 0.6565\n",
            "Epoch 180/200\n",
            "1144/1144 [==============================] - 63s 55ms/step - loss: 0.8763 - acc: 0.6890 - f1_m: 0.6788 - precision_m: 0.8176 - recall_m: 0.5807 - val_loss: 0.7668 - val_acc: 0.7311 - val_f1_m: 0.7068 - val_precision_m: 0.8104 - val_recall_m: 0.6507\n",
            "Epoch 181/200\n",
            "1144/1144 [==============================] - 63s 55ms/step - loss: 0.8795 - acc: 0.6885 - f1_m: 0.6774 - precision_m: 0.8176 - recall_m: 0.5787 - val_loss: 0.7599 - val_acc: 0.7354 - val_f1_m: 0.7129 - val_precision_m: 0.8089 - val_recall_m: 0.6601\n",
            "Epoch 182/200\n",
            "1144/1144 [==============================] - 63s 55ms/step - loss: 0.8714 - acc: 0.6911 - f1_m: 0.6809 - precision_m: 0.8179 - recall_m: 0.5836 - val_loss: 0.7519 - val_acc: 0.7357 - val_f1_m: 0.7101 - val_precision_m: 0.8151 - val_recall_m: 0.6550\n",
            "Epoch 183/200\n",
            "1144/1144 [==============================] - 63s 55ms/step - loss: 0.8741 - acc: 0.6908 - f1_m: 0.6803 - precision_m: 0.8184 - recall_m: 0.5825 - val_loss: 0.7324 - val_acc: 0.7446 - val_f1_m: 0.7200 - val_precision_m: 0.8174 - val_recall_m: 0.6675\n",
            "Epoch 184/200\n",
            "1144/1144 [==============================] - 63s 55ms/step - loss: 0.8728 - acc: 0.6917 - f1_m: 0.6801 - precision_m: 0.8173 - recall_m: 0.5828 - val_loss: 0.7385 - val_acc: 0.7433 - val_f1_m: 0.7168 - val_precision_m: 0.8174 - val_recall_m: 0.6635\n",
            "Epoch 185/200\n",
            "1144/1144 [==============================] - 63s 55ms/step - loss: 0.8708 - acc: 0.6923 - f1_m: 0.6821 - precision_m: 0.8196 - recall_m: 0.5845 - val_loss: 0.7382 - val_acc: 0.7434 - val_f1_m: 0.7200 - val_precision_m: 0.8144 - val_recall_m: 0.6669\n",
            "Epoch 186/200\n",
            "1144/1144 [==============================] - 63s 55ms/step - loss: 0.8732 - acc: 0.6911 - f1_m: 0.6797 - precision_m: 0.8165 - recall_m: 0.5825 - val_loss: 0.7461 - val_acc: 0.7396 - val_f1_m: 0.7130 - val_precision_m: 0.8159 - val_recall_m: 0.6584\n",
            "Epoch 187/200\n",
            "1144/1144 [==============================] - 63s 55ms/step - loss: 0.8737 - acc: 0.6914 - f1_m: 0.6800 - precision_m: 0.8169 - recall_m: 0.5828 - val_loss: 0.7455 - val_acc: 0.7402 - val_f1_m: 0.7143 - val_precision_m: 0.8152 - val_recall_m: 0.6608\n",
            "Epoch 188/200\n",
            "1144/1144 [==============================] - 63s 55ms/step - loss: 0.8704 - acc: 0.6923 - f1_m: 0.6810 - precision_m: 0.8177 - recall_m: 0.5838 - val_loss: 0.7297 - val_acc: 0.7439 - val_f1_m: 0.7181 - val_precision_m: 0.8227 - val_recall_m: 0.6633\n",
            "Epoch 189/200\n",
            "1144/1144 [==============================] - 63s 55ms/step - loss: 0.8671 - acc: 0.6931 - f1_m: 0.6837 - precision_m: 0.8196 - recall_m: 0.5867 - val_loss: 0.7418 - val_acc: 0.7405 - val_f1_m: 0.7194 - val_precision_m: 0.8109 - val_recall_m: 0.6674\n",
            "Epoch 190/200\n",
            "1144/1144 [==============================] - 63s 55ms/step - loss: 0.8712 - acc: 0.6908 - f1_m: 0.6802 - precision_m: 0.8174 - recall_m: 0.5829 - val_loss: 0.7315 - val_acc: 0.7424 - val_f1_m: 0.7197 - val_precision_m: 0.8172 - val_recall_m: 0.6662\n",
            "Epoch 191/200\n",
            "1144/1144 [==============================] - 63s 55ms/step - loss: 0.8661 - acc: 0.6934 - f1_m: 0.6832 - precision_m: 0.8191 - recall_m: 0.5864 - val_loss: 0.7515 - val_acc: 0.7399 - val_f1_m: 0.7136 - val_precision_m: 0.8150 - val_recall_m: 0.6593\n",
            "Epoch 192/200\n",
            "1144/1144 [==============================] - 63s 55ms/step - loss: 0.8696 - acc: 0.6921 - f1_m: 0.6818 - precision_m: 0.8167 - recall_m: 0.5856 - val_loss: 0.7483 - val_acc: 0.7372 - val_f1_m: 0.7145 - val_precision_m: 0.8107 - val_recall_m: 0.6615\n",
            "Epoch 193/200\n",
            "1144/1144 [==============================] - 63s 55ms/step - loss: 0.8690 - acc: 0.6926 - f1_m: 0.6817 - precision_m: 0.8175 - recall_m: 0.5850 - val_loss: 0.7532 - val_acc: 0.7377 - val_f1_m: 0.7115 - val_precision_m: 0.8136 - val_recall_m: 0.6585\n",
            "Epoch 194/200\n",
            "1144/1144 [==============================] - 63s 55ms/step - loss: 0.8698 - acc: 0.6926 - f1_m: 0.6815 - precision_m: 0.8183 - recall_m: 0.5843 - val_loss: 0.7397 - val_acc: 0.7427 - val_f1_m: 0.7170 - val_precision_m: 0.8157 - val_recall_m: 0.6633\n",
            "Epoch 195/200\n",
            "1144/1144 [==============================] - 63s 55ms/step - loss: 0.8656 - acc: 0.6951 - f1_m: 0.6845 - precision_m: 0.8184 - recall_m: 0.5886 - val_loss: 0.7320 - val_acc: 0.7459 - val_f1_m: 0.7193 - val_precision_m: 0.8180 - val_recall_m: 0.6670\n",
            "Epoch 196/200\n",
            "1144/1144 [==============================] - 63s 55ms/step - loss: 0.8690 - acc: 0.6924 - f1_m: 0.6813 - precision_m: 0.8166 - recall_m: 0.5849 - val_loss: 0.7559 - val_acc: 0.7384 - val_f1_m: 0.7165 - val_precision_m: 0.8088 - val_recall_m: 0.6650\n",
            "Epoch 197/200\n",
            "1144/1144 [==============================] - 63s 55ms/step - loss: 0.8647 - acc: 0.6939 - f1_m: 0.6836 - precision_m: 0.8182 - recall_m: 0.5875 - val_loss: 0.7379 - val_acc: 0.7437 - val_f1_m: 0.7225 - val_precision_m: 0.8139 - val_recall_m: 0.6712\n",
            "Epoch 198/200\n",
            "1144/1144 [==============================] - 63s 55ms/step - loss: 0.8665 - acc: 0.6936 - f1_m: 0.6825 - precision_m: 0.8174 - recall_m: 0.5863 - val_loss: 0.7622 - val_acc: 0.7370 - val_f1_m: 0.7177 - val_precision_m: 0.8045 - val_recall_m: 0.6685\n",
            "Epoch 199/200\n",
            "1144/1144 [==============================] - 63s 55ms/step - loss: 0.8635 - acc: 0.6937 - f1_m: 0.6829 - precision_m: 0.8178 - recall_m: 0.5865 - val_loss: 0.7353 - val_acc: 0.7454 - val_f1_m: 0.7256 - val_precision_m: 0.8113 - val_recall_m: 0.6760\n",
            "Epoch 200/200\n",
            "1144/1144 [==============================] - 63s 55ms/step - loss: 0.8663 - acc: 0.6934 - f1_m: 0.6829 - precision_m: 0.8178 - recall_m: 0.5866 - val_loss: 0.7476 - val_acc: 0.7393 - val_f1_m: 0.7140 - val_precision_m: 0.8167 - val_recall_m: 0.6594\n",
            "--- 12533.317277431488 seconds ---\n"
          ]
        }
      ]
    },
    {
      "cell_type": "code",
      "metadata": {
        "id": "7sO_7Ov2MEzA",
        "colab": {
          "base_uri": "https://localhost:8080/"
        },
        "outputId": "8aa43f9a-5dc1-4fc1-8bac-bc2aa228b649"
      },
      "source": [
        "score = model.evaluate(x_test, y_test, verbose=1)\n",
        "print('Test loss:', score[0])\n",
        "print('Test accuracy:', score[1])\n",
        "loss, accuracy, f1_score, precision, recall = model.evaluate(x_test, y_test, verbose=0)"
      ],
      "execution_count": null,
      "outputs": [
        {
          "output_type": "stream",
          "name": "stdout",
          "text": [
            "3050/3050 [==============================] - 38s 12ms/step - loss: 0.7476 - acc: 0.7393 - f1_m: 0.7041 - precision_m: 0.7957 - recall_m: 0.6589\n",
            "Test loss: 0.7476276159286499\n",
            "Test accuracy: 0.739313542842865\n"
          ]
        }
      ]
    },
    {
      "cell_type": "code",
      "metadata": {
        "id": "b016S-7G5i6h",
        "colab": {
          "base_uri": "https://localhost:8080/"
        },
        "outputId": "e07706ac-8c4b-4ae6-97dc-4d670b72e723"
      },
      "source": [
        "print(loss, accuracy, f1_score, precision, recall)"
      ],
      "execution_count": null,
      "outputs": [
        {
          "output_type": "stream",
          "name": "stdout",
          "text": [
            "0.4850427210330963 0.8803278803825378 0.8833855390548706 0.9019858837127686 0.8679721355438232\n"
          ]
        }
      ]
    },
    {
      "cell_type": "code",
      "metadata": {
        "id": "-efHnyavME21",
        "colab": {
          "base_uri": "https://localhost:8080/",
          "height": 312
        },
        "outputId": "5a9ed52e-46bc-4576-97e7-6f405523efd5"
      },
      "source": [
        "import matplotlib.pyplot as plt\n",
        "print(m.history.keys())\n",
        "# summarize history for accuracy\n",
        "# metrics=['acc',f1_m,precision_m, recall_m]\n",
        "plt.plot(m.history['acc'])\n",
        "plt.plot(m.history['val_acc'])\n",
        "plt.title('model accuracy')\n",
        "plt.ylabel('accuracy')\n",
        "plt.xlabel('epoch')\n",
        "plt.legend(['train', 'test'], loc='upper left')\n",
        "plt.show()\n"
      ],
      "execution_count": null,
      "outputs": [
        {
          "output_type": "stream",
          "name": "stdout",
          "text": [
            "dict_keys(['loss', 'acc', 'f1_m', 'precision_m', 'recall_m', 'val_loss', 'val_acc', 'val_f1_m', 'val_precision_m', 'val_recall_m'])\n"
          ]
        },
        {
          "output_type": "display_data",
          "data": {
            "image/png": "[encoded data removed]",
            "text/plain": [
              "<Figure size 432x288 with 1 Axes>"
            ]
          },
          "metadata": {
            "needs_background": "light"
          }
        }
      ]
    },
    {
      "cell_type": "code",
      "metadata": {
        "id": "KOGAS8W-ME5i",
        "colab": {
          "base_uri": "https://localhost:8080/",
          "height": 295
        },
        "outputId": "ba9893dd-6a77-4edf-8328-3da174ecafb2"
      },
      "source": [
        "# summarize history for loss\n",
        "plt.plot(m.history['loss'])\n",
        "plt.plot(m.history['val_loss'])\n",
        "plt.title('model loss')\n",
        "plt.ylabel('loss')\n",
        "plt.xlabel('epoch')\n",
        "plt.legend(['train', 'test'], loc='upper left')\n",
        "plt.show()"
      ],
      "execution_count": null,
      "outputs": [
        {
          "output_type": "display_data",
          "data": {
            "image/png": "[encoded data removed]",
            "text/plain": [
              "<Figure size 432x288 with 1 Axes>"
            ]
          },
          "metadata": {
            "needs_background": "light"
          }
        }
      ]
    },
    {
      "cell_type": "code",
      "metadata": {
        "id": "al-HTvN0ME87",
        "colab": {
          "base_uri": "https://localhost:8080/",
          "height": 295
        },
        "outputId": "b2b7df0a-4339-44ce-ea26-8b3192579464"
      },
      "source": [
        "plt.plot(m.history['val_accuracy'])\n",
        "plt.plot(m.history['val_loss'])\n",
        "plt.title('test model')\n",
        "plt.ylabel('test accuracy')\n",
        "plt.xlabel('test loss')\n",
        "plt.show()"
      ],
      "execution_count": null,
      "outputs": [
        {
          "output_type": "display_data",
          "data": {
            "image/png": "[encoded data removed]",
            "text/plain": [
              "<Figure size 432x288 with 1 Axes>"
            ]
          },
          "metadata": {
            "tags": [],
            "needs_background": "light"
          }
        }
      ]
    },
    {
      "cell_type": "code",
      "metadata": {
        "id": "nDZKzIL3ME_t"
      },
      "source": [
        ""
      ],
      "execution_count": null,
      "outputs": []
    },
    {
      "cell_type": "code",
      "metadata": {
        "id": "7yOindOjMFDJ",
        "colab": {
          "base_uri": "https://localhost:8080/",
          "height": 599
        },
        "outputId": "2f52b8f4-55cf-4ba3-e248-929425a3e7a1"
      },
      "source": [
        "y_pred=model.predict_classes(x_test)\n",
        "from sklearn.metrics import confusion_matrix\n",
        "import numpy as np\n",
        "y_test=np.argmax(y_test, axis=1)\n",
        "cmatrix=confusion_matrix(y_test, y_pred)\n",
        "import seaborn as sns\n",
        "figure = plt.figure(figsize=(8, 8))\n",
        "sns.heatmap(cmatrix, annot=True,cmap=plt.cm.Blues)\n",
        "plt.tight_layout()\n",
        "plt.ylabel('True label')\n",
        "plt.xlabel('Predicted label')\n",
        "plt.show()"
      ],
      "execution_count": null,
      "outputs": [
        {
          "output_type": "display_data",
          "data": {
            "image/png": "[encoded data removed]",
            "text/plain": [
              "<Figure size 576x576 with 2 Axes>"
            ]
          },
          "metadata": {
            "tags": [],
            "needs_background": "light"
          }
        }
      ]
    },
    {
      "cell_type": "code",
      "metadata": {
        "id": "u-sVlJy1P4Bu"
      },
      "source": [
        ""
      ],
      "execution_count": null,
      "outputs": []
    },
    {
      "cell_type": "code",
      "metadata": {
        "id": "ffjbx3-SQZNM"
      },
      "source": [
        ""
      ],
      "execution_count": null,
      "outputs": []
    }
  ]
}