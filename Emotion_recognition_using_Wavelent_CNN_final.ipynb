{
  "nbformat": 4,
  "nbformat_minor": 0,
  "metadata": {
    "colab": {
      "name": "Emotion_recognition_using_Wavelent_CNN_final.ipynb",
      "provenance": [],
      "collapsed_sections": []
    },
    "kernelspec": {
      "name": "python3",
      "display_name": "Python 3"
    },
    "accelerator": "GPU"
  },
  "cells": [
    {
      "cell_type": "markdown",
      "metadata": {
        "id": "view-in-github"
      },
      "source": [
        "<a href=\"https://colab.research.google.com/github/siddhi5386/Emotion-Recognition-from-brain-EEG-signals-/blob/master/Emotion_recognition_from_brain_signals_using_CNN.ipynb\" target=\"_parent\"><img src=\"https://colab.research.google.com/assets/colab-badge.svg\" alt=\"Open In Colab\"/></a>"
      ]
    },
    {
      "cell_type": "code",
      "metadata": {
        "colab": {
          "base_uri": "https://localhost:8080/"
        },
        "id": "wUW-wTKOQJTX",
        "outputId": "f619749c-cd97-430d-9f7f-2730ec3737b3"
      },
      "source": [
        "from google.colab import drive\n",
        "drive.mount('/content/drive')"
      ],
      "execution_count": null,
      "outputs": [
        {
          "output_type": "stream",
          "text": [
            "Mounted at /content/drive\n"
          ],
          "name": "stdout"
        }
      ]
    },
    {
      "cell_type": "code",
      "metadata": {
        "id": "4ZgJPO-bvo4B",
        "colab": {
          "base_uri": "https://localhost:8080/"
        },
        "outputId": "f1fa02b0-2db2-4e5e-dbd9-64e98c834f99"
      },
      "source": [
        "!pip install git+https://github.com/forrestbao/pyeeg.git\n",
        "import numpy as np\n",
        "import pyeeg as pe\n",
        "import pickle as pickle\n",
        "import pandas as pd\n",
        "import math\n",
        "\n",
        "from sklearn import svm\n",
        "from sklearn.preprocessing import normalize\n",
        "\n",
        "import os\n",
        "import time"
      ],
      "execution_count": null,
      "outputs": [
        {
          "output_type": "stream",
          "text": [
            "Collecting git+https://github.com/forrestbao/pyeeg.git\n",
            "  Cloning https://github.com/forrestbao/pyeeg.git to /tmp/pip-req-build-a_5y_d23\n",
            "  Running command git clone -q https://github.com/forrestbao/pyeeg.git /tmp/pip-req-build-a_5y_d23\n",
            "Requirement already satisfied: numpy>=1.9.2 in /usr/local/lib/python3.7/dist-packages (from pyeeg==0.4.4) (1.19.5)\n",
            "Building wheels for collected packages: pyeeg\n",
            "  Building wheel for pyeeg (setup.py) ... \u001b[?25l\u001b[?25hdone\n",
            "  Created wheel for pyeeg: filename=pyeeg-0.4.4-py2.py3-none-any.whl size=28123 sha256=9abd7b9e8c9a7da579c1ece88a14979b702af56fcb53a2d0b0a98c940d06d56d\n",
            "  Stored in directory: /tmp/pip-ephem-wheel-cache-xb9_4lxk/wheels/2d/3f/ad/106d4fc80b61d1ea1fc18e76e7439fd98aa043d83d58eae741\n",
            "Successfully built pyeeg\n",
            "Installing collected packages: pyeeg\n",
            "Successfully installed pyeeg-0.4.4\n"
          ],
          "name": "stdout"
        }
      ]
    },
    {
      "cell_type": "code",
      "metadata": {
        "id": "A6V-0VlCv8F3"
      },
      "source": [
        "import pandas as pd\n",
        "import keras.backend as K\n",
        "import numpy as np\n",
        "import pandas as pd\n",
        "from keras.models import Sequential\n",
        "from keras.layers import Dense\n",
        "from keras.models import Sequential\n",
        "from keras.layers.convolutional import Conv1D\n",
        "from keras.layers.convolutional import MaxPooling1D\n",
        "from keras.utils import to_categorical \n",
        "from keras.layers import Flatten\n",
        "from keras.layers import Dense\n",
        "import numpy as np\n",
        "import keras\n",
        "from keras.datasets import mnist\n",
        "from keras.models import Sequential\n",
        "from keras.layers import Dense, Dropout, Flatten, Conv2D, MaxPooling2D\n",
        "from keras import backend as K\n",
        "from keras.models import Model\n",
        "import timeit\n",
        "from keras.models import Sequential\n",
        "from keras.layers.core import Flatten, Dense, Dropout\n",
        "from keras.layers.convolutional import Convolution1D, MaxPooling1D, ZeroPadding1D\n",
        "from keras.optimizers import SGD\n",
        "#import cv2, numpy as np\n",
        "import warnings\n",
        "warnings.filterwarnings('ignore')"
      ],
      "execution_count": null,
      "outputs": []
    },
    {
      "cell_type": "code",
      "metadata": {
        "id": "bWlMgzPBwGwF",
        "colab": {
          "base_uri": "https://localhost:8080/"
        },
        "outputId": "98a238a7-9d22-4a65-de3b-7c4b9f944149"
      },
      "source": [
        "from google.colab import drive\n",
        "drive.mount('/content/drive/')"
      ],
      "execution_count": null,
      "outputs": [
        {
          "output_type": "stream",
          "text": [
            "Drive already mounted at /content/drive/; to attempt to forcibly remount, call drive.mount(\"/content/drive/\", force_remount=True).\n"
          ],
          "name": "stdout"
        }
      ]
    },
    {
      "cell_type": "code",
      "metadata": {
        "id": "JOXuEM0JwJqI"
      },
      "source": [
        "# data_preprocessed_python\n",
        "os.getcwd()\n",
        "os.chdir('/content/drive/MyDrive')"
      ],
      "execution_count": null,
      "outputs": []
    },
    {
      "cell_type": "code",
      "metadata": {
        "id": "kCMT74t9wowG"
      },
      "source": [
        "channel = [1,2,3,4,5,6,11,13,17,19,20,21,22,23,25,29,31] #14 Channels chosen to fit Emotiv Epoch+\n",
        "band = [4,8,12,16,25,45] #5 bands\n",
        "window_size = 256 #Averaging band power of 2 sec\n",
        "step_size = 16 #Each 0.125 sec update once\n",
        "sample_rate = 128 #Sampling rate of 128 Hz\n",
        "subjectList = ['01','02','03','04','05','06','07','08','09','10']\n",
        "#List of subjects"
      ],
      "execution_count": null,
      "outputs": []
    },
    {
      "cell_type": "code",
      "metadata": {
        "id": "UD-WVHARwsXz"
      },
      "source": [
        "def Discrete_wavelet_transform (sub, channel, band, window_size, step_size, sample_rate):\n",
        "   \n",
        "    meta = []\n",
        "    with open(\"/content/drive/MyDrive/BTP/data_preprocessed_python/s\" + sub + '.dat', 'rb') as file:\n",
        "\n",
        "        subject = pickle.load(file, encoding='latin1') \n",
        "        for i in range (0,40):\n",
        "            # loop over 0-39 trails\n",
        "\n",
        "            data = subject[\"data\"][i]\n",
        "            labels = subject[\"labels\"][i]\n",
        "            start = 0;\n",
        "            \n",
        "            while start + window_size < data.shape[1]:\n",
        "                meta_array = []\n",
        "                meta_data = [] \n",
        "                for j in channel:\n",
        "                    Y = []\n",
        "                    X = data[j][start : start + window_size] \n",
        "                    coeffs = pywt.wavedec(X, 'db4', level=6)\n",
        "      \n",
        "                    cA6, cD6, cD5,cD4,cD3,cD2,cD1 = coeffs\n",
        "                    scD3 = np.std(cD3)\n",
        "                    scD2 = np.std(cD2)\n",
        "                    scD1 = np.std(cD1)\n",
        "                    \n",
        "                    Ent_cD3 = stats.entropy(np.square(cD3))\n",
        "                    Ent_cD2 = stats.entropy(np.square(cD2))\n",
        "                    Ent_cD1 = stats.entropy(np.square(cD1))\n",
        "\n",
        "                    Ene_cD3 = np.sum(np.square(cD3))\n",
        "                    Ene_cD2 = np.sum(np.square(cD2))\n",
        "                    Ene_cD1 = np.sum(np.square(cD1))\n",
        "\n",
        "\n",
        "                    \n",
        "                    Y = [Ent_cD1, Ent_cD2, Ent_cD3, scD1, scD2, scD3, Ene_cD1, Ene_cD2, Ene_cD3]\n",
        "                    \n",
        "                    meta_data = meta_data + list(Y)\n",
        "\n",
        "                meta_array.append(np.array(meta_data))\n",
        "                meta_array.append(labels)\n",
        "\n",
        "                meta.append(np.array(meta_array))    \n",
        "                start = start + step_size\n",
        "                \n",
        "        meta = np.array(meta)\n",
        "        np.save('/content/drive/MyDrive/BTP/data_preprocessed_python/Wavelet/s' + sub, meta, allow_pickle=True, fix_imports=True)"
      ],
      "execution_count": null,
      "outputs": []
    },
    {
      "cell_type": "code",
      "metadata": {
        "id": "TWcHt5X2xDfw"
      },
      "source": [
        "for subject in subjectList:\n",
        "  Discrete_wavelet_transform (subject, channel, band, window_size, step_size, sample_rate)"
      ],
      "execution_count": null,
      "outputs": []
    },
    {
      "cell_type": "code",
      "metadata": {
        "id": "dM2Bdu7oxIbE",
        "colab": {
          "base_uri": "https://localhost:8080/"
        },
        "outputId": "4e7fdd37-dadf-4bfe-f852-d5b4f8857ec1"
      },
      "source": [
        "data_training = []\n",
        "label_training = []\n",
        "data_testing = []\n",
        "label_testing = []\n",
        "\n",
        "for i in range(new_total_samples.shape[0]):\n",
        "  if i%4==0:\n",
        "    data_testing.append(new_total_samples[i])\n",
        "    label_testing.append(total_labels[i])\n",
        "  else:\n",
        "    data_training.append(new_total_samples[i])\n",
        "    label_training.append(total_labels[i])\n",
        "\n",
        "np.save('/content/drive/MyDrive/BTP/data_preprocessed_python/Wavelet/data_training', np.array(data_training), allow_pickle=True, fix_imports=True)\n",
        "np.save('/content/drive/MyDrive/BTP/data_preprocessed_python/Wavelet/label_training', np.array(label_training), allow_pickle=True, fix_imports=True)\n",
        "print(\"training dataset:\", np.array(data_training).shape, np.array(label_training).shape)\n",
        "\n",
        "\n",
        "np.save('/content/drive/MyDrive/BTP/data_preprocessed_python/Wavelet/data_testing', np.array(data_testing), allow_pickle=True, fix_imports=True)\n",
        "np.save('/content/drive/MyDrive/BTP/data_preprocessed_python/Wavelet/label_testing', np.array(label_testing), allow_pickle=True, fix_imports=True)\n",
        "print(\"testing dataset:\", np.array(data_testing).shape, np.array(label_testing).shape)"
      ],
      "execution_count": null,
      "outputs": [
        {
          "output_type": "stream",
          "text": [
            "training dataset: (156160, 85) (156160, 4)\n",
            "testing dataset: (39040, 85) (39040, 4)\n"
          ],
          "name": "stdout"
        }
      ]
    },
    {
      "cell_type": "code",
      "metadata": {
        "id": "pnNNgiBN_HcS"
      },
      "source": [
        "with open('/content/drive/MyDrive/BTP/data_preprocessed_python/Wavelet/data_training.npy', 'rb') as fileTrain:\n",
        "    X  = np.load(fileTrain)\n",
        "    \n",
        "with open('/content/drive/MyDrive/BTP/data_preprocessed_python/Wavelet/label_training.npy', 'rb') as fileTrainL:\n",
        "    Y  = np.load(fileTrainL)\n",
        "    \n",
        "X = normalize(X)\n",
        "Z = np.ravel(Y[:, [1]])\n",
        "\n",
        "Arousal_Train = np.ravel(Y[:, [0]])\n",
        "Valence_Train = np.ravel(Y[:, [1]])\n",
        "Domain_Train = np.ravel(Y[:, [2]])\n",
        "Like_Train = np.ravel(Y[:, [3]])"
      ],
      "execution_count": null,
      "outputs": []
    },
    {
      "cell_type": "code",
      "metadata": {
        "id": "O-kXkIKo_3eY",
        "colab": {
          "base_uri": "https://localhost:8080/"
        },
        "outputId": "7463ac67-497e-49e9-853f-1f78ba9610b3"
      },
      "source": [
        "X.shape"
      ],
      "execution_count": null,
      "outputs": [
        {
          "output_type": "execute_result",
          "data": {
            "text/plain": [
              "(156160, 85)"
            ]
          },
          "metadata": {
            "tags": []
          },
          "execution_count": 11
        }
      ]
    },
    {
      "cell_type": "code",
      "metadata": {
        "id": "u7QbIvJF_7YH",
        "colab": {
          "base_uri": "https://localhost:8080/"
        },
        "outputId": "9ddc2595-e7b1-4e45-86d7-0eb93dca68b5"
      },
      "source": [
        "from keras.utils import to_categorical\n",
        "y_train = to_categorical(Z)\n",
        "y_train"
      ],
      "execution_count": null,
      "outputs": [
        {
          "output_type": "execute_result",
          "data": {
            "text/plain": [
              "array([[0., 0., 0., ..., 1., 0., 0.],\n",
              "       [0., 0., 0., ..., 1., 0., 0.],\n",
              "       [0., 0., 0., ..., 1., 0., 0.],\n",
              "       ...,\n",
              "       [0., 0., 0., ..., 0., 0., 0.],\n",
              "       [0., 0., 0., ..., 0., 0., 0.],\n",
              "       [0., 0., 0., ..., 0., 0., 0.]], dtype=float32)"
            ]
          },
          "metadata": {
            "tags": []
          },
          "execution_count": 12
        }
      ]
    },
    {
      "cell_type": "code",
      "metadata": {
        "id": "vz6DyN6i4Ten",
        "colab": {
          "base_uri": "https://localhost:8080/"
        },
        "outputId": "ff702e25-8509-404a-b53c-797078e90633"
      },
      "source": [
        "y_train.shape"
      ],
      "execution_count": null,
      "outputs": [
        {
          "output_type": "execute_result",
          "data": {
            "text/plain": [
              "(156160, 10)"
            ]
          },
          "metadata": {
            "tags": []
          },
          "execution_count": 13
        }
      ]
    },
    {
      "cell_type": "code",
      "metadata": {
        "id": "n2nbzExFABT9"
      },
      "source": [
        "x_train = np.array(X[:])"
      ],
      "execution_count": null,
      "outputs": []
    },
    {
      "cell_type": "code",
      "source": [
        "with open('/content/drive/MyDrive/BTP/data_preprocessed_python/Wavelet/data_testing.npy', 'rb') as fileTrain:\n",
        "    M  = np.load(fileTrain)\n",
        "    \n",
        "with open('/content/drive/MyDrive/BTP/data_preprocessed_python/Wavelet/label_testing.npy', 'rb') as fileTrainL:\n",
        "    N  = np.load(fileTrainL)\n",
        "\n",
        "M = normalize(M)\n",
        "L = np.ravel(N[:, [1]])\n",
        "\n",
        "Arousal_Test = np.ravel(N[:, [0]])\n",
        "Valence_Test = np.ravel(N[:, [1]])\n",
        "Domain_Test = np.ravel(N[:, [2]])\n",
        "Like_Test = np.ravel(N[:, [3]])"
      ],
      "metadata": {
        "id": "A7CPfK629RLa"
      },
      "execution_count": null,
      "outputs": []
    },
    {
      "cell_type": "code",
      "metadata": {
        "id": "m4sxtvpQAOhK"
      },
      "source": [
        "x_test = np.array(M[:])"
      ],
      "execution_count": null,
      "outputs": []
    },
    {
      "cell_type": "code",
      "metadata": {
        "id": "r2RKm9KgASb4",
        "colab": {
          "base_uri": "https://localhost:8080/"
        },
        "outputId": "24fd4815-4810-4940-9a2e-3d93e47f1684"
      },
      "source": [
        "from keras.utils import to_categorical #to_categorical is used to convert array of labeled data(from 0 to nb_classes - 1 ) to one-hot vector\n",
        "y_test = to_categorical(L)\n",
        "y_test"
      ],
      "execution_count": null,
      "outputs": [
        {
          "output_type": "execute_result",
          "data": {
            "text/plain": [
              "array([[0., 0., 0., ..., 1., 0., 0.],\n",
              "       [0., 0., 0., ..., 1., 0., 0.],\n",
              "       [0., 0., 0., ..., 1., 0., 0.],\n",
              "       ...,\n",
              "       [0., 0., 0., ..., 0., 0., 0.],\n",
              "       [0., 0., 0., ..., 0., 0., 0.],\n",
              "       [0., 0., 0., ..., 0., 0., 0.]], dtype=float32)"
            ]
          },
          "metadata": {
            "tags": []
          },
          "execution_count": 17
        }
      ]
    },
    {
      "cell_type": "code",
      "metadata": {
        "id": "UmwAfzADsRe1",
        "colab": {
          "base_uri": "https://localhost:8080/"
        },
        "outputId": "5c15c354-8624-4e60-d6f8-121e18eee437"
      },
      "source": [
        "y_test[1]"
      ],
      "execution_count": null,
      "outputs": [
        {
          "output_type": "execute_result",
          "data": {
            "text/plain": [
              "array([0., 0., 0., 0., 0., 0., 0., 1., 0., 0.], dtype=float32)"
            ]
          },
          "metadata": {
            "tags": []
          },
          "execution_count": 18
        }
      ]
    },
    {
      "cell_type": "code",
      "metadata": {
        "id": "rKnp-c5EAVGJ"
      },
      "source": [
        "from sklearn.preprocessing import StandardScaler\n",
        "scaler = StandardScaler()\n",
        "x_train = scaler.fit_transform(x_train)\n",
        "x_test = scaler.fit_transform(x_test)"
      ],
      "execution_count": null,
      "outputs": []
    },
    {
      "cell_type": "code",
      "metadata": {
        "id": "WC6VSZLUBCiS"
      },
      "source": [
        "x_train = x_train.reshape(x_train.shape[0],x_train.shape[1], 1)\n",
        "x_test = x_test.reshape(x_test.shape[0],x_test.shape[1], 1)"
      ],
      "execution_count": null,
      "outputs": []
    },
    {
      "cell_type": "code",
      "metadata": {
        "id": "F3CYMY96BE0i",
        "colab": {
          "base_uri": "https://localhost:8080/"
        },
        "outputId": "c2b14564-53a7-46a1-d34d-5571785832f4"
      },
      "source": [
        "x_train.shape"
      ],
      "execution_count": null,
      "outputs": [
        {
          "output_type": "execute_result",
          "data": {
            "text/plain": [
              "(156160, 85, 1)"
            ]
          },
          "metadata": {
            "tags": []
          },
          "execution_count": 21
        }
      ]
    },
    {
      "cell_type": "code",
      "metadata": {
        "id": "V8NOrABgBWzf"
      },
      "source": [
        "batch_size = 256\n",
        "num_classes = 10\n",
        "epochs = 200\n",
        "input_shape=(x_train.shape[1], 1)"
      ],
      "execution_count": null,
      "outputs": []
    },
    {
      "cell_type": "code",
      "metadata": {
        "id": "_W9u_IH6BaaS",
        "colab": {
          "base_uri": "https://localhost:8080/"
        },
        "outputId": "35077e1a-b1eb-418f-e15f-9bf0ec2ccf86"
      },
      "source": [
        "print(input_shape)"
      ],
      "execution_count": null,
      "outputs": [
        {
          "output_type": "stream",
          "text": [
            "(85, 1)\n"
          ],
          "name": "stdout"
        }
      ]
    },
    {
      "cell_type": "code",
      "metadata": {
        "id": "FrpmQ4QWBc4_"
      },
      "source": [
        "from keras.layers import Convolution1D, ZeroPadding1D, MaxPooling1D, BatchNormalization, Activation, Dropout, Flatten, Dense\n",
        "from keras.regularizers import l2"
      ],
      "execution_count": null,
      "outputs": []
    },
    {
      "cell_type": "code",
      "metadata": {
        "id": "2B1ezppYCOhJ",
        "colab": {
          "base_uri": "https://localhost:8080/"
        },
        "outputId": "92008a49-d18f-46db-d861-a3ee28a4d119"
      },
      "source": [
        "model = Sequential()\n",
        "from keras.layers import LeakyReLU\n",
        "intput_shape=(x_train.shape[1], 1)\n",
        "model.add(Conv1D(128, kernel_size=3,padding = 'same',activation=LeakyReLU(alpha=0.2), input_shape=input_shape))\n",
        "model.add(BatchNormalization())\n",
        "model.add(MaxPooling1D(pool_size=(2)))\n",
        "model.add(Conv1D(64,kernel_size=3,padding = 'same', activation=LeakyReLU(alpha=0.2)))\n",
        "model.add(BatchNormalization())\n",
        "model.add(MaxPooling1D(pool_size=(2)))\n",
        "model.add(Conv1D(128,kernel_size=3,padding = 'same', activation=LeakyReLU(alpha=0.2)))\n",
        "model.add(BatchNormalization())\n",
        "model.add(MaxPooling1D(pool_size=(2)))\n",
        "model.add(Dropout(0.2))\n",
        "model.add(Conv1D(32,kernel_size=3,padding = 'same', activation=LeakyReLU(alpha=0.2)))\n",
        "model.add(BatchNormalization())\n",
        "model.add(MaxPooling1D(pool_size=(2)))\n",
        "model.add(Conv1D(64,kernel_size=3,padding = 'same', activation=LeakyReLU(alpha=0.2)))\n",
        "model.add(BatchNormalization())\n",
        "model.add(MaxPooling1D(pool_size=(2)))\n",
        "model.add(Flatten())\n",
        "model.add(Dense(64, activation=LeakyReLU(alpha=0.2)))\n",
        "model.add(Dropout(0.2))\n",
        "model.add(Dense(num_classes, activation='softmax'))\n",
        "model.summary()"
      ],
      "execution_count": null,
      "outputs": [
        {
          "output_type": "stream",
          "text": [
            "Model: \"sequential\"\n",
            "_________________________________________________________________\n",
            "Layer (type)                 Output Shape              Param #   \n",
            "=================================================================\n",
            "conv1d (Conv1D)              (None, 85, 128)           512       \n",
            "_________________________________________________________________\n",
            "batch_normalization (BatchNo (None, 85, 128)           512       \n",
            "_________________________________________________________________\n",
            "max_pooling1d (MaxPooling1D) (None, 42, 128)           0         \n",
            "_________________________________________________________________\n",
            "conv1d_1 (Conv1D)            (None, 42, 64)            24640     \n",
            "_________________________________________________________________\n",
            "batch_normalization_1 (Batch (None, 42, 64)            256       \n",
            "_________________________________________________________________\n",
            "max_pooling1d_1 (MaxPooling1 (None, 21, 64)            0         \n",
            "_________________________________________________________________\n",
            "conv1d_2 (Conv1D)            (None, 21, 128)           24704     \n",
            "_________________________________________________________________\n",
            "batch_normalization_2 (Batch (None, 21, 128)           512       \n",
            "_________________________________________________________________\n",
            "max_pooling1d_2 (MaxPooling1 (None, 10, 128)           0         \n",
            "_________________________________________________________________\n",
            "dropout (Dropout)            (None, 10, 128)           0         \n",
            "_________________________________________________________________\n",
            "conv1d_3 (Conv1D)            (None, 10, 32)            12320     \n",
            "_________________________________________________________________\n",
            "batch_normalization_3 (Batch (None, 10, 32)            128       \n",
            "_________________________________________________________________\n",
            "max_pooling1d_3 (MaxPooling1 (None, 5, 32)             0         \n",
            "_________________________________________________________________\n",
            "conv1d_4 (Conv1D)            (None, 5, 64)             6208      \n",
            "_________________________________________________________________\n",
            "batch_normalization_4 (Batch (None, 5, 64)             256       \n",
            "_________________________________________________________________\n",
            "max_pooling1d_4 (MaxPooling1 (None, 2, 64)             0         \n",
            "_________________________________________________________________\n",
            "flatten (Flatten)            (None, 128)               0         \n",
            "_________________________________________________________________\n",
            "dense (Dense)                (None, 64)                8256      \n",
            "_________________________________________________________________\n",
            "dropout_1 (Dropout)          (None, 64)                0         \n",
            "_________________________________________________________________\n",
            "dense_1 (Dense)              (None, 10)                650       \n",
            "=================================================================\n",
            "Total params: 78,954\n",
            "Trainable params: 78,122\n",
            "Non-trainable params: 832\n",
            "_________________________________________________________________\n"
          ],
          "name": "stdout"
        }
      ]
    },
    {
      "cell_type": "code",
      "metadata": {
        "id": "A7abBpBSCY-o"
      },
      "source": [
        "model.compile(loss=keras.losses.categorical_crossentropy,\n",
        "              optimizer='adam',\n",
        "              metrics=['accuracy'])"
      ],
      "execution_count": null,
      "outputs": []
    },
    {
      "cell_type": "code",
      "metadata": {
        "id": "vaZ4RPIqCfYF",
        "colab": {
          "base_uri": "https://localhost:8080/"
        },
        "outputId": "8ceb1cb4-9a29-415f-c449-becf9a22f712"
      },
      "source": [
        "history=model.fit(x_train, y_train,\n",
        "          batch_size=batch_size,\n",
        "          epochs=epochs,  \n",
        "          verbose=1,validation_data=(x_test,y_test))"
      ],
      "execution_count": null,
      "outputs": [
        {
          "output_type": "stream",
          "text": [
            "Epoch 1/200\n",
            "610/610 [==============================] - 41s 12ms/step - loss: 1.7924 - accuracy: 0.3144 - val_loss: 1.4956 - val_accuracy: 0.4023\n",
            "Epoch 2/200\n",
            "610/610 [==============================] - 6s 11ms/step - loss: 1.5047 - accuracy: 0.3996 - val_loss: 1.3597 - val_accuracy: 0.4625\n",
            "Epoch 3/200\n",
            "610/610 [==============================] - 6s 11ms/step - loss: 1.4049 - accuracy: 0.4417 - val_loss: 1.2583 - val_accuracy: 0.5032\n",
            "Epoch 4/200\n",
            "610/610 [==============================] - 7s 11ms/step - loss: 1.3301 - accuracy: 0.4734 - val_loss: 1.1897 - val_accuracy: 0.5317\n",
            "Epoch 5/200\n",
            "610/610 [==============================] - 7s 11ms/step - loss: 1.2663 - accuracy: 0.4979 - val_loss: 1.1382 - val_accuracy: 0.5572\n",
            "Epoch 6/200\n",
            "610/610 [==============================] - 7s 11ms/step - loss: 1.2119 - accuracy: 0.5225 - val_loss: 1.0886 - val_accuracy: 0.5744\n",
            "Epoch 7/200\n",
            "610/610 [==============================] - 7s 11ms/step - loss: 1.1770 - accuracy: 0.5382 - val_loss: 1.0443 - val_accuracy: 0.5940\n",
            "Epoch 8/200\n",
            "610/610 [==============================] - 7s 11ms/step - loss: 1.1430 - accuracy: 0.5533 - val_loss: 1.0154 - val_accuracy: 0.6094\n",
            "Epoch 9/200\n",
            "610/610 [==============================] - 7s 11ms/step - loss: 1.1156 - accuracy: 0.5639 - val_loss: 0.9960 - val_accuracy: 0.6170\n",
            "Epoch 10/200\n",
            "610/610 [==============================] - 7s 11ms/step - loss: 1.0917 - accuracy: 0.5727 - val_loss: 0.9677 - val_accuracy: 0.6255\n",
            "Epoch 11/200\n",
            "610/610 [==============================] - 7s 11ms/step - loss: 1.0724 - accuracy: 0.5832 - val_loss: 0.9499 - val_accuracy: 0.6318\n",
            "Epoch 12/200\n",
            "610/610 [==============================] - 7s 11ms/step - loss: 1.0430 - accuracy: 0.5942 - val_loss: 0.9296 - val_accuracy: 0.6452\n",
            "Epoch 13/200\n",
            "610/610 [==============================] - 7s 11ms/step - loss: 1.0300 - accuracy: 0.5978 - val_loss: 0.9004 - val_accuracy: 0.6573\n",
            "Epoch 14/200\n",
            "610/610 [==============================] - 7s 11ms/step - loss: 1.0169 - accuracy: 0.6057 - val_loss: 0.8844 - val_accuracy: 0.6599\n",
            "Epoch 15/200\n",
            "610/610 [==============================] - 7s 11ms/step - loss: 0.9987 - accuracy: 0.6131 - val_loss: 0.8710 - val_accuracy: 0.6706\n",
            "Epoch 16/200\n",
            "610/610 [==============================] - 7s 11ms/step - loss: 0.9820 - accuracy: 0.6183 - val_loss: 0.8587 - val_accuracy: 0.6751\n",
            "Epoch 17/200\n",
            "610/610 [==============================] - 7s 11ms/step - loss: 0.9726 - accuracy: 0.6252 - val_loss: 0.8516 - val_accuracy: 0.6758\n",
            "Epoch 18/200\n",
            "610/610 [==============================] - 7s 11ms/step - loss: 0.9610 - accuracy: 0.6315 - val_loss: 0.8453 - val_accuracy: 0.6803\n",
            "Epoch 19/200\n",
            "610/610 [==============================] - 7s 11ms/step - loss: 0.9426 - accuracy: 0.6378 - val_loss: 0.8262 - val_accuracy: 0.6851\n",
            "Epoch 20/200\n",
            "610/610 [==============================] - 7s 11ms/step - loss: 0.9407 - accuracy: 0.6378 - val_loss: 0.8206 - val_accuracy: 0.6900\n",
            "Epoch 21/200\n",
            "610/610 [==============================] - 7s 11ms/step - loss: 0.9299 - accuracy: 0.6427 - val_loss: 0.8135 - val_accuracy: 0.6923\n",
            "Epoch 22/200\n",
            "610/610 [==============================] - 7s 11ms/step - loss: 0.9192 - accuracy: 0.6472 - val_loss: 0.7905 - val_accuracy: 0.7025\n",
            "Epoch 23/200\n",
            "610/610 [==============================] - 7s 11ms/step - loss: 0.9174 - accuracy: 0.6484 - val_loss: 0.7810 - val_accuracy: 0.7077\n",
            "Epoch 24/200\n",
            "610/610 [==============================] - 7s 11ms/step - loss: 0.9025 - accuracy: 0.6534 - val_loss: 0.7747 - val_accuracy: 0.7127\n",
            "Epoch 25/200\n",
            "610/610 [==============================] - 7s 11ms/step - loss: 0.8985 - accuracy: 0.6550 - val_loss: 0.7698 - val_accuracy: 0.7091\n",
            "Epoch 26/200\n",
            "610/610 [==============================] - 7s 11ms/step - loss: 0.8918 - accuracy: 0.6573 - val_loss: 0.7756 - val_accuracy: 0.7087\n",
            "Epoch 27/200\n",
            "610/610 [==============================] - 7s 11ms/step - loss: 0.8837 - accuracy: 0.6609 - val_loss: 0.7555 - val_accuracy: 0.7194\n",
            "Epoch 28/200\n",
            "610/610 [==============================] - 7s 11ms/step - loss: 0.8819 - accuracy: 0.6617 - val_loss: 0.7524 - val_accuracy: 0.7212\n",
            "Epoch 29/200\n",
            "610/610 [==============================] - 7s 11ms/step - loss: 0.8686 - accuracy: 0.6667 - val_loss: 0.7489 - val_accuracy: 0.7210\n",
            "Epoch 30/200\n",
            "610/610 [==============================] - 7s 11ms/step - loss: 0.8673 - accuracy: 0.6672 - val_loss: 0.7442 - val_accuracy: 0.7227\n",
            "Epoch 31/200\n",
            "610/610 [==============================] - 7s 11ms/step - loss: 0.8619 - accuracy: 0.6694 - val_loss: 0.7374 - val_accuracy: 0.7273\n",
            "Epoch 32/200\n",
            "610/610 [==============================] - 7s 11ms/step - loss: 0.8583 - accuracy: 0.6738 - val_loss: 0.7205 - val_accuracy: 0.7377\n",
            "Epoch 33/200\n",
            "610/610 [==============================] - 7s 11ms/step - loss: 0.8505 - accuracy: 0.6750 - val_loss: 0.7087 - val_accuracy: 0.7387\n",
            "Epoch 34/200\n",
            "610/610 [==============================] - 7s 11ms/step - loss: 0.8429 - accuracy: 0.6772 - val_loss: 0.7168 - val_accuracy: 0.7351\n",
            "Epoch 35/200\n",
            "610/610 [==============================] - 7s 11ms/step - loss: 0.8379 - accuracy: 0.6804 - val_loss: 0.7135 - val_accuracy: 0.7376\n",
            "Epoch 36/200\n",
            "610/610 [==============================] - 7s 11ms/step - loss: 0.8312 - accuracy: 0.6847 - val_loss: 0.7087 - val_accuracy: 0.7393\n",
            "Epoch 37/200\n",
            "610/610 [==============================] - 7s 11ms/step - loss: 0.8328 - accuracy: 0.6811 - val_loss: 0.7036 - val_accuracy: 0.7433\n",
            "Epoch 38/200\n",
            "610/610 [==============================] - 7s 11ms/step - loss: 0.8215 - accuracy: 0.6884 - val_loss: 0.6991 - val_accuracy: 0.7464\n",
            "Epoch 39/200\n",
            "610/610 [==============================] - 7s 11ms/step - loss: 0.8185 - accuracy: 0.6880 - val_loss: 0.6922 - val_accuracy: 0.7475\n",
            "Epoch 40/200\n",
            "610/610 [==============================] - 7s 11ms/step - loss: 0.8153 - accuracy: 0.6887 - val_loss: 0.6784 - val_accuracy: 0.7547\n",
            "Epoch 41/200\n",
            "610/610 [==============================] - 7s 11ms/step - loss: 0.8074 - accuracy: 0.6918 - val_loss: 0.6941 - val_accuracy: 0.7469\n",
            "Epoch 42/200\n",
            "610/610 [==============================] - 7s 11ms/step - loss: 0.8087 - accuracy: 0.6907 - val_loss: 0.6787 - val_accuracy: 0.7522\n",
            "Epoch 43/200\n",
            "610/610 [==============================] - 7s 11ms/step - loss: 0.8030 - accuracy: 0.6952 - val_loss: 0.6687 - val_accuracy: 0.7560\n",
            "Epoch 44/200\n",
            "610/610 [==============================] - 7s 11ms/step - loss: 0.7959 - accuracy: 0.6972 - val_loss: 0.6769 - val_accuracy: 0.7530\n",
            "Epoch 45/200\n",
            "610/610 [==============================] - 7s 11ms/step - loss: 0.7926 - accuracy: 0.7005 - val_loss: 0.6612 - val_accuracy: 0.7616\n",
            "Epoch 46/200\n",
            "610/610 [==============================] - 7s 11ms/step - loss: 0.7997 - accuracy: 0.6989 - val_loss: 0.6620 - val_accuracy: 0.7602\n",
            "Epoch 47/200\n",
            "610/610 [==============================] - 7s 11ms/step - loss: 0.7900 - accuracy: 0.7005 - val_loss: 0.6517 - val_accuracy: 0.7637\n",
            "Epoch 48/200\n",
            "610/610 [==============================] - 7s 11ms/step - loss: 0.7881 - accuracy: 0.7020 - val_loss: 0.6547 - val_accuracy: 0.7631\n",
            "Epoch 49/200\n",
            "610/610 [==============================] - 7s 11ms/step - loss: 0.7847 - accuracy: 0.7029 - val_loss: 0.6492 - val_accuracy: 0.7640\n",
            "Epoch 50/200\n",
            "610/610 [==============================] - 7s 11ms/step - loss: 0.7808 - accuracy: 0.7061 - val_loss: 0.6490 - val_accuracy: 0.7648\n",
            "Epoch 51/200\n",
            "610/610 [==============================] - 7s 11ms/step - loss: 0.7779 - accuracy: 0.7053 - val_loss: 0.6537 - val_accuracy: 0.7627\n",
            "Epoch 52/200\n",
            "610/610 [==============================] - 7s 11ms/step - loss: 0.7771 - accuracy: 0.7067 - val_loss: 0.6462 - val_accuracy: 0.7691\n",
            "Epoch 53/200\n",
            "610/610 [==============================] - 7s 11ms/step - loss: 0.7772 - accuracy: 0.7068 - val_loss: 0.6341 - val_accuracy: 0.7702\n",
            "Epoch 54/200\n",
            "610/610 [==============================] - 7s 11ms/step - loss: 0.7691 - accuracy: 0.7095 - val_loss: 0.6332 - val_accuracy: 0.7725\n",
            "Epoch 55/200\n",
            "610/610 [==============================] - 7s 11ms/step - loss: 0.7752 - accuracy: 0.7062 - val_loss: 0.6423 - val_accuracy: 0.7671\n",
            "Epoch 56/200\n",
            "610/610 [==============================] - 7s 11ms/step - loss: 0.7708 - accuracy: 0.7083 - val_loss: 0.6429 - val_accuracy: 0.7673\n",
            "Epoch 57/200\n",
            "610/610 [==============================] - 7s 11ms/step - loss: 0.7669 - accuracy: 0.7111 - val_loss: 0.6296 - val_accuracy: 0.7727\n",
            "Epoch 58/200\n",
            "610/610 [==============================] - 7s 11ms/step - loss: 0.7635 - accuracy: 0.7115 - val_loss: 0.6244 - val_accuracy: 0.7749\n",
            "Epoch 59/200\n",
            "610/610 [==============================] - 7s 11ms/step - loss: 0.7563 - accuracy: 0.7135 - val_loss: 0.6220 - val_accuracy: 0.7757\n",
            "Epoch 60/200\n",
            "610/610 [==============================] - 7s 11ms/step - loss: 0.7515 - accuracy: 0.7148 - val_loss: 0.6297 - val_accuracy: 0.7704\n",
            "Epoch 61/200\n",
            "610/610 [==============================] - 7s 11ms/step - loss: 0.7543 - accuracy: 0.7154 - val_loss: 0.6342 - val_accuracy: 0.7707\n",
            "Epoch 62/200\n",
            "610/610 [==============================] - 7s 11ms/step - loss: 0.7489 - accuracy: 0.7170 - val_loss: 0.6198 - val_accuracy: 0.7772\n",
            "Epoch 63/200\n",
            "610/610 [==============================] - 7s 11ms/step - loss: 0.7491 - accuracy: 0.7181 - val_loss: 0.6170 - val_accuracy: 0.7765\n",
            "Epoch 64/200\n",
            "610/610 [==============================] - 7s 11ms/step - loss: 0.7445 - accuracy: 0.7185 - val_loss: 0.6116 - val_accuracy: 0.7780\n",
            "Epoch 65/200\n",
            "610/610 [==============================] - 7s 11ms/step - loss: 0.7410 - accuracy: 0.7205 - val_loss: 0.6136 - val_accuracy: 0.7784\n",
            "Epoch 66/200\n",
            "610/610 [==============================] - 7s 11ms/step - loss: 0.7453 - accuracy: 0.7181 - val_loss: 0.6121 - val_accuracy: 0.7784\n",
            "Epoch 67/200\n",
            "610/610 [==============================] - 7s 11ms/step - loss: 0.7404 - accuracy: 0.7213 - val_loss: 0.6041 - val_accuracy: 0.7848\n",
            "Epoch 68/200\n",
            "610/610 [==============================] - 7s 11ms/step - loss: 0.7378 - accuracy: 0.7208 - val_loss: 0.6108 - val_accuracy: 0.7813\n",
            "Epoch 69/200\n",
            "610/610 [==============================] - 7s 11ms/step - loss: 0.7308 - accuracy: 0.7243 - val_loss: 0.6045 - val_accuracy: 0.7836\n",
            "Epoch 70/200\n",
            "610/610 [==============================] - 7s 11ms/step - loss: 0.7350 - accuracy: 0.7220 - val_loss: 0.6074 - val_accuracy: 0.7803\n",
            "Epoch 71/200\n",
            "610/610 [==============================] - 7s 11ms/step - loss: 0.7323 - accuracy: 0.7260 - val_loss: 0.5995 - val_accuracy: 0.7873\n",
            "Epoch 72/200\n",
            "610/610 [==============================] - 7s 11ms/step - loss: 0.7322 - accuracy: 0.7235 - val_loss: 0.6027 - val_accuracy: 0.7888\n",
            "Epoch 73/200\n",
            "610/610 [==============================] - 7s 11ms/step - loss: 0.7296 - accuracy: 0.7254 - val_loss: 0.5944 - val_accuracy: 0.7874\n",
            "Epoch 74/200\n",
            "610/610 [==============================] - 7s 11ms/step - loss: 0.7283 - accuracy: 0.7257 - val_loss: 0.6051 - val_accuracy: 0.7797\n",
            "Epoch 75/200\n",
            "610/610 [==============================] - 7s 11ms/step - loss: 0.7238 - accuracy: 0.7264 - val_loss: 0.5984 - val_accuracy: 0.7875\n",
            "Epoch 76/200\n",
            "610/610 [==============================] - 7s 11ms/step - loss: 0.7215 - accuracy: 0.7278 - val_loss: 0.5991 - val_accuracy: 0.7857\n",
            "Epoch 77/200\n",
            "610/610 [==============================] - 7s 11ms/step - loss: 0.7166 - accuracy: 0.7292 - val_loss: 0.5943 - val_accuracy: 0.7891\n",
            "Epoch 78/200\n",
            "610/610 [==============================] - 7s 11ms/step - loss: 0.7159 - accuracy: 0.7311 - val_loss: 0.5922 - val_accuracy: 0.7884\n",
            "Epoch 79/200\n",
            "610/610 [==============================] - 7s 11ms/step - loss: 0.7205 - accuracy: 0.7308 - val_loss: 0.5846 - val_accuracy: 0.7929\n",
            "Epoch 80/200\n",
            "610/610 [==============================] - 7s 11ms/step - loss: 0.7174 - accuracy: 0.7320 - val_loss: 0.5875 - val_accuracy: 0.7930\n",
            "Epoch 81/200\n",
            "610/610 [==============================] - 7s 11ms/step - loss: 0.7165 - accuracy: 0.7316 - val_loss: 0.5909 - val_accuracy: 0.7900\n",
            "Epoch 82/200\n",
            "610/610 [==============================] - 7s 11ms/step - loss: 0.7120 - accuracy: 0.7332 - val_loss: 0.5846 - val_accuracy: 0.7921\n",
            "Epoch 83/200\n",
            "610/610 [==============================] - 7s 11ms/step - loss: 0.7148 - accuracy: 0.7326 - val_loss: 0.5966 - val_accuracy: 0.7868\n",
            "Epoch 84/200\n",
            "610/610 [==============================] - 7s 11ms/step - loss: 0.7135 - accuracy: 0.7333 - val_loss: 0.5785 - val_accuracy: 0.7975\n",
            "Epoch 85/200\n",
            "610/610 [==============================] - 7s 11ms/step - loss: 0.7074 - accuracy: 0.7339 - val_loss: 0.5828 - val_accuracy: 0.7940\n",
            "Epoch 86/200\n",
            "610/610 [==============================] - 7s 11ms/step - loss: 0.7050 - accuracy: 0.7355 - val_loss: 0.5761 - val_accuracy: 0.7963\n",
            "Epoch 87/200\n",
            "610/610 [==============================] - 7s 11ms/step - loss: 0.7023 - accuracy: 0.7361 - val_loss: 0.5841 - val_accuracy: 0.7905\n",
            "Epoch 88/200\n",
            "610/610 [==============================] - 7s 11ms/step - loss: 0.7048 - accuracy: 0.7376 - val_loss: 0.5708 - val_accuracy: 0.7990\n",
            "Epoch 89/200\n",
            "610/610 [==============================] - 7s 11ms/step - loss: 0.7047 - accuracy: 0.7361 - val_loss: 0.5722 - val_accuracy: 0.7983\n",
            "Epoch 90/200\n",
            "610/610 [==============================] - 7s 11ms/step - loss: 0.6951 - accuracy: 0.7393 - val_loss: 0.5691 - val_accuracy: 0.7995\n",
            "Epoch 91/200\n",
            "610/610 [==============================] - 7s 11ms/step - loss: 0.6978 - accuracy: 0.7403 - val_loss: 0.5717 - val_accuracy: 0.7995\n",
            "Epoch 92/200\n",
            "610/610 [==============================] - 7s 11ms/step - loss: 0.7005 - accuracy: 0.7357 - val_loss: 0.5621 - val_accuracy: 0.8016\n",
            "Epoch 93/200\n",
            "610/610 [==============================] - 7s 11ms/step - loss: 0.7002 - accuracy: 0.7383 - val_loss: 0.5693 - val_accuracy: 0.7973\n",
            "Epoch 94/200\n",
            "610/610 [==============================] - 7s 11ms/step - loss: 0.6995 - accuracy: 0.7369 - val_loss: 0.5698 - val_accuracy: 0.7970\n",
            "Epoch 95/200\n",
            "610/610 [==============================] - 7s 11ms/step - loss: 0.6923 - accuracy: 0.7395 - val_loss: 0.5652 - val_accuracy: 0.8023\n",
            "Epoch 96/200\n",
            "610/610 [==============================] - 7s 11ms/step - loss: 0.6911 - accuracy: 0.7417 - val_loss: 0.5604 - val_accuracy: 0.7994\n",
            "Epoch 97/200\n",
            "610/610 [==============================] - 7s 11ms/step - loss: 0.6969 - accuracy: 0.7384 - val_loss: 0.5688 - val_accuracy: 0.7969\n",
            "Epoch 98/200\n",
            "610/610 [==============================] - 7s 11ms/step - loss: 0.6922 - accuracy: 0.7401 - val_loss: 0.5638 - val_accuracy: 0.7976\n",
            "Epoch 99/200\n",
            "610/610 [==============================] - 7s 11ms/step - loss: 0.6846 - accuracy: 0.7451 - val_loss: 0.5642 - val_accuracy: 0.8006\n",
            "Epoch 100/200\n",
            "610/610 [==============================] - 7s 11ms/step - loss: 0.6897 - accuracy: 0.7403 - val_loss: 0.5573 - val_accuracy: 0.8030\n",
            "Epoch 101/200\n",
            "610/610 [==============================] - 7s 11ms/step - loss: 0.6891 - accuracy: 0.7420 - val_loss: 0.5594 - val_accuracy: 0.8010\n",
            "Epoch 102/200\n",
            "610/610 [==============================] - 7s 11ms/step - loss: 0.6874 - accuracy: 0.7428 - val_loss: 0.5638 - val_accuracy: 0.7999\n",
            "Epoch 103/200\n",
            "610/610 [==============================] - 7s 11ms/step - loss: 0.6864 - accuracy: 0.7417 - val_loss: 0.5645 - val_accuracy: 0.8028\n",
            "Epoch 104/200\n",
            "610/610 [==============================] - 7s 11ms/step - loss: 0.6885 - accuracy: 0.7415 - val_loss: 0.5607 - val_accuracy: 0.8011\n",
            "Epoch 105/200\n",
            "610/610 [==============================] - 7s 11ms/step - loss: 0.6827 - accuracy: 0.7445 - val_loss: 0.5554 - val_accuracy: 0.8044\n",
            "Epoch 106/200\n",
            "610/610 [==============================] - 7s 11ms/step - loss: 0.6832 - accuracy: 0.7427 - val_loss: 0.5507 - val_accuracy: 0.8039\n",
            "Epoch 107/200\n",
            "610/610 [==============================] - 7s 11ms/step - loss: 0.6817 - accuracy: 0.7442 - val_loss: 0.5686 - val_accuracy: 0.7974\n",
            "Epoch 108/200\n",
            "610/610 [==============================] - 7s 11ms/step - loss: 0.6857 - accuracy: 0.7431 - val_loss: 0.5611 - val_accuracy: 0.7992\n",
            "Epoch 109/200\n",
            "610/610 [==============================] - 7s 11ms/step - loss: 0.6810 - accuracy: 0.7454 - val_loss: 0.5523 - val_accuracy: 0.8051\n",
            "Epoch 110/200\n",
            "610/610 [==============================] - 7s 11ms/step - loss: 0.6789 - accuracy: 0.7464 - val_loss: 0.5531 - val_accuracy: 0.8063\n",
            "Epoch 111/200\n",
            "610/610 [==============================] - 7s 11ms/step - loss: 0.6714 - accuracy: 0.7510 - val_loss: 0.5504 - val_accuracy: 0.8066\n",
            "Epoch 112/200\n",
            "610/610 [==============================] - 7s 11ms/step - loss: 0.6788 - accuracy: 0.7464 - val_loss: 0.5487 - val_accuracy: 0.8059\n",
            "Epoch 113/200\n",
            "610/610 [==============================] - 7s 11ms/step - loss: 0.6723 - accuracy: 0.7476 - val_loss: 0.5454 - val_accuracy: 0.8091\n",
            "Epoch 114/200\n",
            "610/610 [==============================] - 7s 11ms/step - loss: 0.6736 - accuracy: 0.7468 - val_loss: 0.5541 - val_accuracy: 0.8022\n",
            "Epoch 115/200\n",
            "610/610 [==============================] - 7s 11ms/step - loss: 0.6707 - accuracy: 0.7501 - val_loss: 0.5520 - val_accuracy: 0.8037\n",
            "Epoch 116/200\n",
            "610/610 [==============================] - 7s 11ms/step - loss: 0.6715 - accuracy: 0.7489 - val_loss: 0.5513 - val_accuracy: 0.8054\n",
            "Epoch 117/200\n",
            "610/610 [==============================] - 7s 11ms/step - loss: 0.6686 - accuracy: 0.7509 - val_loss: 0.5482 - val_accuracy: 0.8038\n",
            "Epoch 118/200\n",
            "610/610 [==============================] - 7s 11ms/step - loss: 0.6685 - accuracy: 0.7494 - val_loss: 0.5383 - val_accuracy: 0.8095\n",
            "Epoch 119/200\n",
            "610/610 [==============================] - 7s 11ms/step - loss: 0.6704 - accuracy: 0.7489 - val_loss: 0.5422 - val_accuracy: 0.8069\n",
            "Epoch 120/200\n",
            "610/610 [==============================] - 7s 11ms/step - loss: 0.6658 - accuracy: 0.7501 - val_loss: 0.5417 - val_accuracy: 0.8090\n",
            "Epoch 121/200\n",
            "610/610 [==============================] - 7s 11ms/step - loss: 0.6663 - accuracy: 0.7507 - val_loss: 0.5405 - val_accuracy: 0.8084\n",
            "Epoch 122/200\n",
            "610/610 [==============================] - 7s 11ms/step - loss: 0.6667 - accuracy: 0.7490 - val_loss: 0.5435 - val_accuracy: 0.8061\n",
            "Epoch 123/200\n",
            "610/610 [==============================] - 7s 11ms/step - loss: 0.6597 - accuracy: 0.7525 - val_loss: 0.5420 - val_accuracy: 0.8106\n",
            "Epoch 124/200\n",
            "610/610 [==============================] - 7s 11ms/step - loss: 0.6626 - accuracy: 0.7534 - val_loss: 0.5321 - val_accuracy: 0.8141\n",
            "Epoch 125/200\n",
            "610/610 [==============================] - 7s 11ms/step - loss: 0.6609 - accuracy: 0.7535 - val_loss: 0.5367 - val_accuracy: 0.8117\n",
            "Epoch 126/200\n",
            "610/610 [==============================] - 7s 11ms/step - loss: 0.6663 - accuracy: 0.7503 - val_loss: 0.5508 - val_accuracy: 0.8046\n",
            "Epoch 127/200\n",
            "610/610 [==============================] - 7s 11ms/step - loss: 0.6605 - accuracy: 0.7532 - val_loss: 0.5373 - val_accuracy: 0.8120\n",
            "Epoch 128/200\n",
            "610/610 [==============================] - 7s 11ms/step - loss: 0.6587 - accuracy: 0.7544 - val_loss: 0.5421 - val_accuracy: 0.8089\n",
            "Epoch 129/200\n",
            "610/610 [==============================] - 7s 11ms/step - loss: 0.6578 - accuracy: 0.7538 - val_loss: 0.5415 - val_accuracy: 0.8103\n",
            "Epoch 130/200\n",
            "610/610 [==============================] - 7s 11ms/step - loss: 0.6606 - accuracy: 0.7548 - val_loss: 0.5367 - val_accuracy: 0.8124\n",
            "Epoch 131/200\n",
            "610/610 [==============================] - 7s 11ms/step - loss: 0.6581 - accuracy: 0.7567 - val_loss: 0.5414 - val_accuracy: 0.8077\n",
            "Epoch 132/200\n",
            "610/610 [==============================] - 7s 11ms/step - loss: 0.6563 - accuracy: 0.7557 - val_loss: 0.5311 - val_accuracy: 0.8130\n",
            "Epoch 133/200\n",
            "610/610 [==============================] - 7s 11ms/step - loss: 0.6544 - accuracy: 0.7561 - val_loss: 0.5361 - val_accuracy: 0.8129\n",
            "Epoch 134/200\n",
            "610/610 [==============================] - 7s 11ms/step - loss: 0.6520 - accuracy: 0.7578 - val_loss: 0.5378 - val_accuracy: 0.8138\n",
            "Epoch 135/200\n",
            "610/610 [==============================] - 7s 11ms/step - loss: 0.6577 - accuracy: 0.7548 - val_loss: 0.5326 - val_accuracy: 0.8135\n",
            "Epoch 136/200\n",
            "610/610 [==============================] - 7s 11ms/step - loss: 0.6529 - accuracy: 0.7576 - val_loss: 0.5250 - val_accuracy: 0.8170\n",
            "Epoch 137/200\n",
            "610/610 [==============================] - 7s 11ms/step - loss: 0.6506 - accuracy: 0.7587 - val_loss: 0.5330 - val_accuracy: 0.8130\n",
            "Epoch 138/200\n",
            "610/610 [==============================] - 7s 11ms/step - loss: 0.6518 - accuracy: 0.7567 - val_loss: 0.5286 - val_accuracy: 0.8144\n",
            "Epoch 139/200\n",
            "610/610 [==============================] - 7s 11ms/step - loss: 0.6487 - accuracy: 0.7580 - val_loss: 0.5269 - val_accuracy: 0.8139\n",
            "Epoch 140/200\n",
            "610/610 [==============================] - 7s 11ms/step - loss: 0.6488 - accuracy: 0.7585 - val_loss: 0.5276 - val_accuracy: 0.8148\n",
            "Epoch 141/200\n",
            "610/610 [==============================] - 7s 11ms/step - loss: 0.6545 - accuracy: 0.7553 - val_loss: 0.5208 - val_accuracy: 0.8163\n",
            "Epoch 142/200\n",
            "610/610 [==============================] - 7s 11ms/step - loss: 0.6509 - accuracy: 0.7581 - val_loss: 0.5304 - val_accuracy: 0.8141\n",
            "Epoch 143/200\n",
            "610/610 [==============================] - 7s 11ms/step - loss: 0.6455 - accuracy: 0.7601 - val_loss: 0.5255 - val_accuracy: 0.8170\n",
            "Epoch 144/200\n",
            "610/610 [==============================] - 7s 11ms/step - loss: 0.6456 - accuracy: 0.7594 - val_loss: 0.5223 - val_accuracy: 0.8177\n",
            "Epoch 145/200\n",
            "610/610 [==============================] - 7s 11ms/step - loss: 0.6442 - accuracy: 0.7609 - val_loss: 0.5323 - val_accuracy: 0.8114\n",
            "Epoch 146/200\n",
            "610/610 [==============================] - 7s 11ms/step - loss: 0.6489 - accuracy: 0.7585 - val_loss: 0.5253 - val_accuracy: 0.8158\n",
            "Epoch 147/200\n",
            "610/610 [==============================] - 7s 11ms/step - loss: 0.6442 - accuracy: 0.7592 - val_loss: 0.5264 - val_accuracy: 0.8138\n",
            "Epoch 148/200\n",
            "610/610 [==============================] - 7s 11ms/step - loss: 0.6434 - accuracy: 0.7596 - val_loss: 0.5187 - val_accuracy: 0.8193\n",
            "Epoch 149/200\n",
            "610/610 [==============================] - 7s 11ms/step - loss: 0.6505 - accuracy: 0.7584 - val_loss: 0.5162 - val_accuracy: 0.8190\n",
            "Epoch 150/200\n",
            "610/610 [==============================] - 7s 11ms/step - loss: 0.6413 - accuracy: 0.7617 - val_loss: 0.5283 - val_accuracy: 0.8148\n",
            "Epoch 151/200\n",
            "610/610 [==============================] - 7s 11ms/step - loss: 0.6435 - accuracy: 0.7601 - val_loss: 0.5245 - val_accuracy: 0.8168\n",
            "Epoch 152/200\n",
            "610/610 [==============================] - 7s 11ms/step - loss: 0.6413 - accuracy: 0.7626 - val_loss: 0.5169 - val_accuracy: 0.8183\n",
            "Epoch 153/200\n",
            "610/610 [==============================] - 7s 11ms/step - loss: 0.6375 - accuracy: 0.7609 - val_loss: 0.5148 - val_accuracy: 0.8224\n",
            "Epoch 154/200\n",
            "610/610 [==============================] - 7s 11ms/step - loss: 0.6396 - accuracy: 0.7627 - val_loss: 0.5168 - val_accuracy: 0.8215\n",
            "Epoch 155/200\n",
            "610/610 [==============================] - 7s 11ms/step - loss: 0.6371 - accuracy: 0.7634 - val_loss: 0.5078 - val_accuracy: 0.8219\n",
            "Epoch 156/200\n",
            "610/610 [==============================] - 7s 11ms/step - loss: 0.6401 - accuracy: 0.7630 - val_loss: 0.5200 - val_accuracy: 0.8181\n",
            "Epoch 157/200\n",
            "610/610 [==============================] - 7s 11ms/step - loss: 0.6379 - accuracy: 0.7624 - val_loss: 0.5136 - val_accuracy: 0.8190\n",
            "Epoch 158/200\n",
            "610/610 [==============================] - 7s 11ms/step - loss: 0.6378 - accuracy: 0.7622 - val_loss: 0.5264 - val_accuracy: 0.8149\n",
            "Epoch 159/200\n",
            "610/610 [==============================] - 7s 11ms/step - loss: 0.6347 - accuracy: 0.7624 - val_loss: 0.5227 - val_accuracy: 0.8162\n",
            "Epoch 160/200\n",
            "610/610 [==============================] - 7s 11ms/step - loss: 0.6387 - accuracy: 0.7623 - val_loss: 0.5184 - val_accuracy: 0.8160\n",
            "Epoch 161/200\n",
            "610/610 [==============================] - 7s 11ms/step - loss: 0.6410 - accuracy: 0.7609 - val_loss: 0.5104 - val_accuracy: 0.8242\n",
            "Epoch 162/200\n",
            "610/610 [==============================] - 7s 11ms/step - loss: 0.6418 - accuracy: 0.7602 - val_loss: 0.5149 - val_accuracy: 0.8189\n",
            "Epoch 163/200\n",
            "610/610 [==============================] - 7s 11ms/step - loss: 0.6326 - accuracy: 0.7643 - val_loss: 0.5141 - val_accuracy: 0.8198\n",
            "Epoch 164/200\n",
            "610/610 [==============================] - 7s 11ms/step - loss: 0.6368 - accuracy: 0.7625 - val_loss: 0.5149 - val_accuracy: 0.8191\n",
            "Epoch 165/200\n",
            "610/610 [==============================] - 7s 11ms/step - loss: 0.6357 - accuracy: 0.7637 - val_loss: 0.5068 - val_accuracy: 0.8227\n",
            "Epoch 166/200\n",
            "610/610 [==============================] - 7s 11ms/step - loss: 0.6316 - accuracy: 0.7639 - val_loss: 0.5177 - val_accuracy: 0.8190\n",
            "Epoch 167/200\n",
            "610/610 [==============================] - 7s 11ms/step - loss: 0.6337 - accuracy: 0.7647 - val_loss: 0.5175 - val_accuracy: 0.8166\n",
            "Epoch 168/200\n",
            "610/610 [==============================] - 7s 11ms/step - loss: 0.6328 - accuracy: 0.7643 - val_loss: 0.5130 - val_accuracy: 0.8196\n",
            "Epoch 169/200\n",
            "610/610 [==============================] - 7s 11ms/step - loss: 0.6294 - accuracy: 0.7659 - val_loss: 0.5131 - val_accuracy: 0.8207\n",
            "Epoch 170/200\n",
            "610/610 [==============================] - 7s 11ms/step - loss: 0.6263 - accuracy: 0.7669 - val_loss: 0.5157 - val_accuracy: 0.8225\n",
            "Epoch 171/200\n",
            "610/610 [==============================] - 7s 11ms/step - loss: 0.6326 - accuracy: 0.7633 - val_loss: 0.5042 - val_accuracy: 0.8251\n",
            "Epoch 172/200\n",
            "610/610 [==============================] - 7s 11ms/step - loss: 0.6273 - accuracy: 0.7665 - val_loss: 0.5084 - val_accuracy: 0.8194\n",
            "Epoch 173/200\n",
            "610/610 [==============================] - 7s 11ms/step - loss: 0.6342 - accuracy: 0.7649 - val_loss: 0.5116 - val_accuracy: 0.8172\n",
            "Epoch 174/200\n",
            "610/610 [==============================] - 7s 11ms/step - loss: 0.6258 - accuracy: 0.7680 - val_loss: 0.5037 - val_accuracy: 0.8249\n",
            "Epoch 175/200\n",
            "610/610 [==============================] - 7s 11ms/step - loss: 0.6272 - accuracy: 0.7660 - val_loss: 0.5088 - val_accuracy: 0.8230\n",
            "Epoch 176/200\n",
            "610/610 [==============================] - 7s 11ms/step - loss: 0.6276 - accuracy: 0.7671 - val_loss: 0.5182 - val_accuracy: 0.8188\n",
            "Epoch 177/200\n",
            "610/610 [==============================] - 7s 11ms/step - loss: 0.6257 - accuracy: 0.7673 - val_loss: 0.5061 - val_accuracy: 0.8236\n",
            "Epoch 178/200\n",
            "610/610 [==============================] - 7s 11ms/step - loss: 0.6290 - accuracy: 0.7653 - val_loss: 0.5118 - val_accuracy: 0.8223\n",
            "Epoch 179/200\n",
            "610/610 [==============================] - 7s 11ms/step - loss: 0.6205 - accuracy: 0.7679 - val_loss: 0.5117 - val_accuracy: 0.8206\n",
            "Epoch 180/200\n",
            "610/610 [==============================] - 7s 11ms/step - loss: 0.6257 - accuracy: 0.7682 - val_loss: 0.5088 - val_accuracy: 0.8238\n",
            "Epoch 181/200\n",
            "610/610 [==============================] - 7s 11ms/step - loss: 0.6239 - accuracy: 0.7678 - val_loss: 0.5086 - val_accuracy: 0.8260\n",
            "Epoch 182/200\n",
            "610/610 [==============================] - 7s 11ms/step - loss: 0.6220 - accuracy: 0.7689 - val_loss: 0.5055 - val_accuracy: 0.8236\n",
            "Epoch 183/200\n",
            "610/610 [==============================] - 7s 11ms/step - loss: 0.6188 - accuracy: 0.7690 - val_loss: 0.4987 - val_accuracy: 0.8285\n",
            "Epoch 184/200\n",
            "610/610 [==============================] - 7s 11ms/step - loss: 0.6264 - accuracy: 0.7657 - val_loss: 0.4934 - val_accuracy: 0.8275\n",
            "Epoch 185/200\n",
            "610/610 [==============================] - 7s 11ms/step - loss: 0.6178 - accuracy: 0.7713 - val_loss: 0.5257 - val_accuracy: 0.8153\n",
            "Epoch 186/200\n",
            "610/610 [==============================] - 7s 11ms/step - loss: 0.6232 - accuracy: 0.7692 - val_loss: 0.5185 - val_accuracy: 0.8174\n",
            "Epoch 187/200\n",
            "610/610 [==============================] - 7s 11ms/step - loss: 0.6199 - accuracy: 0.7690 - val_loss: 0.5064 - val_accuracy: 0.8222\n",
            "Epoch 188/200\n",
            "610/610 [==============================] - 7s 11ms/step - loss: 0.6145 - accuracy: 0.7722 - val_loss: 0.5066 - val_accuracy: 0.8230\n",
            "Epoch 189/200\n",
            "610/610 [==============================] - 7s 11ms/step - loss: 0.6176 - accuracy: 0.7700 - val_loss: 0.4941 - val_accuracy: 0.8297\n",
            "Epoch 190/200\n",
            "610/610 [==============================] - 7s 11ms/step - loss: 0.6153 - accuracy: 0.7705 - val_loss: 0.4962 - val_accuracy: 0.8271\n",
            "Epoch 191/200\n",
            "610/610 [==============================] - 7s 11ms/step - loss: 0.6261 - accuracy: 0.7658 - val_loss: 0.4962 - val_accuracy: 0.8263\n",
            "Epoch 192/200\n",
            "610/610 [==============================] - 7s 12ms/step - loss: 0.6233 - accuracy: 0.7685 - val_loss: 0.4937 - val_accuracy: 0.8298\n",
            "Epoch 193/200\n",
            "610/610 [==============================] - 7s 11ms/step - loss: 0.6172 - accuracy: 0.7706 - val_loss: 0.4981 - val_accuracy: 0.8285\n",
            "Epoch 194/200\n",
            "610/610 [==============================] - 7s 11ms/step - loss: 0.6177 - accuracy: 0.7687 - val_loss: 0.4986 - val_accuracy: 0.8275\n",
            "Epoch 195/200\n",
            "610/610 [==============================] - 7s 11ms/step - loss: 0.6191 - accuracy: 0.7697 - val_loss: 0.4967 - val_accuracy: 0.8261\n",
            "Epoch 196/200\n",
            "610/610 [==============================] - 7s 11ms/step - loss: 0.6196 - accuracy: 0.7691 - val_loss: 0.4957 - val_accuracy: 0.8270\n",
            "Epoch 197/200\n",
            "610/610 [==============================] - 7s 11ms/step - loss: 0.6137 - accuracy: 0.7717 - val_loss: 0.4958 - val_accuracy: 0.8288\n",
            "Epoch 198/200\n",
            "610/610 [==============================] - 7s 11ms/step - loss: 0.6138 - accuracy: 0.7710 - val_loss: 0.4983 - val_accuracy: 0.8257\n",
            "Epoch 199/200\n",
            "610/610 [==============================] - 7s 11ms/step - loss: 0.6139 - accuracy: 0.7713 - val_loss: 0.4939 - val_accuracy: 0.8294\n",
            "Epoch 200/200\n",
            "610/610 [==============================] - 7s 11ms/step - loss: 0.6102 - accuracy: 0.7744 - val_loss: 0.4824 - val_accuracy: 0.8354\n"
          ],
          "name": "stdout"
        }
      ]
    },
    {
      "cell_type": "code",
      "metadata": {
        "id": "b_eZO6bTFLLX",
        "colab": {
          "base_uri": "https://localhost:8080/"
        },
        "outputId": "44b0a254-80d2-4028-dbea-ad12cbcf3d86"
      },
      "source": [
        "train_score = model.evaluate(x_train, y_train, verbose=1)\n",
        "print('Train loss:', train_score[0])\n",
        "print('Train accuracy:', train_score[1])"
      ],
      "execution_count": null,
      "outputs": [
        {
          "output_type": "stream",
          "text": [
            "4880/4880 [==============================] - 14s 3ms/step - loss: 0.3766 - accuracy: 0.8776\n",
            "Train loss: 0.37655529379844666\n",
            "Train accuracy: 0.8776447176933289\n"
          ],
          "name": "stdout"
        }
      ]
    },
    {
      "cell_type": "code",
      "metadata": {
        "id": "JY7d6VDZCjaO",
        "colab": {
          "base_uri": "https://localhost:8080/"
        },
        "outputId": "d0200032-dad9-4046-ac5a-2b7e6f1c0f5d"
      },
      "source": [
        "score = model.evaluate(x_test, y_test, verbose=1)\n",
        "print('Test loss:', score[0])\n",
        "print('Test accuracy:', score[1])"
      ],
      "execution_count": null,
      "outputs": [
        {
          "output_type": "stream",
          "text": [
            "1220/1220 [==============================] - 3s 3ms/step - loss: 0.4824 - accuracy: 0.8354\n",
            "Test loss: 0.4823954701423645\n",
            "Test accuracy: 0.8353739976882935\n"
          ],
          "name": "stdout"
        }
      ]
    },
    {
      "cell_type": "code",
      "metadata": {
        "id": "LV_xGFKhDt67",
        "colab": {
          "base_uri": "https://localhost:8080/"
        },
        "outputId": "9af732d9-024f-41f9-b7e3-b29785f278c3"
      },
      "source": [
        "# list all data in history\n",
        "print(history.history.keys())\n",
        "import matplotlib.pyplot as plt\n",
        "import numpy\n"
      ],
      "execution_count": null,
      "outputs": [
        {
          "output_type": "stream",
          "text": [
            "dict_keys(['loss', 'accuracy', 'val_loss', 'val_accuracy'])\n"
          ],
          "name": "stdout"
        }
      ]
    },
    {
      "cell_type": "code",
      "metadata": {
        "id": "dDQGSy8xFoob",
        "colab": {
          "base_uri": "https://localhost:8080/",
          "height": 295
        },
        "outputId": "eebe64a3-51c4-4189-b3c7-1669b817ce78"
      },
      "source": [
        "# summarize history for accuracy\n",
        "\n",
        "plt.plot(history.history['accuracy'])\n",
        "plt.plot(history.history['val_accuracy'])\n",
        "plt.title('model accuracy')\n",
        "plt.ylabel('accuracy')\n",
        "plt.xlabel('epoch')\n",
        "plt.legend(['train', 'test'], loc='upper left')\n",
        "plt.show()"
      ],
      "execution_count": null,
      "outputs": [
        {
          "output_type": "display_data",
          "data": {
            "image/png": "[encoded data removed]",
            "text/plain": [
              "<Figure size 432x288 with 1 Axes>"
            ]
          },
          "metadata": {
            "tags": [],
            "needs_background": "light"
          }
        }
      ]
    },
    {
      "cell_type": "code",
      "metadata": {
        "id": "Fgg6gD0BFnZS",
        "colab": {
          "base_uri": "https://localhost:8080/",
          "height": 295
        },
        "outputId": "78d1fdff-6540-439d-bb7f-554d67234878"
      },
      "source": [
        "# summarize history for loss\n",
        "plt.plot(history.history['loss'])\n",
        "plt.plot(history.history['val_loss'])\n",
        "plt.title('model loss')\n",
        "plt.ylabel('loss')\n",
        "plt.xlabel('epoch')\n",
        "plt.legend(['train', 'test'], loc='upper left')\n",
        "plt.show()"
      ],
      "execution_count": null,
      "outputs": [
        {
          "output_type": "display_data",
          "data": {
            "image/png": "[encoded data removed]",
            "text/plain": [
              "<Figure size 432x288 with 1 Axes>"
            ]
          },
          "metadata": {
            "tags": [],
            "needs_background": "light"
          }
        }
      ]
    },
    {
      "cell_type": "code",
      "metadata": {
        "id": "xZwaY3SeKnJb",
        "colab": {
          "base_uri": "https://localhost:8080/",
          "height": 295
        },
        "outputId": "9abe82bc-6a3f-4073-b009-a162b628f9ea"
      },
      "source": [
        "plt.plot(history.history['val_accuracy'])\n",
        "plt.plot(history.history['val_loss'])\n",
        "plt.title('test model')\n",
        "plt.ylabel('test accuracy')\n",
        "plt.xlabel('test loss')\n",
        "plt.show()"
      ],
      "execution_count": null,
      "outputs": [
        {
          "output_type": "display_data",
          "data": {
            "image/png": "[encoded data removed]",
            "text/plain": [
              "<Figure size 432x288 with 1 Axes>"
            ]
          },
          "metadata": {
            "tags": [],
            "needs_background": "light"
          }
        }
      ]
    },
    {
      "cell_type": "code",
      "metadata": {
        "id": "NGR4wrOdL5DF"
      },
      "source": [
        "y_pred=model.predict(x_test)\n",
        "from sklearn.metrics import confusion_matrix\n",
        "import numpy as np"
      ],
      "execution_count": null,
      "outputs": []
    },
    {
      "cell_type": "code",
      "metadata": {
        "id": "9y5wCoinVRhi",
        "colab": {
          "base_uri": "https://localhost:8080/"
        },
        "outputId": "87d5aa97-ce05-4fab-8a85-7b3d24009754"
      },
      "source": [
        "y_test[1]"
      ],
      "execution_count": null,
      "outputs": [
        {
          "output_type": "execute_result",
          "data": {
            "text/plain": [
              "array([0., 0., 0., 0., 0., 0., 0., 1., 0., 0.], dtype=float32)"
            ]
          },
          "metadata": {
            "tags": []
          },
          "execution_count": 35
        }
      ]
    },
    {
      "cell_type": "code",
      "metadata": {
        "id": "2q13VADTXlQ9",
        "colab": {
          "base_uri": "https://localhost:8080/"
        },
        "outputId": "18ab3199-f181-4179-d112-cbce265f1cbd"
      },
      "source": [
        "y_pred[1]"
      ],
      "execution_count": null,
      "outputs": [
        {
          "output_type": "execute_result",
          "data": {
            "text/plain": [
              "array([1.1868577e-26, 3.6481311e-11, 3.2125129e-08, 3.7299429e-05,\n",
              "       7.1350486e-09, 7.7913018e-07, 2.8813430e-08, 9.9995482e-01,\n",
              "       7.0819106e-06, 1.1770853e-14], dtype=float32)"
            ]
          },
          "metadata": {
            "tags": []
          },
          "execution_count": 36
        }
      ]
    },
    {
      "cell_type": "code",
      "metadata": {
        "id": "ilOzv9RdVOtg"
      },
      "source": [
        "y_test1=np.argmax(y_test, axis=1)"
      ],
      "execution_count": null,
      "outputs": []
    },
    {
      "cell_type": "code",
      "metadata": {
        "id": "Pvkh6dE6XzNa"
      },
      "source": [
        "y_pred=np.argmax(y_pred,axis=1)"
      ],
      "execution_count": null,
      "outputs": []
    },
    {
      "cell_type": "code",
      "metadata": {
        "id": "wLOOyigNaJke",
        "colab": {
          "base_uri": "https://localhost:8080/"
        },
        "outputId": "1a7825f4-a747-4a12-a014-8cd2e22fde25"
      },
      "source": [
        "y_test1[1]"
      ],
      "execution_count": null,
      "outputs": [
        {
          "output_type": "execute_result",
          "data": {
            "text/plain": [
              "7"
            ]
          },
          "metadata": {
            "tags": []
          },
          "execution_count": 39
        }
      ]
    },
    {
      "cell_type": "code",
      "metadata": {
        "id": "0f968lExaSRS",
        "colab": {
          "base_uri": "https://localhost:8080/"
        },
        "outputId": "e6ee477f-5fd6-4a0d-b55a-7bf9d892b977"
      },
      "source": [
        "y_pred[1]"
      ],
      "execution_count": null,
      "outputs": [
        {
          "output_type": "execute_result",
          "data": {
            "text/plain": [
              "7"
            ]
          },
          "metadata": {
            "tags": []
          },
          "execution_count": 40
        }
      ]
    },
    {
      "cell_type": "code",
      "metadata": {
        "id": "45fHlde5OtWn"
      },
      "source": [
        "cmatrix=confusion_matrix(y_test1, y_pred)"
      ],
      "execution_count": null,
      "outputs": []
    },
    {
      "cell_type": "code",
      "metadata": {
        "id": "7p70V5JCRyvZ",
        "colab": {
          "base_uri": "https://localhost:8080/",
          "height": 599
        },
        "outputId": "a7cc58a1-9dcc-4b17-88ff-47e34e1b6fbb"
      },
      "source": [
        "import seaborn as sns\n",
        "figure = plt.figure(figsize=(8, 8))\n",
        "sns.heatmap(cmatrix, annot=True,cmap=plt.cm.Blues)\n",
        "plt.tight_layout()\n",
        "plt.ylabel('True label')\n",
        "plt.xlabel('Predicted label')\n",
        "plt.show()"
      ],
      "execution_count": null,
      "outputs": [
        {
          "output_type": "display_data",
          "data": {
            "image/png": "[encoded data removed]",
            "text/plain": [
              "<Figure size 576x576 with 2 Axes>"
            ]
          },
          "metadata": {
            "tags": [],
            "needs_background": "light"
          }
        }
      ]
    }
  ]
}